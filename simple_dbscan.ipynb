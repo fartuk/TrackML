{
 "cells": [
  {
   "cell_type": "code",
   "execution_count": 130,
   "metadata": {},
   "outputs": [],
   "source": [
    "from trackml.dataset import load_event\n",
    "from trackml.dataset import load_dataset\n",
    "import pandas as pd\n",
    "import numpy as np\n",
    "import matplotlib.pyplot as plt\n",
    "from mpl_toolkits.mplot3d import Axes3D\n",
    "import random\n",
    "\n",
    "\n",
    "%matplotlib inline\n",
    "import matplotlib.pyplot as plt\n",
    "import numpy as np\n",
    "import pandas as pd\n",
    "import os\n",
    "\n",
    "from trackml.dataset import load_event, load_dataset\n",
    "from trackml.score import score_event\n",
    "\n",
    "from tqdm import tqdm\n"
   ]
  },
  {
   "cell_type": "code",
   "execution_count": 82,
   "metadata": {},
   "outputs": [],
   "source": [
    "cnt = 0\n",
    "for event_id, hits, cells, particles, truth in load_dataset('../storage/track_ml_data/train_5.zip'):\n",
    "    if cnt == 1:\n",
    "        break\n",
    "    cnt += 1"
   ]
  },
  {
   "cell_type": "code",
   "execution_count": 4,
   "metadata": {},
   "outputs": [
    {
     "data": {
      "text/plain": [
       "(134245, 7)"
      ]
     },
     "execution_count": 4,
     "metadata": {},
     "output_type": "execute_result"
    }
   ],
   "source": [
    "hits.shape"
   ]
  },
  {
   "cell_type": "code",
   "execution_count": 413,
   "metadata": {},
   "outputs": [
    {
     "data": {
      "text/plain": [
       "(100287, 7)"
      ]
     },
     "execution_count": 413,
     "metadata": {},
     "output_type": "execute_result"
    }
   ],
   "source": [
    "hits.shape"
   ]
  },
  {
   "cell_type": "code",
   "execution_count": 49,
   "metadata": {},
   "outputs": [
    {
     "data": {
      "text/plain": [
       "0.2365819488621897"
      ]
     },
     "execution_count": 49,
     "metadata": {},
     "output_type": "execute_result"
    }
   ],
   "source": [
    "score"
   ]
  },
  {
   "cell_type": "code",
   "execution_count": 16,
   "metadata": {},
   "outputs": [
    {
     "data": {
      "text/plain": [
       "0.23440822821310361"
      ]
     },
     "execution_count": 16,
     "metadata": {},
     "output_type": "execute_result"
    }
   ],
   "source": [
    "score"
   ]
  },
  {
   "cell_type": "code",
   "execution_count": 45,
   "metadata": {},
   "outputs": [
    {
     "data": {
      "text/plain": [
       "-34.57279"
      ]
     },
     "execution_count": 45,
     "metadata": {},
     "output_type": "execute_result"
    }
   ],
   "source": [
    "hits['z'].mean(0)"
   ]
  },
  {
   "cell_type": "code",
   "execution_count": null,
   "metadata": {},
   "outputs": [],
   "source": []
  },
  {
   "cell_type": "code",
   "execution_count": null,
   "metadata": {},
   "outputs": [],
   "source": []
  },
  {
   "cell_type": "code",
   "execution_count": 448,
   "metadata": {},
   "outputs": [],
   "source": [
    "class F1Optimizer():\n",
    "    def __init__(self):\n",
    "        pass\n",
    "\n",
    "    @staticmethod\n",
    "    def get_expectations(P, pNone=None):\n",
    "        expectations = []\n",
    "        P = np.sort(P)[::-1]\n",
    "\n",
    "        n = np.array(P).shape[0]\n",
    "        DP_C = np.zeros((n + 2, n + 1))\n",
    "        if pNone is None:\n",
    "            pNone = (1.0 - P).prod()\n",
    "\n",
    "        DP_C[0][0] = 1.0\n",
    "        for j in range(1, n):\n",
    "            DP_C[0][j] = (1.0 - P[j - 1]) * DP_C[0, j - 1]\n",
    "\n",
    "        for i in range(1, n + 1):\n",
    "            DP_C[i, i] = DP_C[i - 1, i - 1] * P[i - 1]\n",
    "            for j in range(i + 1, n + 1):\n",
    "                DP_C[i, j] = P[j - 1] * DP_C[i - 1, j - 1] + (1.0 - P[j - 1]) * DP_C[i, j - 1]\n",
    "\n",
    "        DP_S = np.zeros((2 * n + 1,))\n",
    "        DP_SNone = np.zeros((2 * n + 1,))\n",
    "        for i in range(1, 2 * n + 1):\n",
    "            DP_S[i] = 1. / (1. * i)\n",
    "            DP_SNone[i] = 1. / (1. * i + 1)\n",
    "        for k in range(n + 1)[::-1]:\n",
    "            f1 = 0\n",
    "            f1None = 0\n",
    "            for k1 in range(n + 1):\n",
    "                f1 += 2 * k1 * DP_C[k1][k] * DP_S[k + k1]\n",
    "                f1None += 2 * k1 * DP_C[k1][k] * DP_SNone[k + k1]\n",
    "            for i in range(1, 2 * k - 1):\n",
    "                DP_S[i] = (1 - P[k - 1]) * DP_S[i] + P[k - 1] * DP_S[i + 1]\n",
    "                DP_SNone[i] = (1 - P[k - 1]) * DP_SNone[i] + P[k - 1] * DP_SNone[i + 1]\n",
    "            expectations.append([f1None + 2 * pNone / (2 + k), f1])\n",
    "\n",
    "        return np.array(expectations[::-1]).T\n",
    "\n",
    "    @staticmethod\n",
    "    def maximize_expectation(P, pNone=None):\n",
    "        expectations = F1Optimizer.get_expectations(P, pNone)\n",
    "\n",
    "        ix_max = np.unravel_index(expectations.argmax(), expectations.shape)\n",
    "        max_f1 = expectations[ix_max]\n",
    "\n",
    "        predNone = True if ix_max[0] == 0 else False\n",
    "        best_k = ix_max[1]\n",
    "\n",
    "        return best_k, predNone, max_f1\n",
    "\n",
    "    @staticmethod\n",
    "    def _F1(tp, fp, fn):\n",
    "        return 2 * tp / (2 * tp + fp + fn)\n",
    "\n",
    "    @staticmethod\n",
    "    def _Fbeta(tp, fp, fn, beta=1.0):\n",
    "        beta_squared = beta ** 2\n",
    "        return (1.0 + beta_squared) * tp / ((1.0 + beta_squared) * tp + fp + beta_squared * fn)"
   ]
  },
  {
   "cell_type": "code",
   "execution_count": null,
   "metadata": {},
   "outputs": [],
   "source": []
  },
  {
   "cell_type": "code",
   "execution_count": null,
   "metadata": {},
   "outputs": [],
   "source": []
  },
  {
   "cell_type": "code",
   "execution_count": 89,
   "metadata": {},
   "outputs": [
    {
     "data": {
      "text/plain": [
       "[-1, 0, 1]"
      ]
     },
     "execution_count": 89,
     "metadata": {},
     "output_type": "execute_result"
    }
   ],
   "source": [
    "list(range(-1,2))"
   ]
  },
  {
   "cell_type": "code",
   "execution_count": 154,
   "metadata": {},
   "outputs": [],
   "source": [
    "def my_dist(x, y):\n",
    "    return np.sqrt(((x - y)**2).sum())\n",
    "    #return (x[0]-y[0])**2  + (x[1]-y[1])**2  + (x[2]-y[2])**2 "
   ]
  },
  {
   "cell_type": "code",
   "execution_count": null,
   "metadata": {},
   "outputs": [],
   "source": []
  },
  {
   "cell_type": "code",
   "execution_count": 282,
   "metadata": {},
   "outputs": [],
   "source": [
    "def merge(cl1, cl2, min_cnt): # merge cluster 2 to cluster 1\n",
    "    d = pd.DataFrame(data={'s1':cl1,'s2':cl2})\n",
    "    d['N1'] = d.groupby('s1')['s1'].transform('count')\n",
    "    d['N2'] = d.groupby('s2')['s2'].transform('count')\n",
    "    maxs1 = d['s1'].max()\n",
    "    cond = np.where((d['N2'].values>d['N1'].values) & (d['N2'].values<20) &  (d['N2'].values>min_cnt))\n",
    "    #cond = np.where((d['N2'].values>d['N1'].values) & (d['N2'].values<20) )\n",
    "\n",
    "    s1 = d['s1'].values \n",
    "    s1[cond] = d['s2'].values[cond]+maxs1 \n",
    "    return s1"
   ]
  },
  {
   "cell_type": "code",
   "execution_count": 250,
   "metadata": {},
   "outputs": [],
   "source": [
    "from trackml.dataset import load_event, load_dataset\n",
    "from trackml.score import score_event\n",
    "\n",
    "from sklearn.cluster.dbscan_ import dbscan\n",
    "from sklearn.preprocessing import StandardScaler, MinMaxScaler\n",
    "\n",
    "import numpy as np\n",
    "import pandas as pd\n",
    "import timeit\n",
    "import multiprocessing\n",
    "from multiprocessing import Pool\n",
    "\n",
    "def find_labels(params):\n",
    "    hits, dz = params\n",
    "    a = hits['phi'].values\n",
    "    z = hits['z'].values\n",
    "    zr0 = hits['zr0'].values\n",
    "\n",
    "    r = hits['r0'].values\n",
    "    \n",
    "    aa = a + np.sign(z) * dz * z\n",
    "    #aa = a + dz * z\n",
    "\n",
    "    f0 = np.cos(aa)\n",
    "    f1 = np.sin(aa)\n",
    "    f2 = hits['f2'].values\n",
    "    f3 = zr0\n",
    "    X = StandardScaler().fit_transform(np.column_stack([f0, f1, f3]))\n",
    "\n",
    "    _, l = dbscan(X,  eps=0.0045, min_samples=1, n_jobs=8)\n",
    "    return l + 1\n",
    "\n",
    "def add_count(l):\n",
    "    unique, reverse, count = np.unique(l, return_counts=True, return_inverse=True)\n",
    "    c = count[reverse]\n",
    "    c[np.where(l == 0)] = 0\n",
    "    c[np.where(c > 20)] = 0\n",
    "    return (l, c)\n",
    "\n",
    "def do_dbscan_predict(hits, z_shift):\n",
    "    start_time = timeit.default_timer()\n",
    "\n",
    "    hits['z_shifted'] = hits['z'] - z_shift\n",
    "    \n",
    "    hits['r'] = np.sqrt(hits['x'] ** 2 + hits['y'] ** 2 + hits['z_shifted'] ** 2 )\n",
    "    hits['r0'] = np.sqrt(hits['x'] ** 2 + hits['y'] ** 2)\n",
    "\n",
    "    hits['zr0'] = hits['z_shifted'] / hits['r0']\n",
    "    hits['phi'] = np.arctan2(hits['y'], hits['x'])\n",
    "    hits['tmp'] = hits['r']/(2*hits['r0'])\n",
    "    \n",
    "\n",
    "    #scaler = MinMaxScaler(feature_range=(-1, 1))\n",
    "    #hits['tmp'] = scaler.fit_transform(hits['tmp'].values.reshape(len(hits['tmp']), 1))\n",
    "    #hits['tmp'] = hits['tmp'].apply(lambda x: min(0.99999, x))\n",
    "    hits['f2'] = np.arctan(   hits['tmp']   )\n",
    "    \n",
    "    \n",
    "    params = []\n",
    "    for i in range(0, 60):\n",
    "        dz = i * 0.00001\n",
    "        params.append((hits, dz))\n",
    "        if i > 0:\n",
    "             params.append((hits, -dz))\n",
    "\n",
    "             \n",
    "    pool = Pool(processes=8)\n",
    "    labels_for_all_steps = pool.map(find_labels, params)\n",
    "    #results = [add_count(l) for l in labels_for_all_steps]\n",
    "    results = labels_for_all_steps\n",
    "    pool.close()\n",
    "\n",
    "    labels = results[0]\n",
    "    for i in range(1, len(results)):\n",
    "        labels = merge(labels, results[i])\n",
    "\n",
    "#     labels, counts = results[0]\n",
    "#     for i in range(1, len(results)):\n",
    "#         l, c = results[i]\n",
    "#         idx = np.where((c - counts > 0))[0]\n",
    "#         labels[idx] = l[idx] + labels.max()\n",
    "#         counts[idx] = c[idx]\n",
    "\n",
    "    print('time spent:', timeit.default_timer() - start_time, z_shift)\n",
    "\n",
    "    return labels, results\n",
    "\n",
    "def create_one_event_submission(event_id, hits, labels):\n",
    "    sub_data = np.column_stack(([event_id]*len(hits), hits, labels))\n",
    "    submission = pd.DataFrame(data=sub_data, columns=[\"event_id\", \"hit_id\", \"track_id\"]).astype(int)\n",
    "    return submission\n",
    "\n",
    "def run_dbscan():\n",
    "    data_dir = '../input/train_1'\n",
    "\n",
    "    sum = 0\n",
    "    sum_score = 0\n",
    "\n",
    "    z_result = []\n",
    "    #its, cells, particles, truth = load_event(data_dir + '/event' + event_id)\n",
    "    #for z_shift in range(-100, 101):\n",
    "    for z_shift in range(1):\n",
    "      \n",
    "        labels, results = do_dbscan_predict(hits,  z_shift * 0.055)\n",
    "        z_result += [labels]\n",
    "        \n",
    "    labels = z_result[0]\n",
    "    for i in range(1, len(z_result)):\n",
    "        labels = merge(labels, z_result[i])        \n",
    "\n",
    "        \n",
    "    submission = create_one_event_submission(0, hits['hit_id'].values, labels)\n",
    "    score = score_event(truth, submission)\n",
    "    print('score ' , score)\n",
    "    sum_score += score\n",
    "    sum += 1\n",
    "\n",
    "    print('--------------------------------------')\n",
    "    print(sum_score / sum)\n",
    "    \n",
    "    return z_result, labels, submission"
   ]
  },
  {
   "cell_type": "code",
   "execution_count": 215,
   "metadata": {},
   "outputs": [],
   "source": [
    "z_result = np.load('predicts/200_zshift.npy')\n",
    "z_result = z_result[:, 0, :]\n",
    "\n",
    "result_53 = np.load('predicts/53_all.npy')\n",
    "result_53 = np.array(result_53)"
   ]
  },
  {
   "cell_type": "code",
   "execution_count": 219,
   "metadata": {},
   "outputs": [
    {
     "data": {
      "text/plain": [
       "(600, 100287)"
      ]
     },
     "execution_count": 219,
     "metadata": {},
     "output_type": "execute_result"
    }
   ],
   "source": [
    "result_53.shape"
   ]
  },
  {
   "cell_type": "code",
   "execution_count": 218,
   "metadata": {},
   "outputs": [
    {
     "data": {
      "text/plain": [
       "(201, 100287)"
      ]
     },
     "execution_count": 218,
     "metadata": {},
     "output_type": "execute_result"
    }
   ],
   "source": [
    "z_result.shape"
   ]
  },
  {
   "cell_type": "code",
   "execution_count": 228,
   "metadata": {},
   "outputs": [],
   "source": [
    "result = np.vstack([z_result, result_53])"
   ]
  },
  {
   "cell_type": "code",
   "execution_count": 255,
   "metadata": {},
   "outputs": [],
   "source": [
    "labels = z_result[0]\n",
    "for i in range(1, len(z_result)):\n",
    "    labels = merge(labels, z_result[i])"
   ]
  },
  {
   "cell_type": "code",
   "execution_count": 232,
   "metadata": {},
   "outputs": [
    {
     "data": {
      "text/plain": [
       "array([[    853824,     133123,     265120, ...,  921963395,  753213191,\n",
       "        1321537499],\n",
       "       [    853788,     133157,     265184, ...,    5988183,    1919331,\n",
       "            503611],\n",
       "       [    853680,     133118,     265138, ...,    5993086,    1919071,\n",
       "            503544],\n",
       "       ...,\n",
       "       [    722639,     133198,     265088, ...,    6669604,     503583,\n",
       "           1596370],\n",
       "       [    722692,     133230,     265114, ...,    6668977,     503618,\n",
       "           1596563],\n",
       "       [    722791,     133252,     265196, ...,    6666979,     503715,\n",
       "           1596720]])"
      ]
     },
     "execution_count": 232,
     "metadata": {},
     "output_type": "execute_result"
    }
   ],
   "source": [
    "z_result"
   ]
  },
  {
   "cell_type": "code",
   "execution_count": 240,
   "metadata": {},
   "outputs": [],
   "source": [
    "tmp = np.array([add_count(l) for l in z_result])\n",
    "cnts = tmp[:, 1, :]"
   ]
  },
  {
   "cell_type": "code",
   "execution_count": 236,
   "metadata": {},
   "outputs": [
    {
     "data": {
      "text/plain": [
       "array([[    853824,     133123,     265120, ...,  921963395,  753213191,\n",
       "        1321537499],\n",
       "       [    853788,     133157,     265184, ...,    5988183,    1919331,\n",
       "            503611],\n",
       "       [    853680,     133118,     265138, ...,    5993086,    1919071,\n",
       "            503544],\n",
       "       ...,\n",
       "       [    722639,     133198,     265088, ...,    6669604,     503583,\n",
       "           1596370],\n",
       "       [    722692,     133230,     265114, ...,    6668977,     503618,\n",
       "           1596563],\n",
       "       [    722791,     133252,     265196, ...,    6666979,     503715,\n",
       "           1596720]])"
      ]
     },
     "execution_count": 236,
     "metadata": {},
     "output_type": "execute_result"
    }
   ],
   "source": [
    "z_result"
   ]
  },
  {
   "cell_type": "code",
   "execution_count": 302,
   "metadata": {},
   "outputs": [],
   "source": [
    "labels = range(z_result.shape[1])\n",
    "labels = z_result[0]\n",
    "for i in range(1, len(z_result)):\n",
    "    labels = merge(labels, z_result[i], 0)"
   ]
  },
  {
   "cell_type": "code",
   "execution_count": 336,
   "metadata": {},
   "outputs": [],
   "source": [
    "labels = range(z_result.shape[1])\n",
    "\n",
    "for i in range(len(z_result)):\n",
    "    labels = merge(labels, z_result[i], 0)"
   ]
  },
  {
   "cell_type": "code",
   "execution_count": 289,
   "metadata": {},
   "outputs": [],
   "source": [
    "labels = ext_sub['track_id'].values\n",
    "\n",
    "for i in range(len(z_result)):\n",
    "    labels = merge(labels, z_result[i], 0)"
   ]
  },
  {
   "cell_type": "code",
   "execution_count": null,
   "metadata": {},
   "outputs": [],
   "source": []
  },
  {
   "cell_type": "code",
   "execution_count": null,
   "metadata": {},
   "outputs": [],
   "source": []
  },
  {
   "cell_type": "code",
   "execution_count": 362,
   "metadata": {},
   "outputs": [
    {
     "name": "stdout",
     "output_type": "stream",
     "text": [
      "0.02946572701478705\n",
      "0.02946572701478705\n",
      "0.05727761228580784\n",
      "0.05727761228580784\n",
      "0.11534065410312926\n",
      "0.11534065410312926\n",
      "0.23344574246875743\n",
      "0.23344574246875743\n",
      "0.36729231106049864\n",
      "0.36729231106049864\n",
      "0.45506391156244447\n",
      "0.45506391156244447\n",
      "0.4944932151899727\n",
      "0.4944932151899727\n",
      "0.5049299479307393\n",
      "0.5049299479307393\n",
      "0.5073244085906707\n",
      "0.5073244085906707\n"
     ]
    }
   ],
   "source": [
    "#result = result_53\n",
    "labels = range(result.shape[1])\n",
    "\n",
    "for k in [18,16,14, 12, 10, 8, 6, 4, 0]:\n",
    "#for k in [15,10,5, 0]:\n",
    "    for i in range(len(result)):\n",
    "        labels = merge(labels, result[i], k)\n",
    "  \n",
    "    submission = create_one_event_submission(0, hits['hit_id'].values, labels)\n",
    "    print(score_event(truth, submission))\n",
    "    #submission = extend(submission,hits)\n",
    "    #submission = extend(submission,hits)\n",
    "\n",
    "    print(score_event(truth, submission))\n",
    "    \n",
    "    labels = submission['track_id'].values\n",
    "   "
   ]
  },
  {
   "cell_type": "code",
   "execution_count": 361,
   "metadata": {},
   "outputs": [
    {
     "name": "stdout",
     "output_type": "stream",
     "text": [
      "0.5076282691673919\n"
     ]
    }
   ],
   "source": [
    "labels = range(result.shape[1])\n",
    "\n",
    "for k in [0]:\n",
    "    for i in range(len(result)):\n",
    "        labels = merge(labels, result[i], k)\n",
    "  \n",
    "    submission = create_one_event_submission(0, hits['hit_id'].values, labels)\n",
    "    print(score_event(truth, submission))"
   ]
  },
  {
   "cell_type": "code",
   "execution_count": 329,
   "metadata": {},
   "outputs": [
    {
     "name": "stdout",
     "output_type": "stream",
     "text": [
      "0.5848926941183028\n"
     ]
    }
   ],
   "source": [
    "submission = extend(submission,hits)\n",
    "print(score_event(truth, submission))"
   ]
  },
  {
   "cell_type": "code",
   "execution_count": 330,
   "metadata": {},
   "outputs": [
    {
     "name": "stdout",
     "output_type": "stream",
     "text": [
      "0.5850779423213555\n"
     ]
    }
   ],
   "source": [
    "submission = extend(submission,hits)\n",
    "print(score_event(truth, submission))"
   ]
  },
  {
   "cell_type": "code",
   "execution_count": 325,
   "metadata": {},
   "outputs": [
    {
     "name": "stdout",
     "output_type": "stream",
     "text": [
      "0.5850817906028537\n"
     ]
    }
   ],
   "source": [
    "submission = extend(submission,hits)\n",
    "print(score_event(truth, submission))"
   ]
  },
  {
   "cell_type": "code",
   "execution_count": 326,
   "metadata": {},
   "outputs": [
    {
     "name": "stdout",
     "output_type": "stream",
     "text": [
      "0.5853420574657813\n"
     ]
    }
   ],
   "source": [
    "submission = extend(submission,hits)\n",
    "print(score_event(truth, submission))"
   ]
  },
  {
   "cell_type": "code",
   "execution_count": 327,
   "metadata": {},
   "outputs": [
    {
     "name": "stdout",
     "output_type": "stream",
     "text": [
      "0.5855217023763549\n"
     ]
    }
   ],
   "source": [
    "submission = extend(submission,hits)\n",
    "print(score_event(truth, submission))"
   ]
  },
  {
   "cell_type": "code",
   "execution_count": 343,
   "metadata": {},
   "outputs": [],
   "source": [
    "luis = np.load('predicts/luis_all.npy')"
   ]
  },
  {
   "cell_type": "code",
   "execution_count": 344,
   "metadata": {},
   "outputs": [
    {
     "data": {
      "text/plain": [
       "array([[    0,     1,     2, ..., 74107, 74108, 74102],\n",
       "       [    0,     1,     2, ..., 74048, 12232, 74042],\n",
       "       [    0,     1,     2, ..., 73942, 73943, 73934],\n",
       "       ...,\n",
       "       [    0,     1,     2, ..., 86443, 86444, 86436],\n",
       "       [    0,     1,     2, ..., 86518, 86519, 86508],\n",
       "       [    0,     1,     2, ..., 86453, 86454, 86446]])"
      ]
     },
     "execution_count": 344,
     "metadata": {},
     "output_type": "execute_result"
    }
   ],
   "source": [
    "luis"
   ]
  },
  {
   "cell_type": "code",
   "execution_count": 345,
   "metadata": {},
   "outputs": [
    {
     "data": {
      "text/plain": [
       "array([[    853824,     133123,     265120, ...,  921963395,  753213191,\n",
       "        1321537499],\n",
       "       [    853788,     133157,     265184, ...,    5988183,    1919331,\n",
       "            503611],\n",
       "       [    853680,     133118,     265138, ...,    5993086,    1919071,\n",
       "            503544],\n",
       "       ...,\n",
       "       [    722639,     133198,     265088, ...,    6669604,     503583,\n",
       "           1596370],\n",
       "       [    722692,     133230,     265114, ...,    6668977,     503618,\n",
       "           1596563],\n",
       "       [    722791,     133252,     265196, ...,    6666979,     503715,\n",
       "           1596720]])"
      ]
     },
     "execution_count": 345,
     "metadata": {},
     "output_type": "execute_result"
    }
   ],
   "source": [
    "z_result"
   ]
  },
  {
   "cell_type": "code",
   "execution_count": 347,
   "metadata": {},
   "outputs": [],
   "source": [
    "labels = z_result[0]\n",
    "for i in range(1, len(z_result)):\n",
    "    labels = merge(labels, z_result[i], 0)"
   ]
  },
  {
   "cell_type": "code",
   "execution_count": 350,
   "metadata": {},
   "outputs": [],
   "source": [
    "labels_luis = luis[0]\n",
    "for i in range(1, len(z_result)):\n",
    "    labels = merge(labels, luis[i], 0)"
   ]
  },
  {
   "cell_type": "code",
   "execution_count": 355,
   "metadata": {},
   "outputs": [],
   "source": [
    "result = np.vstack([luis, z_result])"
   ]
  },
  {
   "cell_type": "code",
   "execution_count": 356,
   "metadata": {},
   "outputs": [
    {
     "data": {
      "text/plain": [
       "(539, 100287)"
      ]
     },
     "execution_count": 356,
     "metadata": {},
     "output_type": "execute_result"
    }
   ],
   "source": [
    "result.shape"
   ]
  },
  {
   "cell_type": "code",
   "execution_count": 360,
   "metadata": {},
   "outputs": [
    {
     "data": {
      "text/plain": [
       "array([[      0,       1,       2, ...,   75823,   75824,   75814],\n",
       "       [      0,       1,       2, ...,   76479,   76480,   76471],\n",
       "       [ 851709,  132852,  395171, ..., 6026819, 6215301,  502478],\n",
       "       ...,\n",
       "       [      0,       1,       2, ...,   83691,   83692,   83682],\n",
       "       [      0,       1,       2, ...,   84777,   84778,   84769],\n",
       "       [      0,       1,       2, ...,   75323,   75324,   75318]])"
      ]
     },
     "execution_count": 360,
     "metadata": {},
     "output_type": "execute_result"
    }
   ],
   "source": [
    "result"
   ]
  },
  {
   "cell_type": "code",
   "execution_count": 359,
   "metadata": {},
   "outputs": [],
   "source": [
    "np.random.shuffle(result)"
   ]
  },
  {
   "cell_type": "code",
   "execution_count": 352,
   "metadata": {},
   "outputs": [
    {
     "name": "stdout",
     "output_type": "stream",
     "text": [
      "0.4913849820080143\n"
     ]
    }
   ],
   "source": [
    "labels1 = merge(labels_luis, labels, 0)\n",
    "submission = create_one_event_submission(0, hits['hit_id'].values, labels1)\n",
    "print(score_event(truth, submission))"
   ]
  },
  {
   "cell_type": "code",
   "execution_count": null,
   "metadata": {},
   "outputs": [],
   "source": [
    "0.5076282691673919\n",
    "0.5067205748968073\n",
    "0.4731231005334312"
   ]
  },
  {
   "cell_type": "code",
   "execution_count": null,
   "metadata": {},
   "outputs": [],
   "source": [
    "0.4912658962859528"
   ]
  },
  {
   "cell_type": "code",
   "execution_count": null,
   "metadata": {},
   "outputs": [],
   "source": [
    "result = result_53\n",
    "labels = range(z_result.shape[1])\n",
    "\n",
    "for k in [15,10,5, 0]:\n",
    "    for i in range(len(result)):\n",
    "        labels = merge(labels, result[i], k)\n",
    "  \n",
    "    submission = create_one_event_submission(0, hits['hit_id'].values, labels)\n",
    "    print(score_event(truth, submission))\n",
    "    submission = extend(submission,hits)\n",
    "    print(score_event(truth, submission))\n",
    "    \n",
    "    labels = submission['track_id'].values\n",
    "   "
   ]
  },
  {
   "cell_type": "code",
   "execution_count": 310,
   "metadata": {},
   "outputs": [
    {
     "name": "stdout",
     "output_type": "stream",
     "text": [
      "0.07387727372951487\n",
      "0.07835740005767651\n",
      "0.34171814787412685\n",
      "0.3529405051559642\n",
      "0.4875550573063415\n",
      "0.508872134715501\n"
     ]
    }
   ],
   "source": [
    "labels = range(z_result.shape[1])\n",
    "\n",
    "for i in range(len(z_result)):\n",
    "    labels = merge(labels, z_result[i], 15)\n",
    "  \n",
    "submission = create_one_event_submission(0, hits['hit_id'].values, labels)\n",
    "print(score_event(truth, submission))\n",
    "submission = extend(submission,hits)\n",
    "print(score_event(truth, submission))\n",
    "\n",
    "\n",
    "\n",
    "labels = submission['track_id'].values\n",
    "\n",
    "for i in range(len(z_result)):\n",
    "    labels = merge(labels, z_result[i], 10)\n",
    "submission = create_one_event_submission(0, hits['hit_id'].values, labels)\n",
    "print(score_event(truth, submission))\n",
    "submission = extend(submission,hits)\n",
    "print(score_event(truth, submission))\n",
    "\n",
    "\n",
    "\n",
    "labels = submission['track_id'].values\n",
    "\n",
    "for i in range(len(z_result)):\n",
    "    labels = merge(labels, z_result[i], 5)\n",
    "submission = create_one_event_submission(0, hits['hit_id'].values, labels)\n",
    "print(score_event(truth, submission))\n",
    "submission = extend(submission,hits)\n",
    "print(score_event(truth, submission))\n"
   ]
  },
  {
   "cell_type": "code",
   "execution_count": null,
   "metadata": {},
   "outputs": [],
   "source": []
  },
  {
   "cell_type": "code",
   "execution_count": null,
   "metadata": {},
   "outputs": [],
   "source": []
  },
  {
   "cell_type": "code",
   "execution_count": 311,
   "metadata": {},
   "outputs": [
    {
     "name": "stdout",
     "output_type": "stream",
     "text": [
      "0.5042063878321094\n",
      "0.516272597496374\n"
     ]
    }
   ],
   "source": [
    "labels = submission['track_id'].values\n",
    "\n",
    "for i in range(len(z_result)):\n",
    "    labels = merge(labels, z_result[i], 0)\n",
    "submission = create_one_event_submission(0, hits['hit_id'].values, labels)\n",
    "print(score_event(truth, submission))\n",
    "submission = extend(submission,hits)\n",
    "print(score_event(truth, submission))"
   ]
  },
  {
   "cell_type": "code",
   "execution_count": null,
   "metadata": {},
   "outputs": [],
   "source": []
  },
  {
   "cell_type": "code",
   "execution_count": 290,
   "metadata": {},
   "outputs": [
    {
     "data": {
      "text/plain": [
       "array([5133167003,     233409,     365406, ..., 5361331343, 5554215256,\n",
       "       5920164732])"
      ]
     },
     "execution_count": 290,
     "metadata": {},
     "output_type": "execute_result"
    }
   ],
   "source": [
    "labels"
   ]
  },
  {
   "cell_type": "code",
   "execution_count": 274,
   "metadata": {},
   "outputs": [
    {
     "data": {
      "text/plain": [
       "array([2170322840,     233409,     365406, ...,     100284,     100285,\n",
       "           100286])"
      ]
     },
     "execution_count": 274,
     "metadata": {},
     "output_type": "execute_result"
    }
   ],
   "source": [
    "labels"
   ]
  },
  {
   "cell_type": "code",
   "execution_count": 264,
   "metadata": {},
   "outputs": [
    {
     "data": {
      "text/plain": [
       "(100287,)"
      ]
     },
     "execution_count": 264,
     "metadata": {},
     "output_type": "execute_result"
    }
   ],
   "source": [
    "labels.shape"
   ]
  },
  {
   "cell_type": "code",
   "execution_count": 303,
   "metadata": {},
   "outputs": [],
   "source": [
    "submission = create_one_event_submission(0, hits['hit_id'].values, labels)"
   ]
  },
  {
   "cell_type": "code",
   "execution_count": null,
   "metadata": {},
   "outputs": [],
   "source": [
    "results, labels, submission = run_dbscan()"
   ]
  },
  {
   "cell_type": "code",
   "execution_count": 307,
   "metadata": {},
   "outputs": [
    {
     "data": {
      "text/plain": [
       "0.5102744886009511"
      ]
     },
     "execution_count": 307,
     "metadata": {},
     "output_type": "execute_result"
    }
   ],
   "source": [
    "score_event(truth, ext_sub)"
   ]
  },
  {
   "cell_type": "code",
   "execution_count": null,
   "metadata": {},
   "outputs": [],
   "source": [
    "0.3399329510827481\n",
    "0.35145268798497153\n",
    "0.4934600594722697\n",
    "0.5137374103615819\n",
    "\n",
    "0.516272597496374"
   ]
  },
  {
   "cell_type": "code",
   "execution_count": null,
   "metadata": {},
   "outputs": [],
   "source": [
    "0.4844090174742257"
   ]
  },
  {
   "cell_type": "code",
   "execution_count": null,
   "metadata": {},
   "outputs": [],
   "source": [
    "0.5079882204550195"
   ]
  },
  {
   "cell_type": "code",
   "execution_count": null,
   "metadata": {},
   "outputs": [],
   "source": [
    "0.512355748910061"
   ]
  },
  {
   "cell_type": "code",
   "execution_count": null,
   "metadata": {},
   "outputs": [],
   "source": [
    "0.5467987728575361"
   ]
  },
  {
   "cell_type": "code",
   "execution_count": 288,
   "metadata": {},
   "outputs": [
    {
     "data": {
      "text/plain": [
       "0.35145268798497153"
      ]
     },
     "execution_count": 288,
     "metadata": {},
     "output_type": "execute_result"
    }
   ],
   "source": [
    "score_event(truth, ext_sub)"
   ]
  },
  {
   "cell_type": "code",
   "execution_count": null,
   "metadata": {},
   "outputs": [],
   "source": [
    "0.5855217023763549\n",
    "0.5853420574657813\n",
    "0.5850817906028537\n",
    "0.5849290849426552\n",
    "0.5827447401532195\n",
    "0.5810983311646127\n",
    "0.5807878755572605\n",
    "0.5792614621063498\n",
    "0.5102744886009511"
   ]
  },
  {
   "cell_type": "code",
   "execution_count": 306,
   "metadata": {},
   "outputs": [
    {
     "name": "stdout",
     "output_type": "stream",
     "text": [
      " 179.0000000"
     ]
    }
   ],
   "source": [
    "ext_sub = extend(submission,hits)"
   ]
  },
  {
   "cell_type": "code",
   "execution_count": 192,
   "metadata": {},
   "outputs": [],
   "source": [
    "#from scipy.spatial import KDTree\n",
    "from sklearn.neighbors import KDTree"
   ]
  },
  {
   "cell_type": "code",
   "execution_count": 309,
   "metadata": {},
   "outputs": [],
   "source": [
    "\tdef extend(submission,hits):\n",
    "\n",
    "\t\tdf = submission.merge(hits,  on=['hit_id'], how='left')\n",
    "\t\tdf = df.assign(d = np.sqrt( df.x**2 + df.y**2 + df.z**2 ))\n",
    "\t\tdf = df.assign(r = np.sqrt( df.x**2 + df.y**2))\n",
    "\t\tdf = df.assign(arctan2 = np.arctan2(df.z, df.r))\n",
    "\n",
    "\t\tfor angle in range(-180,180,1):\n",
    "\n",
    "\t\t    #print ('\\r %f'%angle, end='',flush=True)\n",
    "\t\t    #df1 = df.loc[(df.arctan2>(angle-0.5)/180*np.pi) & (df.arctan2<(angle+0.5)/180*np.pi)]\n",
    "\t\t    df1 = df.loc[(df.arctan2>(angle-1.0)/180*np.pi) & (df.arctan2<(angle+1.0)/180*np.pi)]\n",
    "\n",
    "\t\t    min_num_neighbours = len(df1)\n",
    "\t\t    if min_num_neighbours<4: continue\n",
    "\n",
    "\t\t    hit_ids = df1.hit_id.values\n",
    "\t\t    x,y,z = df1.as_matrix(columns=['x', 'y', 'z']).T\n",
    "\t\t    r  = (x**2 + y**2)**0.5\n",
    "\t\t    r  = r/1000\n",
    "\t\t    a  = np.arctan2(y,x)\n",
    "\t\t    tree = KDTree(np.column_stack([a,r]), metric='euclidean')\n",
    "\n",
    "\t\t    track_ids = list(df1.track_id.unique())\n",
    "\t\t    num_track_ids = len(track_ids)\n",
    "\t\t    min_length=3\n",
    "\n",
    "\t\t    for i in range(num_track_ids):\n",
    "\t\t        p = track_ids[i]\n",
    "\t\t        if p==0: continue\n",
    "\n",
    "\t\t        idx = np.where(df1.track_id==p)[0]\n",
    "\t\t        if len(idx)<min_length: continue\n",
    "\n",
    "\t\t        if angle>0:\n",
    "\t\t            idx = idx[np.argsort( z[idx])]\n",
    "\t\t        else:\n",
    "\t\t            idx = idx[np.argsort(-z[idx])]\n",
    "\n",
    "\n",
    "\t\t        ## start and end points  ##\n",
    "\t\t        idx0,idx1 = idx[0],idx[-1]\n",
    "\t\t        a0 = a[idx0]\n",
    "\t\t        a1 = a[idx1]\n",
    "\t\t        r0 = r[idx0]\n",
    "\t\t        r1 = r[idx1]\n",
    "\n",
    "\t\t        da0 = a[idx[1]] - a[idx[0]]  #direction\n",
    "\t\t        dr0 = r[idx[1]] - r[idx[0]]\n",
    "\t\t        direction0 = np.arctan2(dr0,da0) \n",
    "\n",
    "\t\t        da1 = a[idx[-1]] - a[idx[-2]]\n",
    "\t\t        dr1 = r[idx[-1]] - r[idx[-2]]\n",
    "\t\t        direction1 = np.arctan2(dr1,da1) \n",
    "\n",
    "\t \n",
    "\t\t        ## extend start point\n",
    "\t\t        ns = tree.query([[a0,r0]], k=min(20,min_num_neighbours), return_distance=False)\n",
    "\t\t        ns = np.concatenate(ns)\n",
    "\t\t        direction = np.arctan2(r0-r[ns],a0-a[ns])\n",
    "\t\t        ns = ns[(r0-r[ns]>0.01) &(np.fabs(direction-direction0)<0.04)]\n",
    "\t   \n",
    "\t\t        for n in ns:\n",
    "\t\t            df.loc[ df.hit_id==hit_ids[n],'track_id' ] = p \n",
    "\n",
    "\t\t        ## extend end point\n",
    "\t\t        ns = tree.query([[a1,r1]], k=min(20,min_num_neighbours), return_distance=False)\n",
    "\t\t        ns = np.concatenate(ns)\n",
    "\n",
    "\t\t        direction = np.arctan2(r[ns]-r1,a[ns]-a1)\n",
    "\t\t        ns = ns[(r[ns]-r1>0.01) &(np.fabs(direction-direction1)<0.04)] \n",
    "\t\t        \n",
    "\t\t        for n in ns:\n",
    "\t\t            df.loc[ df.hit_id==hit_ids[n],'track_id' ] = p\n",
    "\t\t#print ('\\r')\n",
    "\t\tdf = df[['event_id', 'hit_id', 'track_id']]\n",
    "\t\treturn df\n"
   ]
  },
  {
   "cell_type": "code",
   "execution_count": null,
   "metadata": {},
   "outputs": [],
   "source": []
  },
  {
   "cell_type": "code",
   "execution_count": null,
   "metadata": {},
   "outputs": [],
   "source": []
  },
  {
   "cell_type": "code",
   "execution_count": null,
   "metadata": {},
   "outputs": [],
   "source": []
  },
  {
   "cell_type": "code",
   "execution_count": 175,
   "metadata": {},
   "outputs": [
    {
     "data": {
      "text/plain": [
       "[(array([ 850618,  132622,  264149, ...,  340948, 3557779,  501639]),\n",
       "  array([ 7, 11, 12, ...,  3,  3,  7])),\n",
       " (array([    1,     2,     3, ..., 66312, 66313, 66306]),\n",
       "  array([1, 2, 1, ..., 1, 1, 4])),\n",
       " (array([    1,     2,     3, ..., 66319, 66320, 22093]),\n",
       "  array([ 1, 11,  1, ...,  1,  1,  5])),\n",
       " (array([    1,     2,     3, ..., 65932, 65933, 65925]),\n",
       "  array([1, 2, 1, ..., 1, 1, 4])),\n",
       " (array([    1,     2,     3, ..., 65856, 65857, 65849]),\n",
       "  array([ 1, 11, 12, ...,  1,  1,  4])),\n",
       " (array([    1,     2,     3, ..., 11416, 65417, 65412]),\n",
       "  array([1, 2, 1, ..., 3, 1, 4])),\n",
       " (array([    1,     2,     3, ..., 65349, 65350, 65343]),\n",
       "  array([ 1, 11, 12, ...,  1,  1,  4])),\n",
       " (array([    1,     2,     3, ..., 65074, 41881, 42029]),\n",
       "  array([1, 2, 1, ..., 1, 2, 7])),\n",
       " (array([    1,     2,     3, ..., 65316, 65317, 65310]),\n",
       "  array([ 1,  2, 12, ...,  1,  1,  4])),\n",
       " (array([    1,     2,     3, ..., 65332, 65333, 11520]),\n",
       "  array([6, 2, 1, ..., 1, 1, 6])),\n",
       " (array([    1,     2,     3, ..., 65557, 65558, 65550]),\n",
       "  array([1, 2, 1, ..., 1, 1, 4])),\n",
       " (array([    1,     2,     3, ..., 65788, 65789, 65782]),\n",
       "  array([1, 2, 1, ..., 1, 1, 4])),\n",
       " (array([    1,     2,     3, ..., 65893, 65894, 55701]),\n",
       "  array([1, 2, 1, ..., 1, 1, 6])),\n",
       " (array([    1,     2,     3, ..., 66028, 66029, 66022]),\n",
       "  array([7, 2, 1, ..., 1, 1, 4])),\n",
       " (array([    1,     2,     3, ..., 66167, 66168, 66160]),\n",
       "  array([1, 2, 1, ..., 1, 1, 4])),\n",
       " (array([    1,     2,     3, ..., 66482, 66483, 66478]),\n",
       "  array([7, 2, 1, ..., 1, 1, 4])),\n",
       " (array([    1,     2,     3, ..., 66465, 66466, 66459]),\n",
       "  array([1, 2, 1, ..., 1, 1, 4])),\n",
       " (array([    1,     2,     3, ..., 66755, 66756, 66752]),\n",
       "  array([1, 2, 1, ..., 1, 1, 4])),\n",
       " (array([    1,     2,     3, ..., 66633, 54605, 66627]),\n",
       "  array([1, 2, 1, ..., 1, 2, 4])),\n",
       " (array([    1,     2,     3, ..., 66978, 66979, 66973]),\n",
       "  array([1, 2, 1, ..., 1, 1, 4])),\n",
       " (array([    1,     2,     3, ..., 66670, 66955, 66659]),\n",
       "  array([1, 2, 1, ..., 2, 1, 5])),\n",
       " (array([    1,     2,     3, ..., 43840, 67173, 67170]),\n",
       "  array([1, 2, 1, ..., 2, 1, 4])),\n",
       " (array([    1,     2,     3, ..., 66802, 67087, 12897]),\n",
       "  array([1, 2, 1, ..., 2, 1, 7])),\n",
       " (array([    1,     2,     3, ..., 67238, 67239, 67234]),\n",
       "  array([1, 2, 1, ..., 1, 1, 4])),\n",
       " (array([    1,     2,     3, ..., 67157, 67158, 67151]),\n",
       "  array([1, 2, 1, ..., 1, 1, 4])),\n",
       " (array([    1,     2,     3, ..., 67358, 67359, 67352]),\n",
       "  array([1, 2, 1, ..., 1, 1, 4])),\n",
       " (array([    1,     2,     3, ..., 13058, 67482, 67476]),\n",
       "  array([1, 2, 1, ..., 3, 1, 4])),\n",
       " (array([    1,     2,     3, ..., 67543, 67544, 22522]),\n",
       "  array([1, 2, 1, ..., 1, 1, 5])),\n",
       " (array([    1,     2,     3, ..., 67522, 44318, 55382]),\n",
       "  array([1, 2, 1, ..., 1, 2, 6])),\n",
       " (array([    1,     2,     3, ..., 67632, 67633, 67628]),\n",
       "  array([1, 2, 1, ..., 1, 1, 4])),\n",
       " (array([    1,     2,     3, ..., 67620, 13150, 67613]),\n",
       "  array([1, 2, 1, ..., 1, 2, 4])),\n",
       " (array([    1,     2,     3, ..., 67742, 67743, 67739]),\n",
       "  array([1, 2, 1, ..., 1, 1, 4])),\n",
       " (array([    1,     2,     3, ..., 67735, 67736, 67729]),\n",
       "  array([1, 2, 1, ..., 1, 1, 4])),\n",
       " (array([    1,     2,     3, ..., 18106, 67826, 67820]),\n",
       "  array([1, 2, 1, ..., 3, 1, 4])),\n",
       " (array([    1,     2,     3, ..., 67887, 67888, 13208]),\n",
       "  array([1, 2, 1, ..., 1, 1, 5])),\n",
       " (array([    1,     2,     3, ..., 67785, 67786, 67781]),\n",
       "  array([1, 2, 1, ..., 1, 1, 4])),\n",
       " (array([    1,     2,     3, ..., 22843, 67965, 56724]),\n",
       "  array([1, 2, 1, ..., 2, 1, 5])),\n",
       " (array([    1,     2,     3, ..., 67890, 67891, 67883]),\n",
       "  array([1, 2, 1, ..., 1, 1, 4])),\n",
       " (array([    1,     2,     3, ..., 68061, 68062, 44633]),\n",
       "  array([1, 2, 1, ..., 1, 1, 5])),\n",
       " (array([    1,     2,     3, ..., 67922, 67923, 44681]),\n",
       "  array([1, 2, 1, ..., 1, 1, 5])),\n",
       " (array([    1,     2,     3, ..., 68039, 68040, 68033]),\n",
       "  array([1, 2, 1, ..., 1, 1, 4])),\n",
       " (array([    1,     2,     3, ..., 67990, 67991, 67986]),\n",
       "  array([1, 2, 1, ..., 1, 1, 4])),\n",
       " (array([    1,     2,     3, ..., 68077, 68078, 68069]),\n",
       "  array([1, 2, 1, ..., 1, 1, 4])),\n",
       " (array([    1,     2,     3, ..., 68090, 68091, 55008]),\n",
       "  array([4, 2, 1, ..., 1, 1, 5])),\n",
       " (array([    1,     2,     3, ..., 67932, 67933, 57675]),\n",
       "  array([1, 2, 1, ..., 1, 1, 5])),\n",
       " (array([    1,     2,     3, ..., 55950, 68038, 54990]),\n",
       "  array([1, 2, 1, ..., 2, 1, 5])),\n",
       " (array([    1,     2,     3, ..., 68151, 68152, 56815]),\n",
       "  array([1, 2, 1, ..., 1, 1, 5])),\n",
       " (array([    1,     2,     3, ..., 68058, 68059, 68052]),\n",
       "  array([1, 2, 1, ..., 1, 1, 4])),\n",
       " (array([    1,     2,     3, ..., 18497, 68215, 68209]),\n",
       "  array([1, 2, 1, ..., 2, 1, 4])),\n",
       " (array([    1,     2,     3, ..., 22874, 68194, 68187]),\n",
       "  array([3, 2, 1, ..., 2, 1, 4])),\n",
       " (array([    1,     2,     3, ..., 57052, 68274, 68269]),\n",
       "  array([1, 2, 1, ..., 2, 1, 4])),\n",
       " (array([    1,     2,     3, ..., 68131, 68132, 55089]),\n",
       "  array([1, 2, 1, ..., 1, 1, 7])),\n",
       " (array([    1,     2,     3, ..., 68313, 68314, 55995]),\n",
       "  array([1, 2, 1, ..., 1, 1, 7])),\n",
       " (array([    1,     2,     3, ..., 68257, 68258, 67961]),\n",
       "  array([1, 2, 1, ..., 1, 1, 5])),\n",
       " (array([    1,     2,     3, ..., 23068, 68380, 68374]),\n",
       "  array([1, 2, 1, ..., 2, 1, 4])),\n",
       " (array([    1,     2,     3, ..., 68129, 12897, 68122]),\n",
       "  array([1, 2, 1, ..., 1, 3, 4])),\n",
       " (array([    1,     2,     3, ..., 68370, 44958, 23097]),\n",
       "  array([1, 2, 1, ..., 1, 2, 5])),\n",
       " (array([    1,     2,     3, ..., 68366, 68367, 57159]),\n",
       "  array([1, 2, 1, ..., 1, 1, 5])),\n",
       " (array([    1,     2,     3, ..., 68479, 68480, 68471]),\n",
       "  array([1, 2, 1, ..., 1, 1, 4])),\n",
       " (array([    1,     2,     3, ..., 56254, 68342, 68335]),\n",
       "  array([1, 2, 1, ..., 2, 1, 4])),\n",
       " (array([    1,     2,     3, ..., 68664, 68665, 59181]),\n",
       "  array([1, 2, 1, ..., 1, 1, 6])),\n",
       " (array([    1,     2,     3, ..., 68320, 68321, 68313]),\n",
       "  array([1, 2, 1, ..., 1, 1, 4])),\n",
       " (array([    1,     2,     3, ..., 68597, 68598, 68590]),\n",
       "  array([1, 2, 1, ..., 1, 1, 4])),\n",
       " (array([    1,     2,     3, ..., 68325, 68326, 12943]),\n",
       "  array([1, 2, 1, ..., 1, 1, 6])),\n",
       " (array([    1,     2,     3, ..., 68734, 68735, 13412]),\n",
       "  array([1, 2, 1, ..., 1, 1, 6])),\n",
       " (array([    1,     2,     3, ..., 68323, 68324, 68318]),\n",
       "  array([1, 2, 1, ..., 1, 1, 4])),\n",
       " (array([    1,     2,     3, ..., 68658, 18703, 58288]),\n",
       "  array([1, 2, 1, ..., 1, 2, 5])),\n",
       " (array([    1,     2,     3, ..., 68435, 68436, 68428]),\n",
       "  array([1, 2, 4, ..., 1, 1, 4])),\n",
       " (array([    1,     2,     3, ..., 68703, 13422, 68697]),\n",
       "  array([1, 2, 1, ..., 1, 3, 4])),\n",
       " (array([    1,     2,     3, ..., 68347, 68348, 68340]),\n",
       "  array([1, 2, 1, ..., 1, 1, 4])),\n",
       " (array([    1,     2,     3, ..., 68706, 68707, 68699]),\n",
       "  array([1, 2, 1, ..., 1, 1, 4])),\n",
       " (array([    1,     2,     3, ..., 68346, 68347, 68340]),\n",
       "  array([1, 2, 1, ..., 1, 1, 4])),\n",
       " (array([    1,     2,     3, ..., 68790, 68791, 68782]),\n",
       "  array([1, 2, 1, ..., 1, 1, 4])),\n",
       " (array([    1,     2,     3, ..., 56411, 68498, 58209]),\n",
       "  array([1, 2, 1, ..., 2, 1, 5])),\n",
       " (array([    1,     2,     3, ..., 68682, 57401, 68674]),\n",
       "  array([1, 2, 1, ..., 1, 2, 4])),\n",
       " (array([    1,     2,     3, ..., 68537, 68538, 68531]),\n",
       "  array([1, 2, 1, ..., 1, 1, 4])),\n",
       " (array([    1,     2,     3, ..., 68812, 68813, 68803]),\n",
       "  array([1, 2, 1, ..., 1, 1, 4])),\n",
       " (array([    1,     2,     3, ..., 68485, 68486, 68478]),\n",
       "  array([1, 2, 1, ..., 1, 1, 4])),\n",
       " (array([    1,     2,     3, ..., 68882, 68883, 68874]),\n",
       "  array([1, 2, 1, ..., 1, 1, 4])),\n",
       " (array([    1,     2,     3, ..., 57438, 68563, 23177]),\n",
       "  array([1, 2, 1, ..., 2, 1, 5])),\n",
       " (array([    1,     2,     3, ..., 68954, 68955, 68947]),\n",
       "  array([1, 2, 1, ..., 1, 1, 4])),\n",
       " (array([    1,     2,     3, ..., 68666, 68667, 27350]),\n",
       "  array([1, 2, 3, ..., 1, 1, 5])),\n",
       " (array([    1,     2,     3, ..., 68939, 68940, 68931]),\n",
       "  array([1, 2, 1, ..., 1, 1, 4])),\n",
       " (array([    1,     2,     3, ..., 68779, 68780, 18671]),\n",
       "  array([1, 2, 1, ..., 1, 1, 6])),\n",
       " (array([    1,     2,     3, ..., 69035, 69036, 69029]),\n",
       "  array([1, 2, 1, ..., 1, 1, 4])),\n",
       " (array([    1,     2,     3, ..., 68706, 68707, 55678]),\n",
       "  array([1, 2, 1, ..., 1, 1, 5])),\n",
       " (array([    1,     2,     3, ..., 69183, 69184, 69175]),\n",
       "  array([1, 2, 1, ..., 1, 1, 4])),\n",
       " (array([    1,     2,     3, ..., 68744, 68745, 23318]),\n",
       "  array([1, 2, 1, ..., 1, 1, 5])),\n",
       " (array([    1,     2,     3, ..., 23461, 69201, 69194]),\n",
       "  array([1, 2, 3, ..., 2, 1, 4])),\n",
       " (array([    1,     2,     3, ..., 13113, 68914, 68908]),\n",
       "  array([1, 2, 1, ..., 3, 1, 4])),\n",
       " (array([    1,     2,     3, ..., 69162, 69163, 69155]),\n",
       "  array([1, 2, 1, ..., 1, 1, 4])),\n",
       " (array([    1,     2,     3, ..., 69010, 69011, 69004]),\n",
       "  array([1, 2, 1, ..., 1, 1, 3])),\n",
       " (array([    1,     2,     3, ..., 23481, 69322, 69313]),\n",
       "  array([1, 2, 1, ..., 2, 1, 4])),\n",
       " (array([    1,     2,     3, ..., 68969, 68970, 58721]),\n",
       "  array([1, 2, 1, ..., 1, 1, 4])),\n",
       " (array([    1,     2,     3, ..., 45629, 69302, 56889]),\n",
       "  array([1, 2, 1, ..., 2, 1, 5])),\n",
       " (array([    1,     2,     3, ..., 69073, 69074, 55977]),\n",
       "  array([1, 2, 4, ..., 1, 1, 4])),\n",
       " (array([    1,     2,     3, ..., 69330, 56923, 69325]),\n",
       "  array([1, 2, 1, ..., 1, 2, 4])),\n",
       " (array([    1,     2,     3, ..., 69033, 69034, 56002]),\n",
       "  array([1, 2, 1, ..., 1, 1, 5])),\n",
       " (array([    1,     2,     3, ..., 69487, 23556, 69479]),\n",
       "  array([1, 2, 1, ..., 1, 3, 4])),\n",
       " (array([    1,     2,     3, ..., 69252, 69253, 69245]),\n",
       "  array([1, 2, 1, ..., 1, 1, 3])),\n",
       " (array([    1,     2,     3, ..., 69532, 58013, 69525]),\n",
       "  array([1, 2, 1, ..., 1, 2, 4])),\n",
       " (array([    1,     2,     3, ..., 68722, 69337, 69330]),\n",
       "  array([1, 2, 1, ..., 2, 1, 3])),\n",
       " (array([    1,     2,     3, ..., 69593, 69594, 69585]),\n",
       "  array([1, 2, 3, ..., 1, 1, 4])),\n",
       " (array([    1,     2,     3, ..., 45960, 69544, 69535]),\n",
       "  array([1, 2, 1, ..., 3, 1, 3])),\n",
       " (array([    1,     2,     3, ..., 13622, 69542, 69534]),\n",
       "  array([1, 2, 1, ..., 3, 1, 4])),\n",
       " (array([    1,     2,     3, ..., 56405, 69519, 46001]),\n",
       "  array([1, 2, 1, ..., 3, 1, 6])),\n",
       " (array([    1,     2,     3, ..., 69737, 69738, 69728]),\n",
       "  array([1, 2, 1, ..., 1, 1, 4])),\n",
       " (array([    1,     2,     3, ..., 69538, 69539, 56469]),\n",
       "  array([1, 2, 1, ..., 1, 1, 5])),\n",
       " (array([    1,     2,     3, ..., 69792, 69793, 69786]),\n",
       "  array([1, 2, 1, ..., 1, 1, 4])),\n",
       " (array([    1,     2,     3, ..., 69656, 69657, 69647]),\n",
       "  array([1, 2, 2, ..., 1, 1, 3])),\n",
       " (array([    1,     2,     3, ..., 69861, 69862, 59375]),\n",
       "  array([1, 2, 1, ..., 1, 1, 5])),\n",
       " (array([    1,     2,     3, ..., 69849, 69850, 69841]),\n",
       "  array([1, 2, 1, ..., 1, 1, 3])),\n",
       " (array([    1,     2,     3, ..., 70100, 19337, 69766]),\n",
       "  array([1, 2, 1, ..., 1, 2, 3])),\n",
       " (array([    1,     2,     3, ..., 69864, 69865, 13538]),\n",
       "  array([1, 2, 1, ..., 1, 1, 4])),\n",
       " (array([    1,     2,     3, ..., 70096, 70097, 69761]),\n",
       "  array([1, 2, 1, ..., 1, 1, 3])),\n",
       " (array([    1,     2,     3, ..., 70141, 19317, 70136]),\n",
       "  array([1, 2, 1, ..., 1, 2, 3])),\n",
       " (array([    1,     2,     3, ..., 70380, 70381, 70378]),\n",
       "  array([1, 2, 1, ..., 1, 1, 2])),\n",
       " (array([    1,     2,     3, ..., 70427, 70428, 70420]),\n",
       "  array([1, 2, 1, ..., 1, 1, 3])),\n",
       " (array([    1,     2,     3, ..., 46765, 70461, 70459]),\n",
       "  array([1, 2, 1, ..., 2, 1, 2]))]"
      ]
     },
     "execution_count": 175,
     "metadata": {},
     "output_type": "execute_result"
    }
   ],
   "source": [
    "results"
   ]
  },
  {
   "cell_type": "code",
   "execution_count": 176,
   "metadata": {},
   "outputs": [
    {
     "data": {
      "text/plain": [
       "(array([ 850618,  132622,  264149, ...,  340948, 3557779,  501639]),\n",
       " array([ 7, 11, 12, ...,  3,  3,  7]))"
      ]
     },
     "execution_count": 176,
     "metadata": {},
     "output_type": "execute_result"
    }
   ],
   "source": [
    "results[0]"
   ]
  },
  {
   "cell_type": "code",
   "execution_count": null,
   "metadata": {},
   "outputs": [],
   "source": [
    "labels = results[0]\n",
    "for i in range(1, len(results)):\n",
    "    labels = merge(labels, results[i])"
   ]
  },
  {
   "cell_type": "code",
   "execution_count": 169,
   "metadata": {},
   "outputs": [
    {
     "data": {
      "text/plain": [
       "array([0, 2, 0])"
      ]
     },
     "execution_count": 169,
     "metadata": {},
     "output_type": "execute_result"
    }
   ],
   "source": [
    "a = np.array([0, 1, 0])\n",
    "b = np.array([1, 1, 0])\n",
    "merge(a, b)"
   ]
  },
  {
   "cell_type": "code",
   "execution_count": 144,
   "metadata": {},
   "outputs": [
    {
     "data": {
      "text/plain": [
       "4999950000.0"
      ]
     },
     "execution_count": 144,
     "metadata": {},
     "output_type": "execute_result"
    }
   ],
   "source": [
    "100000 * 99999 / 2"
   ]
  },
  {
   "cell_type": "code",
   "execution_count": 137,
   "metadata": {},
   "outputs": [],
   "source": [
    "results = np.array(results)"
   ]
  },
  {
   "cell_type": "code",
   "execution_count": 138,
   "metadata": {},
   "outputs": [],
   "source": [
    "np.save('predicts/200_zshift', results)"
   ]
  },
  {
   "cell_type": "code",
   "execution_count": null,
   "metadata": {},
   "outputs": [],
   "source": [
    "0.4808449702457546\n",
    "0.4293791663427201\n",
    "0.33138997839109585"
   ]
  },
  {
   "cell_type": "code",
   "execution_count": 91,
   "metadata": {},
   "outputs": [
    {
     "name": "stdout",
     "output_type": "stream",
     "text": [
      "time spent: 18.721925161313266\n",
      "time spent: 18.948315118905157\n",
      "time spent: 18.731425021775067\n"
     ]
    },
    {
     "name": "stderr",
     "output_type": "stream",
     "text": [
      "/usr/local/lib/python3.5/dist-packages/ipykernel_launcher.py:56: RuntimeWarning: invalid value encountered in arccos\n"
     ]
    },
    {
     "name": "stdout",
     "output_type": "stream",
     "text": [
      "time spent: 18.961979556828737\n",
      "time spent: 19.04467044910416\n",
      "time spent: 19.04395540105179\n",
      "time spent: 19.009527281858027\n",
      "time spent: 18.925030059646815\n",
      "time spent: 19.136807607021183\n",
      "time spent: 18.984390071127564\n",
      "time spent: 19.243835468776524\n",
      "time spent: 19.28255993919447\n",
      "time spent: 19.141350229736418\n",
      "time spent: 18.824109646957368\n",
      "time spent: 18.964283721055835\n",
      "time spent: 18.78620543796569\n",
      "time spent: 18.925766750704497\n",
      "time spent: 18.89491624990478\n",
      "time spent: 19.07338073523715\n",
      "time spent: 19.038074913900346\n",
      "time spent: 19.202588236890733\n",
      "time spent: 18.934166270308197\n",
      "time spent: 18.601766844280064\n",
      "time spent: 18.997709745075554\n",
      "time spent: 18.646292409859598\n",
      "time spent: 18.993201847653836\n",
      "time spent: 19.019245713949203\n",
      "time spent: 19.10756276687607\n",
      "time spent: 18.537717562168837\n",
      "time spent: 19.077655338216573\n",
      "time spent: 18.94685385376215\n",
      "time spent: 18.65020459331572\n",
      "time spent: 18.550528069026768\n",
      "time spent: 19.232760437764227\n",
      "time spent: 19.17864443687722\n",
      "time spent: 18.992843340616673\n",
      "time spent: 19.1211334685795\n",
      "time spent: 19.09338837210089\n",
      "time spent: 18.78092217259109\n",
      "time spent: 18.780588624998927\n",
      "time spent: 19.072795456741005\n",
      "time spent: 19.052930869162083\n",
      "time spent: 19.175741837825626\n",
      "time spent: 18.9835994951427\n",
      "time spent: 18.877744756173342\n",
      "time spent: 19.05319335591048\n",
      "time spent: 19.14217488700524\n",
      "time spent: 19.13616126542911\n",
      "time spent: 18.738159026019275\n",
      "time spent: 19.02189332805574\n",
      "time spent: 19.0618766550906\n",
      "time spent: 18.99238235782832\n",
      "time spent: 18.72231833683327\n",
      "time spent: 19.054872003849596\n",
      "time spent: 18.882501683663577\n",
      "time spent: 19.102217482868582\n",
      "time spent: 19.28439196990803\n",
      "time spent: 18.900762965437025\n",
      "time spent: 19.1722024329938\n",
      "time spent: 19.121750825084746\n",
      "time spent: 19.115894427057356\n",
      "time spent: 19.015970608219504\n",
      "time spent: 19.168894206173718\n",
      "time spent: 19.036365277133882\n",
      "time spent: 19.052648997865617\n",
      "time spent: 18.84149526897818\n",
      "time spent: 19.307593514211476\n",
      "time spent: 19.153697593137622\n",
      "time spent: 18.99034260911867\n",
      "time spent: 19.086754164192826\n",
      "time spent: 19.10363666014746\n",
      "time spent: 19.004581589251757\n",
      "time spent: 18.827673795167357\n",
      "time spent: 18.818573015742004\n",
      "time spent: 18.742585387080908\n",
      "time spent: 18.97009134106338\n",
      "time spent: 19.030804037116468\n",
      "time spent: 19.092000730335712\n",
      "time spent: 19.001470732036978\n",
      "time spent: 19.18422531383112\n",
      "time spent: 19.134939300827682\n",
      "time spent: 18.987553752958775\n",
      "time spent: 18.82782735489309\n",
      "time spent: 19.230708699673414\n",
      "time spent: 19.291047506965697\n",
      "time spent: 19.267584627959877\n",
      "time spent: 19.198604222852737\n",
      "time spent: 19.138951122760773\n",
      "time spent: 19.060371016152203\n",
      "time spent: 19.04583893576637\n",
      "time spent: 19.13436709623784\n",
      "time spent: 19.108583139721304\n",
      "time spent: 19.305848225019872\n",
      "time spent: 18.969974864739925\n",
      "time spent: 19.19993495894596\n",
      "time spent: 18.919242025353014\n",
      "time spent: 19.11438492219895\n",
      "time spent: 19.264852866064757\n",
      "time spent: 19.039225318003446\n",
      "time spent: 19.04718228103593\n",
      "score  0.46421891336294846\n",
      "--------------------------------------\n",
      "0.46421891336294846\n"
     ]
    }
   ],
   "source": [
    "results, l = run_dbscan()"
   ]
  },
  {
   "cell_type": "code",
   "execution_count": 106,
   "metadata": {},
   "outputs": [
    {
     "data": {
      "text/plain": [
       "array([ 982775,  153102,  305064, ...,  392463, 7330348,  693000])"
      ]
     },
     "execution_count": 106,
     "metadata": {},
     "output_type": "execute_result"
    }
   ],
   "source": [
    "results"
   ]
  },
  {
   "cell_type": "code",
   "execution_count": 107,
   "metadata": {},
   "outputs": [],
   "source": [
    "cl53 = np.load('predicts/53.npy')"
   ]
  },
  {
   "cell_type": "code",
   "execution_count": 108,
   "metadata": {},
   "outputs": [
    {
     "data": {
      "text/plain": [
       "array([20227238,  5345886,  7672948, ..., 35073462, 29223846,  3867059])"
      ]
     },
     "execution_count": 108,
     "metadata": {},
     "output_type": "execute_result"
    }
   ],
   "source": [
    "cl53"
   ]
  },
  {
   "cell_type": "code",
   "execution_count": null,
   "metadata": {},
   "outputs": [],
   "source": [
    "labels, counts = results[0]\n",
    "\n",
    "    l, c = results[i]\n",
    "    idx = np.where((c - counts > 0))[0]\n",
    "    labels[idx] = l[idx] + labels.max()\n",
    "    counts[idx] = c[idx]    "
   ]
  },
  {
   "cell_type": "code",
   "execution_count": 122,
   "metadata": {},
   "outputs": [],
   "source": [
    "m = merge(results, cl53)"
   ]
  },
  {
   "cell_type": "code",
   "execution_count": 127,
   "metadata": {},
   "outputs": [],
   "source": [
    "submission = create_one_event_submission(0, hits['hit_id'].values, results)\n",
    "score = score_event(truth, submission)"
   ]
  },
  {
   "cell_type": "code",
   "execution_count": 129,
   "metadata": {},
   "outputs": [
    {
     "data": {
      "text/plain": [
       "0.4293791663427201"
      ]
     },
     "execution_count": 129,
     "metadata": {},
     "output_type": "execute_result"
    }
   ],
   "source": [
    "score"
   ]
  },
  {
   "cell_type": "code",
   "execution_count": null,
   "metadata": {},
   "outputs": [],
   "source": []
  },
  {
   "cell_type": "code",
   "execution_count": 93,
   "metadata": {},
   "outputs": [
    {
     "data": {
      "text/plain": [
       "(100287,)"
      ]
     },
     "execution_count": 93,
     "metadata": {},
     "output_type": "execute_result"
    }
   ],
   "source": [
    "results.shape"
   ]
  },
  {
   "cell_type": "code",
   "execution_count": 66,
   "metadata": {},
   "outputs": [
    {
     "data": {
      "text/plain": [
       "array([[0.29730186],\n",
       "       [0.49345604],\n",
       "       [0.3410686 ],\n",
       "       ...,\n",
       "       [0.04813972],\n",
       "       [0.05025195],\n",
       "       [0.0547769 ]], dtype=float32)"
      ]
     },
     "execution_count": 66,
     "metadata": {},
     "output_type": "execute_result"
    }
   ],
   "source": [
    "scaler.fit_transform(hits['tmp'].values.reshape(len(hits['tmp']), 1))"
   ]
  },
  {
   "cell_type": "code",
   "execution_count": 65,
   "metadata": {},
   "outputs": [
    {
     "data": {
      "text/plain": [
       "array([[ 7.37213  ],\n",
       "       [11.906232 ],\n",
       "       [ 8.383798 ],\n",
       "       ...,\n",
       "       [ 1.6127492],\n",
       "       [ 1.6615734],\n",
       "       [ 1.7661676]], dtype=float32)"
      ]
     },
     "execution_count": 65,
     "metadata": {},
     "output_type": "execute_result"
    }
   ],
   "source": [
    "hits['tmp'].values.reshape(len(hits['tmp']), 1)"
   ]
  },
  {
   "cell_type": "code",
   "execution_count": 34,
   "metadata": {},
   "outputs": [
    {
     "data": {
      "text/plain": [
       "1.0"
      ]
     },
     "execution_count": 34,
     "metadata": {},
     "output_type": "execute_result"
    }
   ],
   "source": [
    "l.mean()"
   ]
  },
  {
   "cell_type": "code",
   "execution_count": null,
   "metadata": {},
   "outputs": [],
   "source": [
    "0.4293791663427201"
   ]
  },
  {
   "cell_type": "code",
   "execution_count": 417,
   "metadata": {},
   "outputs": [
    {
     "data": {
      "text/plain": [
       "(119, 2, 100287)"
      ]
     },
     "execution_count": 417,
     "metadata": {},
     "output_type": "execute_result"
    }
   ],
   "source": [
    "np.array(results).shape"
   ]
  },
  {
   "cell_type": "code",
   "execution_count": 492,
   "metadata": {},
   "outputs": [
    {
     "data": {
      "text/plain": [
       "array([[ 850618,  132622,  264149, ...,  340948, 3557779,  501639],\n",
       "       [      1,       2,       3, ...,   66312,   66313,   66306],\n",
       "       [      1,       2,       3, ...,   66319,   66320,   22093],\n",
       "       ...,\n",
       "       [      1,       2,       3, ...,   70380,   70381,   70378],\n",
       "       [      1,       2,       3, ...,   70427,   70428,   70420],\n",
       "       [      1,       2,       3, ...,   46765,   70461,   70459]])"
      ]
     },
     "execution_count": 492,
     "metadata": {},
     "output_type": "execute_result"
    }
   ],
   "source": [
    "results[:,0,:]"
   ]
  },
  {
   "cell_type": "code",
   "execution_count": 647,
   "metadata": {},
   "outputs": [],
   "source": [
    "results = np.array(results)"
   ]
  },
  {
   "cell_type": "code",
   "execution_count": 449,
   "metadata": {},
   "outputs": [],
   "source": [
    "optimizer = F1Optimizer()"
   ]
  },
  {
   "cell_type": "code",
   "execution_count": 478,
   "metadata": {},
   "outputs": [],
   "source": []
  },
  {
   "cell_type": "code",
   "execution_count": 569,
   "metadata": {},
   "outputs": [
    {
     "name": "stderr",
     "output_type": "stream",
     "text": [
      "/usr/local/lib/python3.5/dist-packages/numpy/lib/function_base.py:1128: RuntimeWarning: Mean of empty slice.\n",
      "  avg = a.mean(axis)\n",
      "/usr/local/lib/python3.5/dist-packages/numpy/core/_methods.py:80: RuntimeWarning: invalid value encountered in double_scalars\n",
      "  ret = ret.dtype.type(ret / rcount)\n"
     ]
    },
    {
     "data": {
      "text/plain": [
       "nan"
      ]
     },
     "execution_count": 569,
     "metadata": {},
     "output_type": "execute_result"
    }
   ],
   "source": [
    "scores = []\n",
    "\n",
    "for i in range(1000):\n",
    "    df = make_data(i)\n",
    "    tmp = lgb.predict_proba(df.drop(['id', 'target'], axis=1))[:, 1]\n",
    "    top_cnt = optimizer.maximize_expectation(tmp)[0]\n",
    "    pred = np.in1d(tmp, -np.sort(-tmp)[:top_cnt])\n",
    "    df['pred'] = pred\n",
    "\n",
    "\n",
    "    scores += [accuracy_score( df['target'] , pred)]\n",
    "scores = np.array(scores)\n",
    "scores.mean()"
   ]
  },
  {
   "cell_type": "code",
   "execution_count": 570,
   "metadata": {},
   "outputs": [],
   "source": [
    "scores = scores[~np.isnan(scores)]"
   ]
  },
  {
   "cell_type": "code",
   "execution_count": 572,
   "metadata": {},
   "outputs": [
    {
     "data": {
      "text/plain": [
       "0.8721194223521657"
      ]
     },
     "execution_count": 572,
     "metadata": {},
     "output_type": "execute_result"
    }
   ],
   "source": [
    "scores.mean()"
   ]
  },
  {
   "cell_type": "code",
   "execution_count": 552,
   "metadata": {},
   "outputs": [
    {
     "data": {
      "text/html": [
       "<div>\n",
       "<style scoped>\n",
       "    .dataframe tbody tr th:only-of-type {\n",
       "        vertical-align: middle;\n",
       "    }\n",
       "\n",
       "    .dataframe tbody tr th {\n",
       "        vertical-align: top;\n",
       "    }\n",
       "\n",
       "    .dataframe thead th {\n",
       "        text-align: right;\n",
       "    }\n",
       "</style>\n",
       "<table border=\"1\" class=\"dataframe\">\n",
       "  <thead>\n",
       "    <tr style=\"text-align: right;\">\n",
       "      <th></th>\n",
       "      <th>cnt_edges</th>\n",
       "      <th>mean_len</th>\n",
       "      <th>max_len</th>\n",
       "      <th>std_len</th>\n",
       "      <th>comp_len</th>\n",
       "      <th>len_first</th>\n",
       "      <th>is_edge_first</th>\n",
       "      <th>id</th>\n",
       "      <th>target</th>\n",
       "      <th>pred</th>\n",
       "    </tr>\n",
       "  </thead>\n",
       "  <tbody>\n",
       "    <tr>\n",
       "      <th>0</th>\n",
       "      <td>119</td>\n",
       "      <td>2.487395</td>\n",
       "      <td>15</td>\n",
       "      <td>2.358128</td>\n",
       "      <td>20</td>\n",
       "      <td>15</td>\n",
       "      <td>True</td>\n",
       "      <td>1001</td>\n",
       "      <td>True</td>\n",
       "      <td>True</td>\n",
       "    </tr>\n",
       "    <tr>\n",
       "      <th>1</th>\n",
       "      <td>4</td>\n",
       "      <td>0.504202</td>\n",
       "      <td>15</td>\n",
       "      <td>2.703480</td>\n",
       "      <td>20</td>\n",
       "      <td>15</td>\n",
       "      <td>True</td>\n",
       "      <td>1001</td>\n",
       "      <td>True</td>\n",
       "      <td>True</td>\n",
       "    </tr>\n",
       "    <tr>\n",
       "      <th>2</th>\n",
       "      <td>4</td>\n",
       "      <td>0.504202</td>\n",
       "      <td>15</td>\n",
       "      <td>2.703480</td>\n",
       "      <td>20</td>\n",
       "      <td>15</td>\n",
       "      <td>True</td>\n",
       "      <td>1001</td>\n",
       "      <td>True</td>\n",
       "      <td>True</td>\n",
       "    </tr>\n",
       "    <tr>\n",
       "      <th>3</th>\n",
       "      <td>4</td>\n",
       "      <td>0.504202</td>\n",
       "      <td>15</td>\n",
       "      <td>2.703480</td>\n",
       "      <td>20</td>\n",
       "      <td>15</td>\n",
       "      <td>True</td>\n",
       "      <td>1001</td>\n",
       "      <td>True</td>\n",
       "      <td>True</td>\n",
       "    </tr>\n",
       "    <tr>\n",
       "      <th>4</th>\n",
       "      <td>4</td>\n",
       "      <td>0.504202</td>\n",
       "      <td>15</td>\n",
       "      <td>2.703480</td>\n",
       "      <td>20</td>\n",
       "      <td>15</td>\n",
       "      <td>True</td>\n",
       "      <td>1001</td>\n",
       "      <td>True</td>\n",
       "      <td>True</td>\n",
       "    </tr>\n",
       "    <tr>\n",
       "      <th>5</th>\n",
       "      <td>4</td>\n",
       "      <td>0.504202</td>\n",
       "      <td>15</td>\n",
       "      <td>2.703480</td>\n",
       "      <td>20</td>\n",
       "      <td>15</td>\n",
       "      <td>True</td>\n",
       "      <td>1001</td>\n",
       "      <td>True</td>\n",
       "      <td>True</td>\n",
       "    </tr>\n",
       "    <tr>\n",
       "      <th>6</th>\n",
       "      <td>4</td>\n",
       "      <td>0.504202</td>\n",
       "      <td>15</td>\n",
       "      <td>2.703480</td>\n",
       "      <td>20</td>\n",
       "      <td>15</td>\n",
       "      <td>True</td>\n",
       "      <td>1001</td>\n",
       "      <td>True</td>\n",
       "      <td>True</td>\n",
       "    </tr>\n",
       "    <tr>\n",
       "      <th>7</th>\n",
       "      <td>4</td>\n",
       "      <td>0.504202</td>\n",
       "      <td>15</td>\n",
       "      <td>2.703480</td>\n",
       "      <td>20</td>\n",
       "      <td>15</td>\n",
       "      <td>True</td>\n",
       "      <td>1001</td>\n",
       "      <td>True</td>\n",
       "      <td>True</td>\n",
       "    </tr>\n",
       "    <tr>\n",
       "      <th>8</th>\n",
       "      <td>4</td>\n",
       "      <td>0.504202</td>\n",
       "      <td>15</td>\n",
       "      <td>2.703480</td>\n",
       "      <td>20</td>\n",
       "      <td>15</td>\n",
       "      <td>True</td>\n",
       "      <td>1001</td>\n",
       "      <td>True</td>\n",
       "      <td>True</td>\n",
       "    </tr>\n",
       "    <tr>\n",
       "      <th>9</th>\n",
       "      <td>1</td>\n",
       "      <td>0.033613</td>\n",
       "      <td>4</td>\n",
       "      <td>0.365135</td>\n",
       "      <td>20</td>\n",
       "      <td>0</td>\n",
       "      <td>False</td>\n",
       "      <td>1001</td>\n",
       "      <td>False</td>\n",
       "      <td>False</td>\n",
       "    </tr>\n",
       "    <tr>\n",
       "      <th>10</th>\n",
       "      <td>2</td>\n",
       "      <td>0.058824</td>\n",
       "      <td>4</td>\n",
       "      <td>0.454559</td>\n",
       "      <td>20</td>\n",
       "      <td>0</td>\n",
       "      <td>False</td>\n",
       "      <td>1001</td>\n",
       "      <td>False</td>\n",
       "      <td>True</td>\n",
       "    </tr>\n",
       "    <tr>\n",
       "      <th>11</th>\n",
       "      <td>4</td>\n",
       "      <td>0.504202</td>\n",
       "      <td>15</td>\n",
       "      <td>2.703480</td>\n",
       "      <td>20</td>\n",
       "      <td>15</td>\n",
       "      <td>True</td>\n",
       "      <td>1001</td>\n",
       "      <td>True</td>\n",
       "      <td>True</td>\n",
       "    </tr>\n",
       "    <tr>\n",
       "      <th>12</th>\n",
       "      <td>4</td>\n",
       "      <td>0.504202</td>\n",
       "      <td>15</td>\n",
       "      <td>2.703480</td>\n",
       "      <td>20</td>\n",
       "      <td>15</td>\n",
       "      <td>True</td>\n",
       "      <td>1001</td>\n",
       "      <td>True</td>\n",
       "      <td>True</td>\n",
       "    </tr>\n",
       "    <tr>\n",
       "      <th>13</th>\n",
       "      <td>1</td>\n",
       "      <td>0.042017</td>\n",
       "      <td>5</td>\n",
       "      <td>0.456419</td>\n",
       "      <td>20</td>\n",
       "      <td>0</td>\n",
       "      <td>False</td>\n",
       "      <td>1001</td>\n",
       "      <td>False</td>\n",
       "      <td>False</td>\n",
       "    </tr>\n",
       "    <tr>\n",
       "      <th>14</th>\n",
       "      <td>1</td>\n",
       "      <td>0.042017</td>\n",
       "      <td>5</td>\n",
       "      <td>0.456419</td>\n",
       "      <td>20</td>\n",
       "      <td>0</td>\n",
       "      <td>False</td>\n",
       "      <td>1001</td>\n",
       "      <td>False</td>\n",
       "      <td>False</td>\n",
       "    </tr>\n",
       "    <tr>\n",
       "      <th>15</th>\n",
       "      <td>1</td>\n",
       "      <td>0.042017</td>\n",
       "      <td>5</td>\n",
       "      <td>0.456419</td>\n",
       "      <td>20</td>\n",
       "      <td>0</td>\n",
       "      <td>False</td>\n",
       "      <td>1001</td>\n",
       "      <td>False</td>\n",
       "      <td>False</td>\n",
       "    </tr>\n",
       "    <tr>\n",
       "      <th>16</th>\n",
       "      <td>4</td>\n",
       "      <td>0.504202</td>\n",
       "      <td>15</td>\n",
       "      <td>2.703480</td>\n",
       "      <td>20</td>\n",
       "      <td>15</td>\n",
       "      <td>True</td>\n",
       "      <td>1001</td>\n",
       "      <td>True</td>\n",
       "      <td>True</td>\n",
       "    </tr>\n",
       "    <tr>\n",
       "      <th>17</th>\n",
       "      <td>4</td>\n",
       "      <td>0.504202</td>\n",
       "      <td>15</td>\n",
       "      <td>2.703480</td>\n",
       "      <td>20</td>\n",
       "      <td>15</td>\n",
       "      <td>True</td>\n",
       "      <td>1001</td>\n",
       "      <td>True</td>\n",
       "      <td>True</td>\n",
       "    </tr>\n",
       "    <tr>\n",
       "      <th>18</th>\n",
       "      <td>4</td>\n",
       "      <td>0.504202</td>\n",
       "      <td>15</td>\n",
       "      <td>2.703480</td>\n",
       "      <td>20</td>\n",
       "      <td>15</td>\n",
       "      <td>True</td>\n",
       "      <td>1001</td>\n",
       "      <td>True</td>\n",
       "      <td>True</td>\n",
       "    </tr>\n",
       "  </tbody>\n",
       "</table>\n",
       "</div>"
      ],
      "text/plain": [
       "    cnt_edges  mean_len  max_len   std_len  comp_len  len_first  \\\n",
       "0         119  2.487395       15  2.358128        20         15   \n",
       "1           4  0.504202       15  2.703480        20         15   \n",
       "2           4  0.504202       15  2.703480        20         15   \n",
       "3           4  0.504202       15  2.703480        20         15   \n",
       "4           4  0.504202       15  2.703480        20         15   \n",
       "5           4  0.504202       15  2.703480        20         15   \n",
       "6           4  0.504202       15  2.703480        20         15   \n",
       "7           4  0.504202       15  2.703480        20         15   \n",
       "8           4  0.504202       15  2.703480        20         15   \n",
       "9           1  0.033613        4  0.365135        20          0   \n",
       "10          2  0.058824        4  0.454559        20          0   \n",
       "11          4  0.504202       15  2.703480        20         15   \n",
       "12          4  0.504202       15  2.703480        20         15   \n",
       "13          1  0.042017        5  0.456419        20          0   \n",
       "14          1  0.042017        5  0.456419        20          0   \n",
       "15          1  0.042017        5  0.456419        20          0   \n",
       "16          4  0.504202       15  2.703480        20         15   \n",
       "17          4  0.504202       15  2.703480        20         15   \n",
       "18          4  0.504202       15  2.703480        20         15   \n",
       "\n",
       "    is_edge_first    id  target   pred  \n",
       "0            True  1001    True   True  \n",
       "1            True  1001    True   True  \n",
       "2            True  1001    True   True  \n",
       "3            True  1001    True   True  \n",
       "4            True  1001    True   True  \n",
       "5            True  1001    True   True  \n",
       "6            True  1001    True   True  \n",
       "7            True  1001    True   True  \n",
       "8            True  1001    True   True  \n",
       "9           False  1001   False  False  \n",
       "10          False  1001   False   True  \n",
       "11           True  1001    True   True  \n",
       "12           True  1001    True   True  \n",
       "13          False  1001   False  False  \n",
       "14          False  1001   False  False  \n",
       "15          False  1001   False  False  \n",
       "16           True  1001    True   True  \n",
       "17           True  1001    True   True  \n",
       "18           True  1001    True   True  "
      ]
     },
     "execution_count": 552,
     "metadata": {},
     "output_type": "execute_result"
    }
   ],
   "source": [
    "df"
   ]
  },
  {
   "cell_type": "code",
   "execution_count": 608,
   "metadata": {},
   "outputs": [
    {
     "data": {
      "text/plain": [
       "(119, 2, 100287)"
      ]
     },
     "execution_count": 608,
     "metadata": {},
     "output_type": "execute_result"
    }
   ],
   "source": [
    "results.shape"
   ]
  },
  {
   "cell_type": "code",
   "execution_count": 742,
   "metadata": {},
   "outputs": [],
   "source": [
    "labels = np.zeros(results.shape[2])"
   ]
  },
  {
   "cell_type": "code",
   "execution_count": 640,
   "metadata": {},
   "outputs": [],
   "source": [
    "labels1 = labels.copy()"
   ]
  },
  {
   "cell_type": "code",
   "execution_count": 695,
   "metadata": {},
   "outputs": [],
   "source": [
    "import threading\n",
    "lock = threading.Lock()\n",
    "\n"
   ]
  },
  {
   "cell_type": "code",
   "execution_count": 687,
   "metadata": {},
   "outputs": [
    {
     "data": {
      "text/plain": [
       "1"
      ]
     },
     "execution_count": 687,
     "metadata": {},
     "output_type": "execute_result"
    }
   ],
   "source": [
    "(labels!=0).sum()"
   ]
  },
  {
   "cell_type": "code",
   "execution_count": 749,
   "metadata": {},
   "outputs": [],
   "source": [
    "def merge_foo(i):\n",
    "    lock.acquire()\n",
    "\n",
    "    if labels[i] == 0:\n",
    "        lock.release()\n",
    "\n",
    "\n",
    "        curr = np.equal(results[:, 0, :], np.repeat(results[:, 0, i:i+1], results.shape[2], axis=1))\n",
    "        idxs = np.where( (curr.sum(axis=0) > 0) == True  )[0]\n",
    "        cnt_edges = curr[:, idxs[1:]].sum(axis=0)#.sum()\n",
    "        cnt = curr[:, idxs].sum(axis=1)\n",
    "        lengths = curr[:, idxs[1:]] * np.repeat(cnt.reshape((len(cnt), 1)), len(idxs)-1, axis=1)\n",
    "\n",
    "        df = pd.DataFrame()\n",
    "        df['cnt_edges'] = cnt_edges\n",
    "        df['mean_len'] = lengths.mean(axis=0)\n",
    "        df['max_len'] = lengths.max(axis=0)\n",
    "        df['std_len'] = lengths.std(axis=0)\n",
    "        df['comp_len'] = len(idxs)\n",
    "\n",
    "        # По несмещенному кластеру\n",
    "        df['len_first'] = lengths[0]\n",
    "        df['is_edge_first'] = curr[:, idxs[1:]][0]\n",
    "\n",
    "        df['id'] = i\n",
    "\n",
    "        #print(i)\n",
    "        #lock.acquire()\n",
    "        #print(i)\n",
    "\n",
    "        tmp = lgb.predict_proba(df.drop(['id'], axis=1))[:, 1]\n",
    "        #lock.release()\n",
    "        #print(i)\n",
    "\n",
    "        #print(i)\n",
    "\n",
    "\n",
    "        #lock.acquire()\n",
    "        \n",
    "        top_cnt = optimizer.maximize_expectation(tmp)[0]\n",
    "        #lock.release()\n",
    "        #print(i)\n",
    "        \n",
    "        pred = np.in1d(tmp, -np.sort(-tmp)[:top_cnt])\n",
    "        df['pred'] = pred    \n",
    "\n",
    "    #     particle_id = truth[truth.hit_id == idxs[0]+1]['particle_id'].values[0]\n",
    "    #     gt_hit_ids = truth[truth.particle_id == particle_id]['hit_id'].values\n",
    "    #     hit_ids = idxs + 1\n",
    "    #     df['target'] = np.in1d(hit_ids[1:], gt_hit_ids)\n",
    "\n",
    "        true_idxs_mask = np.array([True] + list(df['pred'].values))\n",
    "        true_idxs = idxs[true_idxs_mask]\n",
    "\n",
    "        lock.acquire()\n",
    "        if labels[idxs[0]] == 0:\n",
    "            labels[true_idxs] = i+1\n",
    "        lock.release()\n",
    "        #print(i)\n",
    "\n",
    "    else:\n",
    "        lock.release()\n",
    "\n"
   ]
  },
  {
   "cell_type": "code",
   "execution_count": 710,
   "metadata": {},
   "outputs": [
    {
     "name": "stdout",
     "output_type": "stream",
     "text": [
      "0\n"
     ]
    }
   ],
   "source": [
    "merge_foo(0)"
   ]
  },
  {
   "cell_type": "code",
   "execution_count": 711,
   "metadata": {},
   "outputs": [
    {
     "data": {
      "text/plain": [
       "array([1., 1., 2., ..., 0., 0., 0.])"
      ]
     },
     "execution_count": 711,
     "metadata": {},
     "output_type": "execute_result"
    }
   ],
   "source": [
    "labels"
   ]
  },
  {
   "cell_type": "code",
   "execution_count": 750,
   "metadata": {},
   "outputs": [
    {
     "name": "stderr",
     "output_type": "stream",
     "text": [
      "\n",
      "0it [00:00, ?it/s]\u001b[A\n",
      "1it [00:01,  1.05s/it]\u001b[A\n",
      "3it [00:01,  2.61it/s]\u001b[A\n",
      "9it [00:02,  4.45it/s]\u001b[A\n",
      "12it [00:02,  5.62it/s]\u001b[A\n",
      "17it [00:02,  5.69it/s]\u001b[A\n",
      "19it [00:03,  5.99it/s]\u001b[A\n",
      "25it [00:03,  6.38it/s]\u001b[A\n",
      "26it [00:04,  6.30it/s]\u001b[A\n",
      "34it [00:04,  7.03it/s]\u001b[A\n",
      "35it [00:05,  6.86it/s]\u001b[A\n",
      "38it [00:42,  1.11s/it]\u001b[A\n",
      "364it [00:42,  8.58it/s]\u001b[A\n",
      "392it [00:45,  8.63it/s]\u001b[A\n",
      "412it [00:47,  8.68it/s]\u001b[A\n",
      "426it [00:49,  8.68it/s]\u001b[A\n",
      "437it [00:49,  8.74it/s]\u001b[A\n",
      "445it [00:50,  8.76it/s]\u001b[A\n",
      "451it [00:51,  8.81it/s]\u001b[A\n",
      "456it [00:51,  8.82it/s]\u001b[A\n",
      "460it [00:52,  8.83it/s]\u001b[A\n",
      "463it [00:52,  8.82it/s]\u001b[A\n",
      "466it [00:52,  8.86it/s]\u001b[A\n",
      "469it [00:53,  8.83it/s]\u001b[A\n",
      "471it [00:53,  8.84it/s]\u001b[A\n",
      "475it [00:53,  8.87it/s]\u001b[A\n",
      "477it [00:53,  8.85it/s]\u001b[A\n",
      "479it [00:54,  8.85it/s]\u001b[A\n",
      "483it [00:54,  8.88it/s]\u001b[A\n",
      "485it [00:54,  8.88it/s]\u001b[A\n",
      "487it [00:54,  8.88it/s]\u001b[A\n",
      "490it [00:55,  8.90it/s]\u001b[A\n",
      "492it [00:55,  8.91it/s]\u001b[A\n",
      "494it [00:55,  8.88it/s]\u001b[A\n",
      "498it [00:55,  8.92it/s]\u001b[A\n",
      "500it [00:56,  8.93it/s]\u001b[A\n",
      "502it [00:56,  8.93it/s]\u001b[A\n",
      "504it [00:56,  8.92it/s]\u001b[A\n",
      "506it [00:56,  8.92it/s]\u001b[A\n",
      "508it [00:56,  8.94it/s]\u001b[A\n",
      "510it [00:56,  8.95it/s]\u001b[A\n",
      "513it [00:57,  8.97it/s]\u001b[A\n",
      "516it [00:57,  8.97it/s]\u001b[A\n",
      "519it [00:57,  8.99it/s]\u001b[A\n",
      "522it [00:57,  9.01it/s]\u001b[A\n",
      "524it [00:58,  8.99it/s]\u001b[A\n",
      "526it [00:58,  9.01it/s]\u001b[A\n",
      "528it [00:58,  9.03it/s]\u001b[A\n",
      "531it [00:58,  9.06it/s]\u001b[A\n",
      "533it [00:58,  9.04it/s]\u001b[A\n",
      "535it [00:59,  9.04it/s]\u001b[A\n",
      "539it [00:59,  9.08it/s]\u001b[A\n",
      "542it [00:59,  9.09it/s]\u001b[A\n",
      "544it [01:00,  9.06it/s]\u001b[A\n",
      "547it [01:00,  9.10it/s]\u001b[A\n",
      "550it [01:00,  9.11it/s]\u001b[A\n",
      "552it [01:00,  9.08it/s]\u001b[A\n",
      "554it [01:00,  9.10it/s]\u001b[A\n",
      "556it [01:00,  9.12it/s]\u001b[A\n",
      "558it [01:01,  9.13it/s]\u001b[A\n",
      "560it [01:01,  9.10it/s]\u001b[A\n",
      "563it [01:01,  9.13it/s]\u001b[A\n",
      "566it [01:01,  9.15it/s]\u001b[A\n",
      "568it [01:02,  9.11it/s]\u001b[A\n",
      "572it [01:02,  9.15it/s]\u001b[A\n",
      "574it [01:02,  9.16it/s]\u001b[A\n",
      "576it [01:03,  9.13it/s]\u001b[A\n",
      "580it [01:03,  9.18it/s]\u001b[A\n",
      "583it [01:03,  9.20it/s]\u001b[A\n",
      "585it [01:03,  9.17it/s]\u001b[A\n",
      "589it [01:03,  9.21it/s]\u001b[A\n",
      "592it [01:04,  9.23it/s]\u001b[A\n",
      "594it [01:04,  9.19it/s]\u001b[A\n",
      "596it [01:04,  9.20it/s]\u001b[A\n",
      "600it [01:05,  9.23it/s]\u001b[A\n",
      "602it [01:05,  9.21it/s]\u001b[A\n",
      "604it [01:05,  9.21it/s]\u001b[A\n",
      "607it [01:05,  9.24it/s]\u001b[A\n",
      "609it [01:05,  9.24it/s]\u001b[A\n",
      "611it [01:06,  9.24it/s]\u001b[A\n",
      "614it [01:06,  9.25it/s]\u001b[A\n",
      "617it [01:06,  9.26it/s]\u001b[A\n",
      "619it [01:06,  9.26it/s]\u001b[A\n",
      "622it [01:07,  9.27it/s]\u001b[A\n",
      "624it [01:07,  9.28it/s]\u001b[A\n",
      "626it [01:07,  9.28it/s]\u001b[A\n",
      "628it [01:07,  9.29it/s]\u001b[A\n",
      "630it [01:07,  9.28it/s]\u001b[A\n",
      "632it [01:08,  9.29it/s]\u001b[A\n",
      "634it [01:08,  9.28it/s]\u001b[A\n",
      "637it [01:08,  9.30it/s]\u001b[A\n",
      "639it [01:08,  9.30it/s]\u001b[A\n",
      "641it [01:08,  9.30it/s]\u001b[A\n",
      "643it [01:09,  9.30it/s]\u001b[A\n",
      "645it [01:09,  9.32it/s]\u001b[A\n",
      "647it [01:09,  9.33it/s]\u001b[A\n",
      "649it [01:09,  9.34it/s]\u001b[A\n",
      "651it [01:09,  9.33it/s]\u001b[A\n",
      "654it [01:09,  9.36it/s]\u001b[A\n",
      "656it [01:10,  9.36it/s]\u001b[A\n",
      "658it [01:10,  9.36it/s]\u001b[A\n",
      "660it [01:10,  9.37it/s]\u001b[A\n",
      "662it [01:10,  9.38it/s]\u001b[A\n",
      "664it [01:10,  9.37it/s]\u001b[A\n",
      "667it [01:11,  9.39it/s]\u001b[A\n",
      "670it [01:11,  9.41it/s]\u001b[A\n",
      "672it [01:11,  9.40it/s]\u001b[A\n",
      "675it [01:11,  9.43it/s]\u001b[A\n",
      "678it [01:11,  9.44it/s]\u001b[A\n",
      "680it [01:12,  9.43it/s]\u001b[A\n",
      "684it [01:12,  9.46it/s]\u001b[A\n",
      "686it [01:12,  9.47it/s]\u001b[A\n",
      "688it [01:12,  9.46it/s]\u001b[A\n",
      "693it [01:12,  9.51it/s]\u001b[A\n",
      "696it [01:13,  9.50it/s]\u001b[A\n",
      "698it [01:13,  9.52it/s]\u001b[A\n",
      "700it [01:13,  9.52it/s]\u001b[A\n",
      "703it [01:13,  9.55it/s]\u001b[A\n",
      "705it [01:13,  9.54it/s]\u001b[A\n",
      "708it [01:14,  9.56it/s]\u001b[A\n",
      "710it [01:14,  9.57it/s]\u001b[A\n",
      "712it [01:14,  9.57it/s]\u001b[A\n",
      "714it [01:14,  9.59it/s]\u001b[A\n",
      "716it [01:14,  9.60it/s]\u001b[A\n",
      "718it [01:14,  9.60it/s]\u001b[A\n",
      "720it [01:15,  9.60it/s]\u001b[A\n",
      "722it [01:15,  9.61it/s]\u001b[A\n",
      "725it [01:15,  9.63it/s]\u001b[A\n",
      "727it [01:15,  9.63it/s]\u001b[A\n",
      "729it [01:15,  9.64it/s]\u001b[A\n",
      "732it [01:15,  9.66it/s]\u001b[A\n",
      "734it [01:15,  9.66it/s]\u001b[A\n",
      "736it [01:16,  9.65it/s]\u001b[A\n",
      "740it [01:16,  9.69it/s]\u001b[A\n",
      "742it [01:16,  9.68it/s]\u001b[A\n",
      "744it [01:16,  9.69it/s]\u001b[A\n",
      "746it [01:17,  9.69it/s]\u001b[A\n",
      "750it [01:17,  9.71it/s]\u001b[A\n",
      "752it [01:17,  9.72it/s]\u001b[A\n",
      "754it [01:17,  9.72it/s]\u001b[A\n",
      "757it [01:17,  9.74it/s]\u001b[A\n",
      "759it [01:17,  9.74it/s]\u001b[A\n",
      "762it [01:18,  9.74it/s]\u001b[A\n",
      "766it [01:18,  9.76it/s]\u001b[A\n",
      "768it [01:18,  9.78it/s]\u001b[A\n",
      "770it [01:18,  9.76it/s]\u001b[A\n",
      "773it [01:19,  9.78it/s]\u001b[A\n",
      "775it [01:19,  9.79it/s]\u001b[A\n",
      "779it [01:19,  9.81it/s]\u001b[A\n",
      "781it [01:19,  9.82it/s]\u001b[A\n",
      "783it [01:19,  9.83it/s]\u001b[A\n",
      "786it [01:19,  9.85it/s]\u001b[A\n",
      "788it [01:20,  9.84it/s]\u001b[A\n",
      "790it [01:20,  9.84it/s]\u001b[A\n",
      "793it [01:20,  9.86it/s]\u001b[A\n",
      "795it [01:20,  9.87it/s]\u001b[A\n",
      "797it [01:20,  9.88it/s]\u001b[A\n",
      "799it [01:20,  9.87it/s]\u001b[A\n",
      "802it [01:21,  9.89it/s]\u001b[A\n",
      "804it [01:21,  9.90it/s]\u001b[A\n",
      "807it [01:21,  9.91it/s]\u001b[A\n",
      "809it [01:21,  9.92it/s]\u001b[A\n",
      "812it [01:21,  9.91it/s]\u001b[A\n",
      "818it [01:22,  9.96it/s]\u001b[A\n",
      "820it [01:22,  9.94it/s]\u001b[A\n",
      "826it [01:22,  9.98it/s]\u001b[A\n",
      "828it [01:23,  9.96it/s]\u001b[A\n",
      "830it [01:23,  9.97it/s]\u001b[A\n",
      "835it [01:23, 10.00it/s]\u001b[A\n",
      "837it [01:23, 10.00it/s]\u001b[A\n",
      "839it [01:23, 10.01it/s]\u001b[A\n",
      "844it [01:24, 10.04it/s]\u001b[A\n",
      "846it [01:24, 10.02it/s]\u001b[A\n",
      "852it [01:24, 10.06it/s]\u001b[A\n",
      "854it [01:25, 10.04it/s]\u001b[A\n",
      "860it [01:25, 10.09it/s]\u001b[A\n",
      "863it [01:25, 10.07it/s]\u001b[A\n",
      "868it [01:25, 10.12it/s]\u001b[A\n",
      "871it [01:26, 10.09it/s]\u001b[A\n",
      "876it [01:26, 10.13it/s]\u001b[A\n",
      "879it [01:26, 10.11it/s]\u001b[A\n",
      "885it [01:27, 10.16it/s]\u001b[A\n",
      "888it [01:27, 10.15it/s]\u001b[A\n",
      "891it [01:27, 10.16it/s]\u001b[A\n",
      "896it [01:28, 10.17it/s]\u001b[A\n",
      "899it [01:28, 10.19it/s]\u001b[A\n",
      "904it [01:28, 10.19it/s]\u001b[A\n",
      "907it [01:28, 10.20it/s]\u001b[A\n",
      "909it [01:29, 10.21it/s]\u001b[A\n",
      "913it [01:29, 10.23it/s]\u001b[A\n",
      "915it [01:29, 10.24it/s]\u001b[A\n",
      "917it [01:29, 10.25it/s]\u001b[A\n",
      "920it [01:29, 10.27it/s]\u001b[A\n",
      "922it [01:29, 10.25it/s]\u001b[A\n",
      "926it [01:30, 10.28it/s]\u001b[A\n",
      "929it [01:30, 10.30it/s]\u001b[A\n",
      "932it [01:30, 10.29it/s]\u001b[A\n",
      "934it [01:30, 10.29it/s]\u001b[A\n",
      "939it [01:31, 10.30it/s]\u001b[A\n",
      "942it [01:31, 10.32it/s]\u001b[A\n",
      "946it [01:31, 10.35it/s]\u001b[A\n",
      "949it [01:31, 10.33it/s]\u001b[A\n",
      "955it [01:31, 10.38it/s]\u001b[A\n",
      "958it [01:32, 10.36it/s]\u001b[A\n",
      "963it [01:32, 10.40it/s]\u001b[A\n",
      "966it [01:33, 10.38it/s]\u001b[A\n",
      "969it [01:33, 10.40it/s]\u001b[A\n",
      "972it [01:33, 10.40it/s]\u001b[A\n",
      "974it [01:33, 10.40it/s]\u001b[A\n",
      "977it [01:33, 10.42it/s]\u001b[A\n",
      "981it [01:34, 10.42it/s]\u001b[A\n",
      "986it [01:34, 10.44it/s]\u001b[A\n",
      "989it [01:34, 10.44it/s]\u001b[A\n",
      "992it [01:34, 10.45it/s]\u001b[A\n",
      "994it [01:35, 10.46it/s]\u001b[A\n",
      "997it [01:35, 10.46it/s]\u001b[A\n",
      "1000it [01:35, 10.47it/s]\u001b[A\n",
      "1002it [01:35, 10.47it/s]\u001b[A\n",
      "1005it [01:35, 10.48it/s]\u001b[A\n",
      "1008it [01:36, 10.49it/s]\u001b[A\n",
      "1010it [01:36, 10.49it/s]\u001b[A\n",
      "1013it [01:36, 10.50it/s]\u001b[A\n",
      "1015it [01:36, 10.51it/s]\u001b[A\n",
      "1017it [01:36, 10.52it/s]\u001b[A\n",
      "1019it [01:36, 10.52it/s]\u001b[A\n",
      "1021it [01:37, 10.52it/s]\u001b[A\n",
      "1026it [01:37, 10.55it/s]\u001b[A\n",
      "1028it [01:37, 10.54it/s]\u001b[A\n",
      "1030it [01:37, 10.55it/s]\u001b[A\n",
      "1032it [01:37, 10.55it/s]\u001b[A\n",
      "1035it [01:38, 10.55it/s]\u001b[A\n",
      "1038it [01:38, 10.57it/s]\u001b[A\n",
      "1040it [01:38, 10.57it/s]\u001b[A\n",
      "1044it [01:38, 10.58it/s]\u001b[A\n",
      "1047it [01:38, 10.59it/s]\u001b[A\n",
      "1049it [01:38, 10.60it/s]\u001b[A\n",
      "1051it [01:39, 10.60it/s]\u001b[A\n",
      "1053it [01:39, 10.60it/s]\u001b[A\n",
      "1057it [01:39, 10.61it/s]\u001b[A\n",
      "1059it [01:39, 10.62it/s]\u001b[A\n",
      "1061it [01:39, 10.62it/s]\u001b[A\n",
      "1063it [01:40, 10.62it/s]\u001b[A\n",
      "1066it [01:40, 10.64it/s]\u001b[A\n",
      "1068it [01:40, 10.64it/s]\u001b[A\n",
      "1070it [01:40, 10.64it/s]\u001b[A\n",
      "1072it [01:40, 10.65it/s]\u001b[A\n",
      "1075it [01:40, 10.67it/s]\u001b[A\n",
      "1077it [01:41, 10.66it/s]\u001b[A\n",
      "1082it [01:41, 10.70it/s]\u001b[A\n",
      "1085it [01:41, 10.70it/s]\u001b[A\n",
      "1088it [01:41, 10.72it/s]\u001b[A\n",
      "1091it [01:41, 10.73it/s]\u001b[A\n",
      "1094it [01:41, 10.74it/s]\u001b[A\n",
      "1096it [01:41, 10.75it/s]\u001b[A\n",
      "1099it [01:42, 10.77it/s]\u001b[A\n",
      "1102it [01:42, 10.77it/s]\u001b[A\n",
      "1106it [01:42, 10.79it/s]\u001b[A\n",
      "1109it [01:42, 10.80it/s]\u001b[A\n",
      "1113it [01:42, 10.82it/s]\u001b[A\n",
      "1117it [01:42, 10.85it/s]\u001b[A\n",
      "1120it [01:43, 10.86it/s]\u001b[A\n",
      "1123it [01:43, 10.87it/s]\u001b[A\n",
      "1126it [01:43, 10.88it/s]\u001b[A\n",
      "1129it [01:43, 10.89it/s]\u001b[A\n",
      "1131it [01:43, 10.90it/s]\u001b[A\n",
      "1134it [01:43, 10.91it/s]\u001b[A\n",
      "1136it [01:44, 10.92it/s]\u001b[A\n",
      "1140it [01:44, 10.94it/s]\u001b[A\n",
      "1142it [01:44, 10.94it/s]\u001b[A\n",
      "1144it [01:44, 10.94it/s]\u001b[A\n",
      "1148it [01:44, 10.97it/s]\u001b[A\n",
      "1151it [01:44, 10.98it/s]\u001b[A\n",
      "1153it [01:45, 10.98it/s]\u001b[A\n",
      "1156it [01:45, 11.00it/s]\u001b[A\n",
      "1159it [01:45, 11.01it/s]\u001b[A\n",
      "1161it [01:45, 11.02it/s]\u001b[A\n",
      "1163it [01:45, 11.02it/s]\u001b[A\n",
      "1165it [01:45, 11.03it/s]\u001b[A\n",
      "1168it [01:45, 11.04it/s]\u001b[A\n",
      "1170it [01:45, 11.05it/s]\u001b[A\n",
      "1172it [01:46, 11.05it/s]\u001b[A\n",
      "1177it [01:46, 11.08it/s]\u001b[A\n",
      "1179it [01:46, 11.07it/s]\u001b[A\n",
      "1185it [01:46, 11.11it/s]\u001b[A\n",
      "1188it [01:46, 11.10it/s]\u001b[A\n",
      "1193it [01:47, 11.13it/s]\u001b[A\n",
      "1196it [01:47, 11.13it/s]\u001b[A\n",
      "1202it [01:47, 11.17it/s]\u001b[A\n",
      "1205it [01:47, 11.18it/s]\u001b[A\n",
      "1208it [01:47, 11.19it/s]\u001b[A\n",
      "1211it [01:48, 11.20it/s]\u001b[A\n",
      "1213it [01:48, 11.21it/s]\u001b[A\n",
      "1216it [01:48, 11.22it/s]\u001b[A\n",
      "1218it [01:48, 11.22it/s]\u001b[A\n",
      "1221it [01:48, 11.24it/s]\u001b[A\n",
      "1224it [01:48, 11.25it/s]\u001b[A\n",
      "1228it [01:48, 11.27it/s]\u001b[A\n",
      "1231it [01:49, 11.28it/s]\u001b[A\n",
      "1234it [01:49, 11.29it/s]\u001b[A\n",
      "1236it [01:49, 11.30it/s]\u001b[A\n",
      "1240it [01:49, 11.32it/s]\u001b[A\n",
      "1243it [01:49, 11.32it/s]\u001b[A\n",
      "1250it [01:50, 11.36it/s]\u001b[A\n",
      "1253it [01:50, 11.36it/s]\u001b[A\n",
      "1257it [01:50, 11.38it/s]\u001b[A\n",
      "1263it [01:50, 11.40it/s]\u001b[A\n",
      "1270it [01:50, 11.45it/s]\u001b[A\n",
      "1274it [01:51, 11.46it/s]\u001b[A\n",
      "1279it [01:51, 11.47it/s]\u001b[A\n",
      "1282it [01:51, 11.48it/s]\u001b[A\n",
      "1285it [01:51, 11.49it/s]\u001b[A\n",
      "1292it [01:52, 11.53it/s]\u001b[A\n",
      "1295it [01:52, 11.54it/s]\u001b[A\n",
      "1298it [01:52, 11.56it/s]\u001b[A\n",
      "1302it [01:52, 11.58it/s]\u001b[A\n",
      "1305it [01:52, 11.60it/s]\u001b[A\n",
      "1308it [01:52, 11.61it/s]\u001b[A\n",
      "1312it [01:52, 11.63it/s]\u001b[A\n",
      "1316it [01:52, 11.66it/s]\u001b[A\n",
      "1319it [01:53, 11.67it/s]\u001b[A\n",
      "1325it [01:53, 11.71it/s]\u001b[A\n",
      "1329it [01:53, 11.73it/s]\u001b[A\n",
      "1337it [01:53, 11.79it/s]\u001b[A\n",
      "1342it [01:53, 11.81it/s]\u001b[A\n",
      "1346it [01:53, 11.84it/s]\u001b[A\n",
      "1350it [01:53, 11.86it/s]\u001b[A\n",
      "1355it [01:53, 11.89it/s]\u001b[A\n",
      "1359it [01:54, 11.90it/s]\u001b[A\n",
      "1364it [01:54, 11.93it/s]\u001b[A\n",
      "1368it [01:54, 11.95it/s]\u001b[A\n",
      "1375it [01:54, 11.98it/s]\u001b[A\n",
      "1380it [01:54, 12.02it/s]\u001b[A\n",
      "1385it [01:54, 12.05it/s]\u001b[A\n",
      "1390it [01:55, 12.08it/s]\u001b[A\n",
      "1394it [01:55, 12.10it/s]\u001b[A\n",
      "1398it [01:55, 12.11it/s]\u001b[A\n",
      "1405it [01:55, 12.15it/s]\u001b[A\n",
      "1410it [01:55, 12.18it/s]\u001b[A\n",
      "1414it [01:55, 12.20it/s]\u001b[A\n",
      "1422it [01:56, 12.25it/s]\u001b[A\n",
      "1427it [01:56, 12.27it/s]\u001b[A\n",
      "1432it [01:56, 12.29it/s]\u001b[A\n",
      "1438it [01:56, 12.33it/s]\u001b[A\n",
      "1442it [01:56, 12.34it/s]\u001b[A\n",
      "1450it [01:56, 12.40it/s]\u001b[A\n",
      "1455it [01:57, 12.42it/s]\u001b[A\n",
      "1462it [01:57, 12.45it/s]\u001b[A\n",
      "1470it [01:57, 12.49it/s]\u001b[A\n",
      "1474it [01:57, 12.51it/s]\u001b[A\n",
      "1482it [01:57, 12.57it/s]\u001b[A\n",
      "1486it [01:58, 12.58it/s]\u001b[A\n",
      "1491it [01:58, 12.61it/s]\u001b[A\n",
      "1498it [01:58, 12.66it/s]\u001b[A\n",
      "1503it [01:58, 12.68it/s]\u001b[A\n",
      "1507it [01:58, 12.69it/s]\u001b[A\n",
      "1511it [01:58, 12.71it/s]\u001b[A\n",
      "1516it [01:59, 12.74it/s]\u001b[A\n",
      "1523it [01:59, 12.78it/s]\u001b[A\n",
      "1527it [01:59, 12.80it/s]\u001b[A\n",
      "1533it [01:59, 12.84it/s]\u001b[A\n",
      "1537it [01:59, 12.85it/s]\u001b[A\n",
      "1541it [01:59, 12.88it/s]\u001b[A\n",
      "1549it [01:59, 12.93it/s]\u001b[A\n",
      "1553it [01:59, 12.95it/s]\u001b[A\n",
      "1557it [02:00, 12.97it/s]\u001b[A\n",
      "1563it [02:00, 13.00it/s]\u001b[A\n",
      "1567it [02:00, 13.02it/s]\u001b[A\n",
      "1571it [02:00, 13.04it/s]\u001b[A\n",
      "1575it [02:00, 13.06it/s]\u001b[A\n",
      "1582it [02:00, 13.10it/s]\u001b[A\n",
      "1586it [02:00, 13.11it/s]\u001b[A\n",
      "1592it [02:01, 13.14it/s]\u001b[A\n",
      "1598it [02:01, 13.18it/s]\u001b[A\n",
      "1603it [02:01, 13.20it/s]\u001b[A\n",
      "1609it [02:01, 13.24it/s]\u001b[A\n",
      "1614it [02:01, 13.26it/s]\u001b[A\n",
      "1618it [02:01, 13.28it/s]\u001b[A\n",
      "1623it [02:02, 13.30it/s]\u001b[A\n",
      "1627it [02:02, 13.32it/s]\u001b[A\n",
      "1633it [02:02, 13.35it/s]\u001b[A\n",
      "1638it [02:02, 13.38it/s]\u001b[A\n",
      "1642it [02:02, 13.39it/s]\u001b[A\n",
      "1647it [02:02, 13.42it/s]\u001b[A\n",
      "1654it [02:02, 13.46it/s]\u001b[A\n",
      "1659it [02:03, 13.48it/s]\u001b[A\n",
      "1663it [02:03, 13.50it/s]\u001b[A\n",
      "1668it [02:03, 13.52it/s]\u001b[A\n",
      "1677it [02:03, 13.57it/s]\u001b[A\n",
      "1683it [02:03, 13.61it/s]\u001b[A\n",
      "1688it [02:03, 13.62it/s]\u001b[A\n",
      "1695it [02:04, 13.66it/s]\u001b[A\n",
      "1699it [02:04, 13.68it/s]\u001b[A\n",
      "1707it [02:04, 13.72it/s]\u001b[A\n",
      "1714it [02:04, 13.76it/s]\u001b[A\n",
      "1718it [02:04, 13.77it/s]\u001b[A\n",
      "1727it [02:04, 13.83it/s]\u001b[A\n",
      "1732it [02:05, 13.85it/s]\u001b[A\n",
      "1738it [02:05, 13.88it/s]\u001b[A\n",
      "1742it [02:05, 13.90it/s]\u001b[A\n",
      "1747it [02:05, 13.93it/s]\u001b[A\n",
      "1752it [02:05, 13.95it/s]\u001b[A\n",
      "1757it [02:05, 13.98it/s]\u001b[A\n",
      "1762it [02:05, 13.99it/s]\u001b[A\n",
      "1770it [02:06, 14.04it/s]\u001b[A\n",
      "1775it [02:06, 14.06it/s]\u001b[A\n",
      "1780it [02:06, 14.08it/s]\u001b[A\n",
      "1784it [02:06, 14.09it/s]\u001b[A\n",
      "1791it [02:06, 14.13it/s]\u001b[A\n",
      "1795it [02:06, 14.15it/s]\u001b[A\n",
      "1802it [02:07, 14.18it/s]\u001b[A\n",
      "1806it [02:07, 14.20it/s]\u001b[A\n",
      "1811it [02:07, 14.22it/s]\u001b[A\n",
      "1815it [02:07, 14.23it/s]\u001b[A\n",
      "1821it [02:07, 14.26it/s]\u001b[A\n",
      "1825it [02:07, 14.28it/s]\u001b[A\n",
      "1831it [02:07, 14.31it/s]\u001b[A\n",
      "1835it [02:08, 14.33it/s]\u001b[A\n",
      "1839it [02:08, 14.35it/s]\u001b[A\n",
      "1848it [02:08, 14.40it/s]\u001b[A\n",
      "1853it [02:08, 14.41it/s]\u001b[A\n",
      "1859it [02:08, 14.44it/s]\u001b[A\n",
      "1863it [02:08, 14.46it/s]\u001b[A\n",
      "1869it [02:08, 14.49it/s]\u001b[A\n",
      "1873it [02:09, 14.50it/s]\u001b[A\n",
      "1878it [02:09, 14.52it/s]\u001b[A\n",
      "1883it [02:09, 14.54it/s]\u001b[A\n",
      "1887it [02:09, 14.55it/s]\u001b[A\n",
      "1894it [02:09, 14.59it/s]\u001b[A\n",
      "1898it [02:10, 14.59it/s]\u001b[A\n",
      "1905it [02:10, 14.64it/s]\u001b[A\n",
      "1910it [02:10, 14.66it/s]\u001b[A\n",
      "1917it [02:10, 14.70it/s]\u001b[A\n",
      "1922it [02:10, 14.71it/s]\u001b[A\n",
      "1928it [02:10, 14.74it/s]\u001b[A\n",
      "1933it [02:10, 14.76it/s]\u001b[A\n",
      "1937it [02:11, 14.77it/s]\u001b[A\n",
      "1942it [02:11, 14.80it/s]\u001b[A\n",
      "1946it [02:11, 14.81it/s]\u001b[A\n",
      "1950it [02:11, 14.82it/s]\u001b[A\n",
      "1955it [02:11, 14.84it/s]\u001b[A\n",
      "1960it [02:11, 14.86it/s]\u001b[A\n",
      "1964it [02:12, 14.88it/s]\u001b[A\n",
      "1968it [02:12, 14.89it/s]\u001b[A\n",
      "1976it [02:12, 14.93it/s]\u001b[A\n",
      "1981it [02:12, 14.96it/s]\u001b[A\n",
      "1988it [02:12, 14.99it/s]\u001b[A\n",
      "1993it [02:12, 15.01it/s]\u001b[A\n",
      "1997it [02:12, 15.03it/s]\u001b[A\n",
      "2001it [02:13, 15.04it/s]\u001b[A\n",
      "2006it [02:13, 15.07it/s]\u001b[A\n",
      "2010it [02:13, 15.08it/s]\u001b[A\n",
      "2014it [02:13, 15.09it/s]\u001b[A\n",
      "2020it [02:13, 15.11it/s]\u001b[A\n",
      "2028it [02:13, 15.15it/s]\u001b[A\n",
      "2032it [02:13, 15.17it/s]\u001b[A\n",
      "2036it [02:14, 15.19it/s]\u001b[A\n",
      "2040it [02:14, 15.19it/s]\u001b[A\n",
      "2044it [02:14, 15.21it/s]\u001b[A\n",
      "2048it [02:14, 15.22it/s]\u001b[A\n",
      "2054it [02:14, 15.25it/s]\u001b[A\n",
      "2058it [02:14, 15.26it/s]\u001b[A\n",
      "2065it [02:15, 15.29it/s]\u001b[A\n",
      "2071it [02:15, 15.32it/s]\u001b[A\n",
      "2075it [02:15, 15.32it/s]\u001b[A\n",
      "2083it [02:15, 15.34it/s]\u001b[A\n",
      "2095it [02:15, 15.41it/s]\u001b[A\n",
      "2099it [02:16, 15.42it/s]\u001b[A\n",
      "2105it [02:16, 15.45it/s]\u001b[A\n",
      "2111it [02:16, 15.47it/s]\u001b[A\n",
      "2117it [02:16, 15.50it/s]\u001b[A\n",
      "2122it [02:16, 15.52it/s]\u001b[A\n",
      "2130it [02:16, 15.55it/s]\u001b[A\n",
      "2134it [02:17, 15.57it/s]\u001b[A\n",
      "2142it [02:17, 15.62it/s]\u001b[A\n",
      "2147it [02:17, 15.63it/s]\u001b[A\n",
      "2153it [02:17, 15.67it/s]\u001b[A\n",
      "2158it [02:17, 15.67it/s]\u001b[A\n",
      "2163it [02:17, 15.69it/s]\u001b[A\n",
      "2168it [02:17, 15.72it/s]\u001b[A\n",
      "2173it [02:18, 15.73it/s]\u001b[A\n",
      "2180it [02:18, 15.76it/s]\u001b[A\n",
      "2185it [02:18, 15.77it/s]\u001b[A\n",
      "2189it [02:18, 15.78it/s]\u001b[A\n",
      "2193it [02:18, 15.79it/s]\u001b[A\n",
      "2199it [02:18, 15.82it/s]\u001b[A\n",
      "2203it [02:19, 15.83it/s]\u001b[A\n",
      "2209it [02:19, 15.86it/s]\u001b[A\n",
      "2213it [02:19, 15.87it/s]\u001b[A\n",
      "2219it [02:19, 15.90it/s]\u001b[A\n",
      "2223it [02:19, 15.90it/s]\u001b[A\n",
      "2227it [02:19, 15.92it/s]\u001b[A\n",
      "2231it [02:20, 15.93it/s]\u001b[A\n",
      "2235it [02:20, 15.95it/s]\u001b[A\n",
      "2239it [02:20, 15.95it/s]\u001b[A\n",
      "2246it [02:20, 15.98it/s]\u001b[A\n",
      "2250it [02:20, 15.99it/s]\u001b[A\n",
      "2255it [02:20, 16.02it/s]\u001b[A\n",
      "2259it [02:20, 16.02it/s]\u001b[A\n",
      "2265it [02:21, 16.04it/s]\u001b[A\n",
      "2269it [02:21, 16.05it/s]\u001b[A\n",
      "2274it [02:21, 16.07it/s]\u001b[A\n",
      "2278it [02:21, 16.09it/s]\u001b[A\n",
      "2283it [02:21, 16.11it/s]\u001b[A\n",
      "2287it [02:21, 16.11it/s]\u001b[A\n",
      "2292it [02:22, 16.13it/s]\u001b[A\n",
      "2297it [02:22, 16.16it/s]\u001b[A\n",
      "2301it [02:22, 16.17it/s]\u001b[A\n",
      "2306it [02:22, 16.18it/s]\u001b[A\n",
      "2309it [02:22, 16.18it/s]\u001b[A\n",
      "2316it [02:22, 16.21it/s]\u001b[A\n",
      "2324it [02:22, 16.25it/s]\u001b[A\n",
      "2329it [02:23, 16.25it/s]\u001b[A\n",
      "2335it [02:23, 16.27it/s]\u001b[A\n",
      "2344it [02:23, 16.31it/s]\u001b[A\n",
      "2349it [02:23, 16.33it/s]\u001b[A\n",
      "2354it [02:23, 16.35it/s]\u001b[A\n",
      "2359it [02:24, 16.38it/s]\u001b[A\n",
      "2364it [02:24, 16.38it/s]\u001b[A\n",
      "2368it [02:24, 16.40it/s]\u001b[A\n",
      "2372it [02:24, 16.40it/s]\u001b[A\n",
      "2377it [02:24, 16.42it/s]\u001b[A\n",
      "2381it [02:24, 16.43it/s]\u001b[A\n",
      "2385it [02:25, 16.44it/s]\u001b[A\n",
      "2388it [02:25, 16.44it/s]\u001b[A\n",
      "2391it [02:25, 16.45it/s]\u001b[A\n",
      "2396it [02:25, 16.46it/s]\u001b[A\n",
      "2402it [02:25, 16.48it/s]\u001b[A\n",
      "2408it [02:25, 16.51it/s]\u001b[A\n",
      "2412it [02:26, 16.52it/s]\u001b[A\n",
      "2416it [02:26, 16.53it/s]\u001b[A\n",
      "2421it [02:26, 16.55it/s]\u001b[A\n",
      "2425it [02:26, 16.56it/s]\u001b[A\n",
      "2429it [02:26, 16.58it/s]\u001b[A\n",
      "2433it [02:26, 16.58it/s]\u001b[A\n",
      "2440it [02:26, 16.61it/s]\u001b[A\n",
      "2444it [02:27, 16.62it/s]\u001b[A\n",
      "2450it [02:27, 16.63it/s]\u001b[A\n",
      "2458it [02:27, 16.66it/s]\u001b[A\n",
      "2462it [02:27, 16.68it/s]\u001b[A\n",
      "2466it [02:27, 16.68it/s]\u001b[A\n",
      "2469it [02:27, 16.69it/s]\u001b[A\n",
      "2475it [02:28, 16.71it/s]\u001b[A\n",
      "2479it [02:28, 16.72it/s]\u001b[A\n",
      "2487it [02:28, 16.75it/s]\u001b[A\n",
      "2494it [02:28, 16.79it/s]\u001b[A\n",
      "2499it [02:28, 16.79it/s]\u001b[A\n",
      "2507it [02:29, 16.82it/s]\u001b[A\n",
      "2511it [02:29, 16.83it/s]\u001b[A\n",
      "2517it [02:29, 16.85it/s]\u001b[A\n",
      "2523it [02:29, 16.88it/s]\u001b[A\n",
      "2527it [02:29, 16.89it/s]\u001b[A\n",
      "2531it [02:29, 16.89it/s]\u001b[A\n",
      "2538it [02:29, 16.93it/s]\u001b[A\n",
      "2542it [02:30, 16.94it/s]\u001b[A\n",
      "2546it [02:30, 16.95it/s]\u001b[A\n",
      "2550it [02:30, 16.96it/s]\u001b[A\n",
      "2555it [02:30, 16.98it/s]\u001b[A\n",
      "2560it [02:30, 16.99it/s]\u001b[A\n",
      "2569it [02:30, 17.01it/s]\u001b[A\n",
      "2578it [02:31, 17.05it/s]\u001b[A\n",
      "2582it [02:31, 17.06it/s]\u001b[A\n",
      "2588it [02:31, 17.07it/s]\u001b[A\n",
      "2594it [02:31, 17.10it/s]\u001b[A\n",
      "2599it [02:31, 17.11it/s]\u001b[A\n",
      "2606it [02:32, 17.14it/s]\u001b[A\n",
      "2611it [02:32, 17.14it/s]\u001b[A\n",
      "2617it [02:32, 17.16it/s]\u001b[A\n",
      "2621it [02:32, 17.17it/s]\u001b[A\n",
      "2627it [02:32, 17.20it/s]\u001b[A\n",
      "2631it [02:32, 17.20it/s]\u001b[A\n",
      "2637it [02:33, 17.23it/s]\u001b[A\n",
      "2643it [02:33, 17.25it/s]\u001b[A\n"
     ]
    },
    {
     "name": "stderr",
     "output_type": "stream",
     "text": [
      "2647it [02:33, 17.26it/s]\u001b[A\n",
      "2651it [02:33, 17.26it/s]\u001b[A\n",
      "2659it [02:33, 17.30it/s]\u001b[A\n",
      "2664it [02:33, 17.32it/s]\u001b[A\n",
      "2669it [02:34, 17.33it/s]\u001b[A\n",
      "2674it [02:34, 17.35it/s]\u001b[A\n",
      "2678it [02:34, 17.35it/s]\u001b[A\n",
      "2686it [02:34, 17.38it/s]\u001b[A\n",
      "2694it [02:34, 17.41it/s]\u001b[A\n",
      "2699it [02:34, 17.43it/s]\u001b[A\n",
      "2705it [02:34, 17.46it/s]\u001b[A\n",
      "2710it [02:35, 17.45it/s]\u001b[A\n",
      "2715it [02:35, 17.48it/s]\u001b[A\n",
      "2719it [02:35, 17.48it/s]\u001b[A\n",
      "2726it [02:35, 17.50it/s]\u001b[A\n",
      "2733it [02:35, 17.53it/s]\u001b[A\n",
      "2737it [02:36, 17.54it/s]\u001b[A\n",
      "2744it [02:36, 17.57it/s]\u001b[A\n",
      "2749it [02:36, 17.59it/s]\u001b[A\n",
      "2754it [02:36, 17.60it/s]\u001b[A\n",
      "2759it [02:36, 17.62it/s]\u001b[A\n",
      "2764it [02:36, 17.63it/s]\u001b[A\n",
      "2768it [02:36, 17.64it/s]\u001b[A\n",
      "2774it [02:37, 17.67it/s]\u001b[A\n",
      "2779it [02:37, 17.67it/s]\u001b[A\n",
      "2788it [02:37, 17.71it/s]\u001b[A\n",
      "2793it [02:37, 17.72it/s]\u001b[A\n",
      "2802it [02:37, 17.76it/s]\u001b[A\n",
      "2807it [02:37, 17.78it/s]\u001b[A\n",
      "2812it [02:38, 17.79it/s]\u001b[A\n",
      "2820it [02:38, 17.82it/s]\u001b[A\n",
      "2825it [02:38, 17.83it/s]\u001b[A\n",
      "2834it [02:38, 17.87it/s]\u001b[A\n",
      "2839it [02:38, 17.89it/s]\u001b[A\n",
      "2845it [02:38, 17.90it/s]\u001b[A\n",
      "2852it [02:39, 17.93it/s]\u001b[A\n",
      "2857it [02:39, 17.94it/s]\u001b[A\n",
      "2864it [02:39, 17.97it/s]\u001b[A\n",
      "2870it [02:39, 17.99it/s]\u001b[A\n",
      "2874it [02:39, 18.00it/s]\u001b[A\n",
      "2880it [02:39, 18.02it/s]\u001b[A\n",
      "2887it [02:39, 18.05it/s]\u001b[A\n",
      "2892it [02:40, 18.06it/s]\u001b[A\n",
      "2899it [02:40, 18.09it/s]\u001b[A\n",
      "2904it [02:40, 18.10it/s]\u001b[A\n",
      "2911it [02:40, 18.14it/s]\u001b[A\n",
      "2916it [02:40, 18.14it/s]\u001b[A\n",
      "2925it [02:40, 18.18it/s]\u001b[A\n",
      "2931it [02:41, 18.20it/s]\u001b[A\n",
      "2936it [02:41, 18.21it/s]\u001b[A\n",
      "2941it [02:41, 18.23it/s]\u001b[A\n",
      "2946it [02:41, 18.24it/s]\u001b[A\n",
      "2951it [02:41, 18.26it/s]\u001b[A\n",
      "2958it [02:41, 18.28it/s]\u001b[A\n",
      "2963it [02:42, 18.29it/s]\u001b[A\n",
      "2971it [02:42, 18.32it/s]\u001b[A\n",
      "2976it [02:42, 18.33it/s]\u001b[A\n",
      "2983it [02:42, 18.35it/s]\u001b[A\n",
      "2990it [02:42, 18.38it/s]\u001b[A\n",
      "2995it [02:42, 18.38it/s]\u001b[A\n",
      "3003it [02:43, 18.41it/s]\u001b[A\n",
      "3007it [02:43, 18.42it/s]\u001b[A\n",
      "3019it [02:43, 18.47it/s]\u001b[A\n",
      "3024it [02:43, 18.48it/s]\u001b[A\n",
      "3029it [02:43, 18.49it/s]\u001b[A\n",
      "3035it [02:43, 18.51it/s]\u001b[A\n",
      "3039it [02:44, 18.52it/s]\u001b[A\n",
      "3043it [02:44, 18.53it/s]\u001b[A\n",
      "3047it [02:44, 18.54it/s]\u001b[A\n",
      "3052it [02:44, 18.55it/s]\u001b[A\n",
      "3057it [02:44, 18.57it/s]\u001b[A\n",
      "3061it [02:44, 18.58it/s]\u001b[A\n",
      "3069it [02:44, 18.61it/s]\u001b[A\n",
      "3073it [02:45, 18.61it/s]\u001b[A\n",
      "3077it [02:45, 18.62it/s]\u001b[A\n",
      "3083it [02:45, 18.64it/s]\u001b[A\n",
      "3089it [02:45, 18.65it/s]\u001b[A\n",
      "3100it [02:45, 18.70it/s]\u001b[A\n",
      "3107it [02:45, 18.73it/s]\u001b[A\n",
      "3113it [02:46, 18.74it/s]\u001b[A\n",
      "3122it [02:46, 18.78it/s]\u001b[A\n",
      "3128it [02:46, 18.80it/s]\u001b[A\n",
      "3133it [02:46, 18.81it/s]\u001b[A\n",
      "3138it [02:46, 18.82it/s]\u001b[A\n",
      "3142it [02:46, 18.82it/s]\u001b[A\n",
      "3146it [02:47, 18.83it/s]\u001b[A\n",
      "3153it [02:47, 18.85it/s]\u001b[A\n",
      "3166it [02:47, 18.91it/s]\u001b[A\n",
      "3173it [02:47, 18.93it/s]\u001b[A\n",
      "3178it [02:47, 18.94it/s]\u001b[A\n",
      "3186it [02:47, 18.97it/s]\u001b[A\n",
      "3191it [02:48, 18.99it/s]\u001b[A\n",
      "3197it [02:48, 19.00it/s]\u001b[A\n",
      "3201it [02:48, 19.01it/s]\u001b[A\n",
      "3206it [02:48, 19.03it/s]\u001b[A\n",
      "3211it [02:48, 19.03it/s]\u001b[A\n",
      "3215it [02:48, 19.04it/s]\u001b[A\n",
      "3219it [02:49, 19.04it/s]\u001b[A\n",
      "3224it [02:49, 19.05it/s]\u001b[A\n",
      "3228it [02:49, 19.06it/s]\u001b[A\n",
      "3235it [02:49, 19.08it/s]\u001b[A\n",
      "3240it [02:49, 19.09it/s]\u001b[A\n",
      "3246it [02:49, 19.11it/s]\u001b[A\n",
      "3250it [02:50, 19.12it/s]\u001b[A\n",
      "3255it [02:50, 19.13it/s]\u001b[A\n",
      "3260it [02:50, 19.15it/s]\u001b[A\n",
      "3266it [02:50, 19.17it/s]\u001b[A\n",
      "3271it [02:50, 19.17it/s]\u001b[A\n",
      "3282it [02:50, 19.21it/s]\u001b[A\n",
      "3286it [02:50, 19.22it/s]\u001b[A\n",
      "3293it [02:51, 19.24it/s]\u001b[A\n",
      "3299it [02:51, 19.26it/s]\u001b[A\n",
      "3304it [02:51, 19.27it/s]\u001b[A\n",
      "3309it [02:51, 19.29it/s]\u001b[A\n",
      "3313it [02:51, 19.30it/s]\u001b[A\n",
      "3319it [02:51, 19.31it/s]\u001b[A\n",
      "3323it [02:52, 19.32it/s]\u001b[A\n",
      "3329it [02:52, 19.33it/s]\u001b[A\n",
      "3337it [02:52, 19.35it/s]\u001b[A\n",
      "3342it [02:52, 19.36it/s]\u001b[A\n",
      "3348it [02:52, 19.38it/s]\u001b[A\n",
      "3352it [02:52, 19.39it/s]\u001b[A\n",
      "3358it [02:53, 19.39it/s]\u001b[A\n",
      "3369it [02:53, 19.42it/s]\u001b[A\n",
      "3378it [02:53, 19.46it/s]\u001b[A\n",
      "3383it [02:53, 19.46it/s]\u001b[A\n",
      "3389it [02:53, 19.48it/s]\u001b[A\n",
      "3394it [02:54, 19.50it/s]\u001b[A\n",
      "3401it [02:54, 19.51it/s]\u001b[A\n",
      "3405it [02:54, 19.52it/s]\u001b[A\n",
      "3412it [02:54, 19.54it/s]\u001b[A\n",
      "3420it [02:54, 19.57it/s]\u001b[A\n",
      "3428it [02:54, 19.59it/s]\u001b[A\n",
      "3438it [02:55, 19.63it/s]\u001b[A\n",
      "3443it [02:55, 19.64it/s]\u001b[A\n",
      "3451it [02:55, 19.66it/s]\u001b[A\n",
      "3455it [02:55, 19.67it/s]\u001b[A\n",
      "3459it [02:55, 19.66it/s]\u001b[A\n",
      "3469it [02:56, 19.70it/s]\u001b[A\n",
      "3473it [02:56, 19.70it/s]\u001b[A\n",
      "3478it [02:56, 19.72it/s]\u001b[A\n",
      "3482it [02:56, 19.73it/s]\u001b[A\n",
      "3488it [02:56, 19.75it/s]\u001b[A\n",
      "3492it [02:56, 19.75it/s]\u001b[A\n",
      "3499it [02:56, 19.77it/s]\u001b[A\n",
      "3504it [02:57, 19.78it/s]\u001b[A\n",
      "3513it [02:57, 19.82it/s]\u001b[A\n",
      "3519it [02:57, 19.83it/s]\u001b[A\n",
      "3526it [02:57, 19.85it/s]\u001b[A\n",
      "3531it [02:57, 19.86it/s]\u001b[A\n",
      "3536it [02:57, 19.87it/s]\u001b[A\n",
      "3541it [02:58, 19.87it/s]\u001b[A\n",
      "3551it [02:58, 19.91it/s]\u001b[A\n",
      "3557it [02:58, 19.93it/s]\u001b[A\n",
      "3562it [02:58, 19.94it/s]\u001b[A\n",
      "3567it [02:58, 19.96it/s]\u001b[A\n",
      "3572it [02:58, 19.97it/s]\u001b[A\n",
      "3577it [02:59, 19.97it/s]\u001b[A\n",
      "3581it [02:59, 19.98it/s]\u001b[A\n",
      "3585it [02:59, 19.98it/s]\u001b[A\n",
      "3590it [02:59, 19.99it/s]\u001b[A\n",
      "3598it [02:59, 20.02it/s]\u001b[A\n",
      "3602it [02:59, 20.03it/s]\u001b[A\n",
      "3611it [03:00, 20.06it/s]\u001b[A\n",
      "3617it [03:00, 20.07it/s]\u001b[A\n",
      "3621it [03:00, 20.08it/s]\u001b[A\n",
      "3627it [03:00, 20.10it/s]\u001b[A\n",
      "3632it [03:00, 20.11it/s]\u001b[A\n",
      "3637it [03:00, 20.12it/s]\u001b[A\n",
      "3641it [03:00, 20.12it/s]\u001b[A\n",
      "3649it [03:01, 20.15it/s]\u001b[A\n",
      "3654it [03:01, 20.16it/s]\u001b[A\n",
      "3667it [03:01, 20.21it/s]\u001b[A\n",
      "3672it [03:01, 20.22it/s]\u001b[A\n",
      "3678it [03:01, 20.24it/s]\u001b[A\n",
      "3683it [03:01, 20.25it/s]\u001b[A\n",
      "3688it [03:02, 20.26it/s]\u001b[A\n",
      "3694it [03:02, 20.27it/s]\u001b[A\n",
      "3705it [03:02, 20.31it/s]\u001b[A\n",
      "3710it [03:02, 20.31it/s]\u001b[A\n",
      "3720it [03:02, 20.34it/s]\u001b[A\n",
      "3724it [03:02, 20.35it/s]\u001b[A\n",
      "3732it [03:03, 20.38it/s]\u001b[A\n",
      "3737it [03:03, 20.39it/s]\u001b[A\n",
      "3742it [03:03, 20.40it/s]\u001b[A\n",
      "3746it [03:03, 20.39it/s]\u001b[A\n",
      "3756it [03:03, 20.43it/s]\u001b[A\n",
      "3762it [03:04, 20.43it/s]\u001b[A\n",
      "3775it [03:04, 20.49it/s]\u001b[A\n",
      "3782it [03:04, 20.51it/s]\u001b[A\n",
      "3788it [03:04, 20.52it/s]\u001b[A\n",
      "3793it [03:04, 20.53it/s]\u001b[A\n",
      "3798it [03:04, 20.54it/s]\u001b[A\n",
      "3808it [03:05, 20.58it/s]\u001b[A\n",
      "3814it [03:05, 20.59it/s]\u001b[A\n",
      "3819it [03:05, 20.59it/s]\u001b[A\n",
      "3823it [03:05, 20.60it/s]\u001b[A\n",
      "3830it [03:05, 20.63it/s]\u001b[A\n",
      "3835it [03:05, 20.63it/s]\u001b[A\n",
      "3842it [03:06, 20.65it/s]\u001b[A\n",
      "3847it [03:06, 20.66it/s]\u001b[A\n",
      "3851it [03:06, 20.67it/s]\u001b[A\n",
      "3855it [03:06, 20.67it/s]\u001b[A\n",
      "3861it [03:06, 20.68it/s]\u001b[A\n",
      "3865it [03:06, 20.69it/s]\u001b[A\n",
      "3874it [03:07, 20.71it/s]\u001b[A\n",
      "3884it [03:07, 20.73it/s]\u001b[A\n",
      "3893it [03:07, 20.76it/s]\u001b[A\n",
      "3898it [03:07, 20.77it/s]\u001b[A\n",
      "3904it [03:07, 20.78it/s]\u001b[A\n",
      "3910it [03:08, 20.80it/s]\u001b[A\n",
      "3915it [03:08, 20.80it/s]\u001b[A\n",
      "3919it [03:08, 20.80it/s]\u001b[A\n",
      "3923it [03:08, 20.81it/s]\u001b[A\n",
      "3929it [03:08, 20.83it/s]\u001b[A\n",
      "3933it [03:08, 20.83it/s]\u001b[A\n",
      "3940it [03:09, 20.85it/s]\u001b[A\n",
      "3944it [03:09, 20.86it/s]\u001b[A\n",
      "3950it [03:09, 20.86it/s]\u001b[A\n",
      "3956it [03:09, 20.88it/s]\u001b[A\n",
      "3961it [03:09, 20.89it/s]\u001b[A\n",
      "3965it [03:09, 20.89it/s]\u001b[A\n",
      "3972it [03:09, 20.91it/s]\u001b[A\n",
      "3977it [03:10, 20.92it/s]\u001b[A\n",
      "3981it [03:10, 20.92it/s]\u001b[A\n",
      "3989it [03:10, 20.95it/s]\u001b[A\n",
      "3993it [03:10, 20.95it/s]\u001b[A\n",
      "3997it [03:10, 20.96it/s]\u001b[A\n",
      "4004it [03:10, 20.97it/s]\u001b[A\n",
      "4008it [03:11, 20.98it/s]\u001b[A\n",
      "4014it [03:11, 20.99it/s]\u001b[A\n",
      "4018it [03:11, 20.99it/s]\u001b[A\n",
      "4022it [03:11, 21.00it/s]\u001b[A\n",
      "4026it [03:11, 21.00it/s]\u001b[A\n",
      "4030it [03:11, 21.00it/s]\u001b[A\n",
      "4033it [03:11, 21.01it/s]\u001b[A\n",
      "4040it [03:12, 21.03it/s]\u001b[A\n",
      "4044it [03:12, 21.03it/s]\u001b[A\n",
      "4049it [03:12, 21.05it/s]\u001b[A\n",
      "4053it [03:12, 21.05it/s]\u001b[A\n",
      "4059it [03:12, 21.06it/s]\u001b[A\n",
      "4063it [03:12, 21.06it/s]\u001b[A\n",
      "4067it [03:13, 21.07it/s]\u001b[A\n",
      "4072it [03:13, 21.08it/s]\u001b[A\n",
      "4076it [03:13, 21.09it/s]\u001b[A\n",
      "4085it [03:13, 21.12it/s]\u001b[A\n",
      "4090it [03:13, 21.13it/s]\u001b[A\n",
      "4098it [03:13, 21.17it/s]\u001b[A\n",
      "4104it [03:13, 21.17it/s]\u001b[A\n",
      "4110it [03:14, 21.18it/s]\u001b[A\n",
      "4120it [03:14, 21.21it/s]\u001b[A\n",
      "4125it [03:14, 21.21it/s]\u001b[A\n",
      "4132it [03:14, 21.23it/s]\u001b[A\n",
      "4137it [03:14, 21.24it/s]\u001b[A\n",
      "4145it [03:14, 21.26it/s]\u001b[A\n",
      "4151it [03:15, 21.28it/s]\u001b[A\n",
      "4156it [03:15, 21.29it/s]\u001b[A\n",
      "4161it [03:15, 21.30it/s]\u001b[A\n",
      "4166it [03:15, 21.31it/s]\u001b[A\n",
      "4174it [03:15, 21.34it/s]\u001b[A\n",
      "4179it [03:15, 21.33it/s]\u001b[A\n",
      "4190it [03:15, 21.38it/s]\u001b[A\n",
      "4196it [03:16, 21.39it/s]\u001b[A\n",
      "4202it [03:16, 21.39it/s]\u001b[A\n",
      "4208it [03:16, 21.41it/s]\u001b[A\n",
      "4217it [03:16, 21.43it/s]\u001b[A\n",
      "4223it [03:16, 21.45it/s]\u001b[A\n",
      "4229it [03:17, 21.46it/s]\u001b[A\n",
      "4234it [03:17, 21.47it/s]\u001b[A\n",
      "4242it [03:17, 21.49it/s]\u001b[A\n",
      "4248it [03:17, 21.51it/s]\u001b[A\n",
      "4253it [03:17, 21.52it/s]\u001b[A\n",
      "4258it [03:17, 21.53it/s]\u001b[A\n",
      "4262it [03:17, 21.53it/s]\u001b[A\n",
      "4268it [03:18, 21.54it/s]\u001b[A\n",
      "4272it [03:18, 21.55it/s]\u001b[A\n",
      "4278it [03:18, 21.56it/s]\u001b[A\n",
      "4284it [03:18, 21.57it/s]\u001b[A\n",
      "4291it [03:18, 21.59it/s]\u001b[A\n",
      "4298it [03:18, 21.61it/s]\u001b[A\n",
      "4305it [03:19, 21.63it/s]\u001b[A\n",
      "4310it [03:19, 21.64it/s]\u001b[A\n",
      "4315it [03:19, 21.66it/s]\u001b[A\n",
      "4320it [03:19, 21.66it/s]\u001b[A\n",
      "4326it [03:19, 21.67it/s]\u001b[A\n",
      "4332it [03:19, 21.69it/s]\u001b[A\n",
      "4338it [03:19, 21.70it/s]\u001b[A\n",
      "4347it [03:20, 21.73it/s]\u001b[A\n",
      "4352it [03:20, 21.73it/s]\u001b[A\n",
      "4358it [03:20, 21.74it/s]\u001b[A\n",
      "4363it [03:20, 21.75it/s]\u001b[A\n",
      "4368it [03:20, 21.76it/s]\u001b[A\n",
      "4372it [03:20, 21.77it/s]\u001b[A\n",
      "4379it [03:21, 21.78it/s]\u001b[A\n",
      "4383it [03:21, 21.79it/s]\u001b[A\n",
      "4387it [03:21, 21.79it/s]\u001b[A\n",
      "4391it [03:21, 21.79it/s]\u001b[A\n",
      "4398it [03:21, 21.80it/s]\u001b[A\n",
      "4405it [03:21, 21.82it/s]\u001b[A\n",
      "4415it [03:21, 21.86it/s]\u001b[A\n",
      "4422it [03:22, 21.87it/s]\u001b[A\n",
      "4427it [03:22, 21.88it/s]\u001b[A\n"
     ]
    },
    {
     "ename": "KeyboardInterrupt",
     "evalue": "",
     "output_type": "error",
     "traceback": [
      "\u001b[0;31m---------------------------------------------------------------------------\u001b[0m",
      "\u001b[0;31mIndexError\u001b[0m                                Traceback (most recent call last)",
      "\u001b[0;32m/usr/lib/python3.5/multiprocessing/pool.py\u001b[0m in \u001b[0;36mnext\u001b[0;34m(self, timeout)\u001b[0m\n\u001b[1;32m    679\u001b[0m             \u001b[0;32mtry\u001b[0m\u001b[0;34m:\u001b[0m\u001b[0;34m\u001b[0m\u001b[0m\n\u001b[0;32m--> 680\u001b[0;31m                 \u001b[0mitem\u001b[0m \u001b[0;34m=\u001b[0m \u001b[0mself\u001b[0m\u001b[0;34m.\u001b[0m\u001b[0m_items\u001b[0m\u001b[0;34m.\u001b[0m\u001b[0mpopleft\u001b[0m\u001b[0;34m(\u001b[0m\u001b[0;34m)\u001b[0m\u001b[0;34m\u001b[0m\u001b[0m\n\u001b[0m\u001b[1;32m    681\u001b[0m             \u001b[0;32mexcept\u001b[0m \u001b[0mIndexError\u001b[0m\u001b[0;34m:\u001b[0m\u001b[0;34m\u001b[0m\u001b[0m\n",
      "\u001b[0;31mIndexError\u001b[0m: pop from an empty deque",
      "\nDuring handling of the above exception, another exception occurred:\n",
      "\u001b[0;31mKeyboardInterrupt\u001b[0m                         Traceback (most recent call last)",
      "\u001b[0;32m<timed exec>\u001b[0m in \u001b[0;36m<module>\u001b[0;34m()\u001b[0m\n",
      "\u001b[0;32m/usr/local/lib/python3.5/dist-packages/tqdm/_tqdm.py\u001b[0m in \u001b[0;36m__iter__\u001b[0;34m(self)\u001b[0m\n\u001b[1;32m    953\u001b[0m \"\"\", fp_write=getattr(self.fp, 'write', sys.stderr.write))\n\u001b[1;32m    954\u001b[0m \u001b[0;34m\u001b[0m\u001b[0m\n\u001b[0;32m--> 955\u001b[0;31m             \u001b[0;32mfor\u001b[0m \u001b[0mobj\u001b[0m \u001b[0;32min\u001b[0m \u001b[0miterable\u001b[0m\u001b[0;34m:\u001b[0m\u001b[0;34m\u001b[0m\u001b[0m\n\u001b[0m\u001b[1;32m    956\u001b[0m                 \u001b[0;32myield\u001b[0m \u001b[0mobj\u001b[0m\u001b[0;34m\u001b[0m\u001b[0m\n\u001b[1;32m    957\u001b[0m                 \u001b[0;31m# Update and possibly print the progressbar.\u001b[0m\u001b[0;34m\u001b[0m\u001b[0;34m\u001b[0m\u001b[0m\n",
      "\u001b[0;32m/usr/lib/python3.5/multiprocessing/pool.py\u001b[0m in \u001b[0;36mnext\u001b[0;34m(self, timeout)\u001b[0m\n\u001b[1;32m    682\u001b[0m                 \u001b[0;32mif\u001b[0m \u001b[0mself\u001b[0m\u001b[0;34m.\u001b[0m\u001b[0m_index\u001b[0m \u001b[0;34m==\u001b[0m \u001b[0mself\u001b[0m\u001b[0;34m.\u001b[0m\u001b[0m_length\u001b[0m\u001b[0;34m:\u001b[0m\u001b[0;34m\u001b[0m\u001b[0m\n\u001b[1;32m    683\u001b[0m                     \u001b[0;32mraise\u001b[0m \u001b[0mStopIteration\u001b[0m\u001b[0;34m\u001b[0m\u001b[0m\n\u001b[0;32m--> 684\u001b[0;31m                 \u001b[0mself\u001b[0m\u001b[0;34m.\u001b[0m\u001b[0m_cond\u001b[0m\u001b[0;34m.\u001b[0m\u001b[0mwait\u001b[0m\u001b[0;34m(\u001b[0m\u001b[0mtimeout\u001b[0m\u001b[0;34m)\u001b[0m\u001b[0;34m\u001b[0m\u001b[0m\n\u001b[0m\u001b[1;32m    685\u001b[0m                 \u001b[0;32mtry\u001b[0m\u001b[0;34m:\u001b[0m\u001b[0;34m\u001b[0m\u001b[0m\n\u001b[1;32m    686\u001b[0m                     \u001b[0mitem\u001b[0m \u001b[0;34m=\u001b[0m \u001b[0mself\u001b[0m\u001b[0;34m.\u001b[0m\u001b[0m_items\u001b[0m\u001b[0;34m.\u001b[0m\u001b[0mpopleft\u001b[0m\u001b[0;34m(\u001b[0m\u001b[0;34m)\u001b[0m\u001b[0;34m\u001b[0m\u001b[0m\n",
      "\u001b[0;32m/usr/lib/python3.5/threading.py\u001b[0m in \u001b[0;36mwait\u001b[0;34m(self, timeout)\u001b[0m\n\u001b[1;32m    291\u001b[0m         \u001b[0;32mtry\u001b[0m\u001b[0;34m:\u001b[0m    \u001b[0;31m# restore state no matter what (e.g., KeyboardInterrupt)\u001b[0m\u001b[0;34m\u001b[0m\u001b[0m\n\u001b[1;32m    292\u001b[0m             \u001b[0;32mif\u001b[0m \u001b[0mtimeout\u001b[0m \u001b[0;32mis\u001b[0m \u001b[0;32mNone\u001b[0m\u001b[0;34m:\u001b[0m\u001b[0;34m\u001b[0m\u001b[0m\n\u001b[0;32m--> 293\u001b[0;31m                 \u001b[0mwaiter\u001b[0m\u001b[0;34m.\u001b[0m\u001b[0macquire\u001b[0m\u001b[0;34m(\u001b[0m\u001b[0;34m)\u001b[0m\u001b[0;34m\u001b[0m\u001b[0m\n\u001b[0m\u001b[1;32m    294\u001b[0m                 \u001b[0mgotit\u001b[0m \u001b[0;34m=\u001b[0m \u001b[0;32mTrue\u001b[0m\u001b[0;34m\u001b[0m\u001b[0m\n\u001b[1;32m    295\u001b[0m             \u001b[0;32melse\u001b[0m\u001b[0;34m:\u001b[0m\u001b[0;34m\u001b[0m\u001b[0m\n",
      "\u001b[0;31mKeyboardInterrupt\u001b[0m: "
     ]
    },
    {
     "name": "stderr",
     "output_type": "stream",
     "text": [
      "Process ForkPoolWorker-631:\n",
      "Process ForkPoolWorker-632:\n",
      "Traceback (most recent call last):\n",
      "  File \"/usr/lib/python3.5/multiprocessing/process.py\", line 249, in _bootstrap\n",
      "    self.run()\n",
      "Process ForkPoolWorker-633:\n",
      "Traceback (most recent call last):\n",
      "Process ForkPoolWorker-636:\n",
      "Traceback (most recent call last):\n",
      "  File \"/usr/lib/python3.5/multiprocessing/process.py\", line 249, in _bootstrap\n",
      "    self.run()\n",
      "  File \"/usr/lib/python3.5/multiprocessing/process.py\", line 93, in run\n",
      "    self._target(*self._args, **self._kwargs)\n",
      "  File \"/usr/lib/python3.5/multiprocessing/process.py\", line 93, in run\n",
      "    self._target(*self._args, **self._kwargs)\n",
      "Traceback (most recent call last):\n",
      "  File \"/usr/lib/python3.5/multiprocessing/pool.py\", line 119, in worker\n",
      "    result = (True, func(*args, **kwds))\n",
      "  File \"/usr/lib/python3.5/multiprocessing/process.py\", line 249, in _bootstrap\n",
      "    self.run()\n",
      "  File \"<ipython-input-749-d4d842a8a6ad>\", line 8, in merge_foo\n",
      "    curr = np.equal(results[:, 0, :], np.repeat(results[:, 0, i:i+1], results.shape[2], axis=1))\n",
      "Process ForkPoolWorker-634:\n",
      "KeyboardInterrupt\n",
      "  File \"/usr/lib/python3.5/multiprocessing/process.py\", line 249, in _bootstrap\n",
      "    self.run()\n",
      "  File \"/usr/lib/python3.5/multiprocessing/pool.py\", line 119, in worker\n",
      "    result = (True, func(*args, **kwds))\n",
      "Process ForkPoolWorker-637:\n",
      "Process ForkPoolWorker-630:\n",
      "Traceback (most recent call last):\n",
      "  File \"/usr/lib/python3.5/multiprocessing/process.py\", line 93, in run\n",
      "    self._target(*self._args, **self._kwargs)\n",
      "Traceback (most recent call last):\n",
      "  File \"/usr/lib/python3.5/multiprocessing/process.py\", line 93, in run\n",
      "    self._target(*self._args, **self._kwargs)\n",
      "  File \"/usr/lib/python3.5/multiprocessing/process.py\", line 249, in _bootstrap\n",
      "    self.run()\n",
      "  File \"/usr/lib/python3.5/multiprocessing/pool.py\", line 119, in worker\n",
      "    result = (True, func(*args, **kwds))\n",
      "  File \"<ipython-input-749-d4d842a8a6ad>\", line 8, in merge_foo\n",
      "    curr = np.equal(results[:, 0, :], np.repeat(results[:, 0, i:i+1], results.shape[2], axis=1))\n",
      "  File \"/usr/lib/python3.5/multiprocessing/process.py\", line 93, in run\n",
      "    self._target(*self._args, **self._kwargs)\n",
      "Traceback (most recent call last):\n",
      "  File \"<ipython-input-749-d4d842a8a6ad>\", line 8, in merge_foo\n",
      "    curr = np.equal(results[:, 0, :], np.repeat(results[:, 0, i:i+1], results.shape[2], axis=1))\n",
      "  File \"/usr/lib/python3.5/multiprocessing/pool.py\", line 119, in worker\n",
      "    result = (True, func(*args, **kwds))\n",
      "  File \"/usr/lib/python3.5/multiprocessing/process.py\", line 249, in _bootstrap\n",
      "    self.run()\n",
      "  File \"/usr/local/lib/python3.5/dist-packages/numpy/core/fromnumeric.py\", line 423, in repeat\n",
      "    return _wrapfunc(a, 'repeat', repeats, axis=axis)\n",
      "Process ForkPoolWorker-635:\n",
      "KeyboardInterrupt\n",
      "  File \"/usr/lib/python3.5/multiprocessing/pool.py\", line 119, in worker\n",
      "    result = (True, func(*args, **kwds))\n",
      "  File \"<ipython-input-749-d4d842a8a6ad>\", line 8, in merge_foo\n",
      "    curr = np.equal(results[:, 0, :], np.repeat(results[:, 0, i:i+1], results.shape[2], axis=1))\n",
      "  File \"/usr/local/lib/python3.5/dist-packages/numpy/core/fromnumeric.py\", line 52, in _wrapfunc\n",
      "    return getattr(obj, method)(*args, **kwds)\n",
      "  File \"/usr/lib/python3.5/multiprocessing/process.py\", line 93, in run\n",
      "    self._target(*self._args, **self._kwargs)\n",
      "  File \"<ipython-input-749-d4d842a8a6ad>\", line 9, in merge_foo\n",
      "    idxs = np.where( (curr.sum(axis=0) > 0) == True  )[0]\n",
      "Traceback (most recent call last):\n",
      "  File \"/usr/lib/python3.5/multiprocessing/pool.py\", line 119, in worker\n",
      "    result = (True, func(*args, **kwds))\n",
      "  File \"/usr/local/lib/python3.5/dist-packages/numpy/core/fromnumeric.py\", line 423, in repeat\n",
      "    return _wrapfunc(a, 'repeat', repeats, axis=axis)\n",
      "  File \"/usr/lib/python3.5/multiprocessing/process.py\", line 249, in _bootstrap\n",
      "    self.run()\n",
      "  File \"/usr/local/lib/python3.5/dist-packages/numpy/core/_methods.py\", line 32, in _sum\n",
      "    return umr_sum(a, axis, dtype, out, keepdims)\n",
      "KeyboardInterrupt\n",
      "  File \"/usr/lib/python3.5/multiprocessing/process.py\", line 93, in run\n",
      "    self._target(*self._args, **self._kwargs)\n",
      "  File \"/usr/lib/python3.5/multiprocessing/process.py\", line 249, in _bootstrap\n",
      "    self.run()\n",
      "  File \"/usr/local/lib/python3.5/dist-packages/numpy/core/fromnumeric.py\", line 52, in _wrapfunc\n",
      "    return getattr(obj, method)(*args, **kwds)\n",
      "KeyboardInterrupt\n",
      "  File \"<ipython-input-749-d4d842a8a6ad>\", line 8, in merge_foo\n",
      "    curr = np.equal(results[:, 0, :], np.repeat(results[:, 0, i:i+1], results.shape[2], axis=1))\n",
      "  File \"/usr/lib/python3.5/multiprocessing/process.py\", line 93, in run\n",
      "    self._target(*self._args, **self._kwargs)\n",
      "  File \"/usr/lib/python3.5/multiprocessing/pool.py\", line 119, in worker\n",
      "    result = (True, func(*args, **kwds))\n",
      "  File \"/usr/local/lib/python3.5/dist-packages/numpy/core/fromnumeric.py\", line 423, in repeat\n",
      "    return _wrapfunc(a, 'repeat', repeats, axis=axis)\n",
      "KeyboardInterrupt\n",
      "  File \"/usr/local/lib/python3.5/dist-packages/numpy/core/fromnumeric.py\", line 52, in _wrapfunc\n",
      "    return getattr(obj, method)(*args, **kwds)\n",
      "  File \"/usr/lib/python3.5/multiprocessing/pool.py\", line 119, in worker\n",
      "    result = (True, func(*args, **kwds))\n",
      "  File \"<ipython-input-749-d4d842a8a6ad>\", line 8, in merge_foo\n",
      "    curr = np.equal(results[:, 0, :], np.repeat(results[:, 0, i:i+1], results.shape[2], axis=1))\n",
      "  File \"<ipython-input-749-d4d842a8a6ad>\", line 8, in merge_foo\n",
      "    curr = np.equal(results[:, 0, :], np.repeat(results[:, 0, i:i+1], results.shape[2], axis=1))\n",
      "  File \"/usr/local/lib/python3.5/dist-packages/numpy/core/fromnumeric.py\", line 423, in repeat\n",
      "    return _wrapfunc(a, 'repeat', repeats, axis=axis)\n",
      "KeyboardInterrupt\n",
      "  File \"/usr/local/lib/python3.5/dist-packages/numpy/core/fromnumeric.py\", line 52, in _wrapfunc\n",
      "    return getattr(obj, method)(*args, **kwds)\n",
      "  File \"/usr/local/lib/python3.5/dist-packages/numpy/core/fromnumeric.py\", line 423, in repeat\n",
      "    return _wrapfunc(a, 'repeat', repeats, axis=axis)\n",
      "KeyboardInterrupt\n",
      "  File \"/usr/local/lib/python3.5/dist-packages/numpy/core/fromnumeric.py\", line 52, in _wrapfunc\n",
      "    return getattr(obj, method)(*args, **kwds)\n",
      "KeyboardInterrupt\n"
     ]
    }
   ],
   "source": [
    "%%time\n",
    "pool = Pool(processes=8)\n",
    "\n",
    "import threading\n",
    "lock = threading.Lock()\n",
    "\n",
    "\n",
    "#pool.map(merge_foo,  range(results.shape[2]))\n",
    "\n",
    "for df in tqdm(pool.imap(merge_foo,  range(results.shape[2]))):\n",
    "    None\n",
    "    \n",
    "pool.close()"
   ]
  },
  {
   "cell_type": "code",
   "execution_count": null,
   "metadata": {},
   "outputs": [],
   "source": []
  },
  {
   "cell_type": "code",
   "execution_count": 617,
   "metadata": {},
   "outputs": [
    {
     "name": "stderr",
     "output_type": "stream",
     "text": [
      "\n",
      "  0%|          | 0/100287 [00:00<?, ?it/s]\u001b[A\n",
      "  0%|          | 2/100287 [00:00<2:01:18, 13.78it/s]\u001b[A\n",
      "  0%|          | 4/100287 [00:00<1:55:02, 14.53it/s]\u001b[A\n",
      "  0%|          | 6/100287 [00:00<1:52:25, 14.87it/s]\u001b[A\n",
      "  0%|          | 8/100287 [00:00<1:51:50, 14.94it/s]\u001b[A\n",
      "  0%|          | 10/100287 [00:00<1:50:55, 15.07it/s]\u001b[A\n",
      "  0%|          | 12/100287 [00:00<1:50:25, 15.13it/s]\u001b[A\n",
      "  0%|          | 14/100287 [00:00<1:50:04, 15.18it/s]\u001b[A\n",
      "  0%|          | 16/100287 [00:01<1:50:00, 15.19it/s]\u001b[A\n",
      "  0%|          | 19/100287 [00:01<1:43:52, 16.09it/s]\u001b[A\n",
      "  0%|          | 22/100287 [00:01<1:39:34, 16.78it/s]\u001b[A\n",
      "  0%|          | 24/100287 [00:01<1:40:20, 16.65it/s]\u001b[A\n",
      "  0%|          | 26/100287 [00:01<1:40:52, 16.56it/s]\u001b[A\n",
      "  0%|          | 29/100287 [00:01<1:37:55, 17.06it/s]\u001b[A\n",
      "  0%|          | 32/100287 [00:01<1:35:32, 17.49it/s]\u001b[A\n",
      "  0%|          | 35/100287 [00:01<1:33:33, 17.86it/s]\u001b[A\n",
      "  0%|          | 38/100287 [00:02<1:34:39, 17.65it/s]\u001b[A\n",
      "  0%|          | 41/100287 [00:02<1:33:04, 17.95it/s]\u001b[A\n",
      "  0%|          | 44/100287 [00:02<1:34:05, 17.76it/s]\u001b[A\n",
      "  0%|          | 46/100287 [00:02<1:34:47, 17.62it/s]\u001b[A\n",
      "  0%|          | 48/100287 [00:02<1:35:17, 17.53it/s]\u001b[A\n",
      "  0%|          | 50/100287 [00:02<1:35:51, 17.43it/s]\u001b[A\n",
      "  0%|          | 52/100287 [00:02<1:36:18, 17.35it/s]\u001b[A\n",
      "  0%|          | 54/100287 [00:03<1:36:46, 17.26it/s]\u001b[A\n",
      "  0%|          | 57/100287 [00:03<1:35:26, 17.50it/s]\u001b[A\n",
      "  0%|          | 60/100287 [00:03<1:34:16, 17.72it/s]\u001b[A\n",
      "  0%|          | 64/100287 [00:03<1:31:44, 18.21it/s]\u001b[A\n",
      "  0%|          | 67/100287 [00:03<1:32:29, 18.06it/s]\u001b[A\n",
      "  0%|          | 70/100287 [00:03<1:31:45, 18.20it/s]\u001b[A\n",
      "  0%|          | 73/100287 [00:04<1:33:01, 17.95it/s]\u001b[A\n",
      "  0%|          | 77/100287 [00:04<1:31:01, 18.35it/s]\u001b[A\n",
      "  0%|          | 80/100287 [00:04<1:31:36, 18.23it/s]\u001b[A\n",
      "  0%|          | 83/100287 [00:04<1:31:29, 18.25it/s]\u001b[A\n",
      "  0%|          | 85/100287 [00:04<1:32:01, 18.15it/s]\u001b[A\n",
      "  0%|          | 88/100287 [00:04<1:31:26, 18.26it/s]\u001b[A\n",
      "  0%|          | 90/100287 [00:04<1:32:21, 18.08it/s]\u001b[A\n",
      "  0%|          | 92/100287 [00:05<1:32:44, 18.00it/s]\u001b[A\n",
      "  0%|          | 94/100287 [00:05<1:33:05, 17.94it/s]\u001b[A\n",
      "  0%|          | 96/100287 [00:05<1:33:27, 17.87it/s]\u001b[A\n",
      "  0%|          | 101/100287 [00:05<1:31:01, 18.34it/s]\u001b[A\n",
      "  0%|          | 104/100287 [00:05<1:30:30, 18.45it/s]\u001b[A\n",
      "  0%|          | 107/100287 [00:05<1:30:47, 18.39it/s]\u001b[A\n",
      "  0%|          | 110/100287 [00:06<1:31:17, 18.29it/s]\u001b[A\n",
      "  0%|          | 116/100287 [00:06<1:28:31, 18.86it/s]\u001b[A\n",
      "  0%|          | 119/100287 [00:06<1:28:09, 18.94it/s]\u001b[A\n",
      "  0%|          | 123/100287 [00:06<1:27:04, 19.17it/s]\u001b[A\n",
      "  0%|          | 127/100287 [00:06<1:26:03, 19.40it/s]\u001b[A\n",
      "  0%|          | 130/100287 [00:06<1:26:36, 19.27it/s]\u001b[A\n",
      "  0%|          | 133/100287 [00:06<1:27:07, 19.16it/s]\u001b[A\n",
      "  0%|          | 136/100287 [00:07<1:27:39, 19.04it/s]\u001b[A\n",
      "  0%|          | 138/100287 [00:07<1:27:57, 18.98it/s]\u001b[A\n",
      "  0%|          | 140/100287 [00:07<1:28:15, 18.91it/s]\u001b[A\n",
      "  0%|          | 142/100287 [00:07<1:28:34, 18.84it/s]\u001b[A\n",
      "  0%|          | 144/100287 [00:07<1:28:53, 18.77it/s]\u001b[A\n",
      "  0%|          | 148/100287 [00:07<1:27:59, 18.97it/s]\u001b[A\n",
      "  0%|          | 151/100287 [00:08<1:28:26, 18.87it/s]\u001b[A\n",
      "  0%|          | 153/100287 [00:08<1:28:40, 18.82it/s]\u001b[A\n",
      "  0%|          | 156/100287 [00:08<1:28:35, 18.84it/s]\u001b[A\n",
      "  0%|          | 158/100287 [00:08<1:28:49, 18.79it/s]\u001b[A\n",
      "Exception in thread Thread-92:\n",
      "Traceback (most recent call last):\n",
      "  File \"/usr/lib/python3.5/threading.py\", line 914, in _bootstrap_inner\n",
      "    self.run()\n",
      "  File \"/usr/local/lib/python3.5/dist-packages/tqdm/_tqdm.py\", line 144, in run\n",
      "    for instance in self.tqdm_cls._instances:\n",
      "  File \"/usr/lib/python3.5/_weakrefset.py\", line 60, in __iter__\n",
      "    for itemref in self.data:\n",
      "RuntimeError: Set changed size during iteration\n",
      "\n",
      "100%|██████████| 100287/100287 [51:13<00:00, 32.63it/s]\n"
     ]
    }
   ],
   "source": [
    "#for i in tqdm(np.random.choice(range(results.shape[2]), 1000)):\n",
    "label_id = 1\n",
    "for i in tqdm(range(results.shape[2])):\n",
    "    \n",
    "    lock.acquire()\n",
    "    if labels[i] != 0:\n",
    "        continue\n",
    "    lock.release()\n",
    "    \n",
    "    curr = np.equal(results[:, 0, :], np.repeat(results[:, 0, i:i+1], results.shape[2], axis=1))\n",
    "    idxs = np.where( (curr.sum(axis=0) > 0) == True  )[0]\n",
    "    cnt_edges = curr[:, idxs[1:]].sum(axis=0)#.sum()\n",
    "    cnt = curr[:, idxs].sum(axis=1)\n",
    "    lengths = curr[:, idxs[1:]] * np.repeat(cnt.reshape((len(cnt), 1)), len(idxs)-1, axis=1)\n",
    "\n",
    "    df = pd.DataFrame()\n",
    "    df['cnt_edges'] = cnt_edges\n",
    "    df['mean_len'] = lengths.mean(axis=0)\n",
    "    df['max_len'] = lengths.max(axis=0)\n",
    "    df['std_len'] = lengths.std(axis=0)\n",
    "    df['comp_len'] = len(idxs)\n",
    "\n",
    "    # По несмещенному кластеру\n",
    "    df['len_first'] = lengths[0]\n",
    "    df['is_edge_first'] = curr[:, idxs[1:]][0]\n",
    "\n",
    "    df['id'] = i\n",
    "\n",
    "    \n",
    "    tmp = lgb.predict_proba(df.drop(['id'], axis=1))[:, 1]\n",
    "    top_cnt = optimizer.maximize_expectation(tmp)[0]\n",
    "    pred = np.in1d(tmp, -np.sort(-tmp)[:top_cnt])\n",
    "    df['pred'] = pred    \n",
    "    \n",
    "#     particle_id = truth[truth.hit_id == idxs[0]+1]['particle_id'].values[0]\n",
    "#     gt_hit_ids = truth[truth.particle_id == particle_id]['hit_id'].values\n",
    "#     hit_ids = idxs + 1\n",
    "#     df['target'] = np.in1d(hit_ids[1:], gt_hit_ids)\n",
    "\n",
    "    true_idxs_mask = np.array([True] + list(df['pred'].values))\n",
    "    true_idxs = idxs[true_idxs_mask]\n",
    "    \n",
    "    lock.acquire()\n",
    "    if labels[idxs[0]] != 0:\n",
    "        labels[true_idxs] = label_id\n",
    "    lock.release()\n",
    "\n",
    "    \n",
    "    label_id += 1"
   ]
  },
  {
   "cell_type": "code",
   "execution_count": 631,
   "metadata": {},
   "outputs": [
    {
     "data": {
      "text/plain": [
       "array([ 1765,     2,  2535, ...,     0,     0, 36456])"
      ]
     },
     "execution_count": 631,
     "metadata": {},
     "output_type": "execute_result"
    }
   ],
   "source": [
    "np.set_printoptions(precision=3, threshold=100)\n",
    "\n",
    "labels.astype('int')"
   ]
  },
  {
   "cell_type": "code",
   "execution_count": 634,
   "metadata": {},
   "outputs": [
    {
     "data": {
      "text/plain": [
       "array([ 850618,  132622,  264149, ...,  340948, 3557779,  501639])"
      ]
     },
     "execution_count": 634,
     "metadata": {},
     "output_type": "execute_result"
    }
   ],
   "source": [
    "l"
   ]
  },
  {
   "cell_type": "code",
   "execution_count": 638,
   "metadata": {},
   "outputs": [
    {
     "data": {
      "text/plain": [
       "(37240,)"
      ]
     },
     "execution_count": 638,
     "metadata": {},
     "output_type": "execute_result"
    }
   ],
   "source": [
    "np.unique(l).shape"
   ]
  },
  {
   "cell_type": "code",
   "execution_count": 639,
   "metadata": {},
   "outputs": [
    {
     "data": {
      "text/plain": [
       "(20843,)"
      ]
     },
     "execution_count": 639,
     "metadata": {},
     "output_type": "execute_result"
    }
   ],
   "source": [
    "np.unique(labels).shape"
   ]
  },
  {
   "cell_type": "code",
   "execution_count": 620,
   "metadata": {},
   "outputs": [],
   "source": [
    "submission = create_one_event_submission(0, hits['hit_id'].values, labels)\n",
    "score = score_event(truth, submission)"
   ]
  },
  {
   "cell_type": "code",
   "execution_count": 621,
   "metadata": {},
   "outputs": [
    {
     "data": {
      "text/plain": [
       "0.21629635754461213"
      ]
     },
     "execution_count": 621,
     "metadata": {},
     "output_type": "execute_result"
    }
   ],
   "source": [
    "score"
   ]
  },
  {
   "cell_type": "code",
   "execution_count": 635,
   "metadata": {},
   "outputs": [
    {
     "data": {
      "text/plain": [
       "80002"
      ]
     },
     "execution_count": 635,
     "metadata": {},
     "output_type": "execute_result"
    }
   ],
   "source": [
    "(labels != 0).sum()"
   ]
  },
  {
   "cell_type": "code",
   "execution_count": 606,
   "metadata": {},
   "outputs": [
    {
     "data": {
      "text/plain": [
       "array([32, 61])"
      ]
     },
     "execution_count": 606,
     "metadata": {},
     "output_type": "execute_result"
    }
   ],
   "source": [
    "true_idxs"
   ]
  },
  {
   "cell_type": "code",
   "execution_count": 605,
   "metadata": {},
   "outputs": [
    {
     "data": {
      "text/html": [
       "<div>\n",
       "<style scoped>\n",
       "    .dataframe tbody tr th:only-of-type {\n",
       "        vertical-align: middle;\n",
       "    }\n",
       "\n",
       "    .dataframe tbody tr th {\n",
       "        vertical-align: top;\n",
       "    }\n",
       "\n",
       "    .dataframe thead th {\n",
       "        text-align: right;\n",
       "    }\n",
       "</style>\n",
       "<table border=\"1\" class=\"dataframe\">\n",
       "  <thead>\n",
       "    <tr style=\"text-align: right;\">\n",
       "      <th></th>\n",
       "      <th>cnt_edges</th>\n",
       "      <th>mean_len</th>\n",
       "      <th>max_len</th>\n",
       "      <th>std_len</th>\n",
       "      <th>comp_len</th>\n",
       "      <th>len_first</th>\n",
       "      <th>is_edge_first</th>\n",
       "      <th>id</th>\n",
       "      <th>pred</th>\n",
       "    </tr>\n",
       "  </thead>\n",
       "  <tbody>\n",
       "    <tr>\n",
       "      <th>0</th>\n",
       "      <td>119</td>\n",
       "      <td>2.218487</td>\n",
       "      <td>6</td>\n",
       "      <td>0.790273</td>\n",
       "      <td>15</td>\n",
       "      <td>6</td>\n",
       "      <td>True</td>\n",
       "      <td>999</td>\n",
       "      <td>True</td>\n",
       "    </tr>\n",
       "    <tr>\n",
       "      <th>1</th>\n",
       "      <td>5</td>\n",
       "      <td>0.176471</td>\n",
       "      <td>6</td>\n",
       "      <td>0.894869</td>\n",
       "      <td>15</td>\n",
       "      <td>6</td>\n",
       "      <td>True</td>\n",
       "      <td>999</td>\n",
       "      <td>False</td>\n",
       "    </tr>\n",
       "    <tr>\n",
       "      <th>2</th>\n",
       "      <td>1</td>\n",
       "      <td>0.042017</td>\n",
       "      <td>5</td>\n",
       "      <td>0.456419</td>\n",
       "      <td>15</td>\n",
       "      <td>0</td>\n",
       "      <td>False</td>\n",
       "      <td>999</td>\n",
       "      <td>False</td>\n",
       "    </tr>\n",
       "    <tr>\n",
       "      <th>3</th>\n",
       "      <td>2</td>\n",
       "      <td>0.100840</td>\n",
       "      <td>6</td>\n",
       "      <td>0.771280</td>\n",
       "      <td>15</td>\n",
       "      <td>6</td>\n",
       "      <td>True</td>\n",
       "      <td>999</td>\n",
       "      <td>False</td>\n",
       "    </tr>\n",
       "    <tr>\n",
       "      <th>4</th>\n",
       "      <td>2</td>\n",
       "      <td>0.100840</td>\n",
       "      <td>6</td>\n",
       "      <td>0.771280</td>\n",
       "      <td>15</td>\n",
       "      <td>6</td>\n",
       "      <td>True</td>\n",
       "      <td>999</td>\n",
       "      <td>False</td>\n",
       "    </tr>\n",
       "    <tr>\n",
       "      <th>5</th>\n",
       "      <td>1</td>\n",
       "      <td>0.042017</td>\n",
       "      <td>5</td>\n",
       "      <td>0.456419</td>\n",
       "      <td>15</td>\n",
       "      <td>0</td>\n",
       "      <td>False</td>\n",
       "      <td>999</td>\n",
       "      <td>False</td>\n",
       "    </tr>\n",
       "    <tr>\n",
       "      <th>6</th>\n",
       "      <td>2</td>\n",
       "      <td>0.100840</td>\n",
       "      <td>6</td>\n",
       "      <td>0.771280</td>\n",
       "      <td>15</td>\n",
       "      <td>6</td>\n",
       "      <td>True</td>\n",
       "      <td>999</td>\n",
       "      <td>False</td>\n",
       "    </tr>\n",
       "    <tr>\n",
       "      <th>7</th>\n",
       "      <td>1</td>\n",
       "      <td>0.042017</td>\n",
       "      <td>5</td>\n",
       "      <td>0.456419</td>\n",
       "      <td>15</td>\n",
       "      <td>0</td>\n",
       "      <td>False</td>\n",
       "      <td>999</td>\n",
       "      <td>False</td>\n",
       "    </tr>\n",
       "    <tr>\n",
       "      <th>8</th>\n",
       "      <td>2</td>\n",
       "      <td>0.084034</td>\n",
       "      <td>5</td>\n",
       "      <td>0.642734</td>\n",
       "      <td>15</td>\n",
       "      <td>0</td>\n",
       "      <td>False</td>\n",
       "      <td>999</td>\n",
       "      <td>False</td>\n",
       "    </tr>\n",
       "    <tr>\n",
       "      <th>9</th>\n",
       "      <td>2</td>\n",
       "      <td>0.084034</td>\n",
       "      <td>5</td>\n",
       "      <td>0.642734</td>\n",
       "      <td>15</td>\n",
       "      <td>0</td>\n",
       "      <td>False</td>\n",
       "      <td>999</td>\n",
       "      <td>False</td>\n",
       "    </tr>\n",
       "    <tr>\n",
       "      <th>10</th>\n",
       "      <td>2</td>\n",
       "      <td>0.084034</td>\n",
       "      <td>5</td>\n",
       "      <td>0.642734</td>\n",
       "      <td>15</td>\n",
       "      <td>0</td>\n",
       "      <td>False</td>\n",
       "      <td>999</td>\n",
       "      <td>False</td>\n",
       "    </tr>\n",
       "    <tr>\n",
       "      <th>11</th>\n",
       "      <td>2</td>\n",
       "      <td>0.084034</td>\n",
       "      <td>5</td>\n",
       "      <td>0.642734</td>\n",
       "      <td>15</td>\n",
       "      <td>0</td>\n",
       "      <td>False</td>\n",
       "      <td>999</td>\n",
       "      <td>False</td>\n",
       "    </tr>\n",
       "    <tr>\n",
       "      <th>12</th>\n",
       "      <td>2</td>\n",
       "      <td>0.084034</td>\n",
       "      <td>5</td>\n",
       "      <td>0.642734</td>\n",
       "      <td>15</td>\n",
       "      <td>0</td>\n",
       "      <td>False</td>\n",
       "      <td>999</td>\n",
       "      <td>False</td>\n",
       "    </tr>\n",
       "    <tr>\n",
       "      <th>13</th>\n",
       "      <td>2</td>\n",
       "      <td>0.084034</td>\n",
       "      <td>5</td>\n",
       "      <td>0.642734</td>\n",
       "      <td>15</td>\n",
       "      <td>0</td>\n",
       "      <td>False</td>\n",
       "      <td>999</td>\n",
       "      <td>False</td>\n",
       "    </tr>\n",
       "  </tbody>\n",
       "</table>\n",
       "</div>"
      ],
      "text/plain": [
       "    cnt_edges  mean_len  max_len   std_len  comp_len  len_first  \\\n",
       "0         119  2.218487        6  0.790273        15          6   \n",
       "1           5  0.176471        6  0.894869        15          6   \n",
       "2           1  0.042017        5  0.456419        15          0   \n",
       "3           2  0.100840        6  0.771280        15          6   \n",
       "4           2  0.100840        6  0.771280        15          6   \n",
       "5           1  0.042017        5  0.456419        15          0   \n",
       "6           2  0.100840        6  0.771280        15          6   \n",
       "7           1  0.042017        5  0.456419        15          0   \n",
       "8           2  0.084034        5  0.642734        15          0   \n",
       "9           2  0.084034        5  0.642734        15          0   \n",
       "10          2  0.084034        5  0.642734        15          0   \n",
       "11          2  0.084034        5  0.642734        15          0   \n",
       "12          2  0.084034        5  0.642734        15          0   \n",
       "13          2  0.084034        5  0.642734        15          0   \n",
       "\n",
       "    is_edge_first   id   pred  \n",
       "0            True  999   True  \n",
       "1            True  999  False  \n",
       "2           False  999  False  \n",
       "3            True  999  False  \n",
       "4            True  999  False  \n",
       "5           False  999  False  \n",
       "6            True  999  False  \n",
       "7           False  999  False  \n",
       "8           False  999  False  \n",
       "9           False  999  False  \n",
       "10          False  999  False  \n",
       "11          False  999  False  \n",
       "12          False  999  False  \n",
       "13          False  999  False  "
      ]
     },
     "execution_count": 605,
     "metadata": {},
     "output_type": "execute_result"
    }
   ],
   "source": [
    "df"
   ]
  },
  {
   "cell_type": "code",
   "execution_count": 595,
   "metadata": {},
   "outputs": [
    {
     "data": {
      "text/plain": [
       "array([[[ 850618,  132622,  264149, ...,  340948, 3557779,  501639],\n",
       "        [      7,      11,      12, ...,       3,       3,       7]],\n",
       "\n",
       "       [[      1,       2,       3, ...,   66312,   66313,   66306],\n",
       "        [      1,       2,       1, ...,       1,       1,       4]],\n",
       "\n",
       "       [[      1,       2,       3, ...,   66319,   66320,   22093],\n",
       "        [      1,      11,       1, ...,       1,       1,       5]],\n",
       "\n",
       "       ...,\n",
       "\n",
       "       [[      1,       2,       3, ...,   70380,   70381,   70378],\n",
       "        [      1,       2,       1, ...,       1,       1,       2]],\n",
       "\n",
       "       [[      1,       2,       3, ...,   70427,   70428,   70420],\n",
       "        [      1,       2,       1, ...,       1,       1,       3]],\n",
       "\n",
       "       [[      1,       2,       3, ...,   46765,   70461,   70459],\n",
       "        [      1,       2,       1, ...,       2,       1,       2]]])"
      ]
     },
     "execution_count": 595,
     "metadata": {},
     "output_type": "execute_result"
    }
   ],
   "source": [
    "results"
   ]
  },
  {
   "cell_type": "code",
   "execution_count": 579,
   "metadata": {},
   "outputs": [
    {
     "data": {
      "text/plain": [
       "array([  32,   61, 1266, 2676, 2700, 2729, 2741, 2789, 4441, 4485, 4523,\n",
       "       6503, 6514, 6596, 8912])"
      ]
     },
     "execution_count": 579,
     "metadata": {},
     "output_type": "execute_result"
    }
   ],
   "source": [
    "idxs"
   ]
  },
  {
   "cell_type": "code",
   "execution_count": 580,
   "metadata": {},
   "outputs": [
    {
     "data": {
      "text/plain": [
       "(15,)"
      ]
     },
     "execution_count": 580,
     "metadata": {},
     "output_type": "execute_result"
    }
   ],
   "source": [
    "idxs.shape"
   ]
  },
  {
   "cell_type": "code",
   "execution_count": 578,
   "metadata": {},
   "outputs": [
    {
     "data": {
      "text/html": [
       "<div>\n",
       "<style scoped>\n",
       "    .dataframe tbody tr th:only-of-type {\n",
       "        vertical-align: middle;\n",
       "    }\n",
       "\n",
       "    .dataframe tbody tr th {\n",
       "        vertical-align: top;\n",
       "    }\n",
       "\n",
       "    .dataframe thead th {\n",
       "        text-align: right;\n",
       "    }\n",
       "</style>\n",
       "<table border=\"1\" class=\"dataframe\">\n",
       "  <thead>\n",
       "    <tr style=\"text-align: right;\">\n",
       "      <th></th>\n",
       "      <th>cnt_edges</th>\n",
       "      <th>mean_len</th>\n",
       "      <th>max_len</th>\n",
       "      <th>std_len</th>\n",
       "      <th>comp_len</th>\n",
       "      <th>len_first</th>\n",
       "      <th>is_edge_first</th>\n",
       "      <th>id</th>\n",
       "      <th>target</th>\n",
       "    </tr>\n",
       "  </thead>\n",
       "  <tbody>\n",
       "    <tr>\n",
       "      <th>0</th>\n",
       "      <td>119</td>\n",
       "      <td>2.218487</td>\n",
       "      <td>6</td>\n",
       "      <td>0.790273</td>\n",
       "      <td>15</td>\n",
       "      <td>6</td>\n",
       "      <td>True</td>\n",
       "      <td>999</td>\n",
       "      <td>True</td>\n",
       "    </tr>\n",
       "    <tr>\n",
       "      <th>1</th>\n",
       "      <td>5</td>\n",
       "      <td>0.176471</td>\n",
       "      <td>6</td>\n",
       "      <td>0.894869</td>\n",
       "      <td>15</td>\n",
       "      <td>6</td>\n",
       "      <td>True</td>\n",
       "      <td>999</td>\n",
       "      <td>True</td>\n",
       "    </tr>\n",
       "    <tr>\n",
       "      <th>2</th>\n",
       "      <td>1</td>\n",
       "      <td>0.042017</td>\n",
       "      <td>5</td>\n",
       "      <td>0.456419</td>\n",
       "      <td>15</td>\n",
       "      <td>0</td>\n",
       "      <td>False</td>\n",
       "      <td>999</td>\n",
       "      <td>False</td>\n",
       "    </tr>\n",
       "    <tr>\n",
       "      <th>3</th>\n",
       "      <td>2</td>\n",
       "      <td>0.100840</td>\n",
       "      <td>6</td>\n",
       "      <td>0.771280</td>\n",
       "      <td>15</td>\n",
       "      <td>6</td>\n",
       "      <td>True</td>\n",
       "      <td>999</td>\n",
       "      <td>True</td>\n",
       "    </tr>\n",
       "    <tr>\n",
       "      <th>4</th>\n",
       "      <td>2</td>\n",
       "      <td>0.100840</td>\n",
       "      <td>6</td>\n",
       "      <td>0.771280</td>\n",
       "      <td>15</td>\n",
       "      <td>6</td>\n",
       "      <td>True</td>\n",
       "      <td>999</td>\n",
       "      <td>True</td>\n",
       "    </tr>\n",
       "    <tr>\n",
       "      <th>5</th>\n",
       "      <td>1</td>\n",
       "      <td>0.042017</td>\n",
       "      <td>5</td>\n",
       "      <td>0.456419</td>\n",
       "      <td>15</td>\n",
       "      <td>0</td>\n",
       "      <td>False</td>\n",
       "      <td>999</td>\n",
       "      <td>False</td>\n",
       "    </tr>\n",
       "    <tr>\n",
       "      <th>6</th>\n",
       "      <td>2</td>\n",
       "      <td>0.100840</td>\n",
       "      <td>6</td>\n",
       "      <td>0.771280</td>\n",
       "      <td>15</td>\n",
       "      <td>6</td>\n",
       "      <td>True</td>\n",
       "      <td>999</td>\n",
       "      <td>True</td>\n",
       "    </tr>\n",
       "    <tr>\n",
       "      <th>7</th>\n",
       "      <td>1</td>\n",
       "      <td>0.042017</td>\n",
       "      <td>5</td>\n",
       "      <td>0.456419</td>\n",
       "      <td>15</td>\n",
       "      <td>0</td>\n",
       "      <td>False</td>\n",
       "      <td>999</td>\n",
       "      <td>False</td>\n",
       "    </tr>\n",
       "    <tr>\n",
       "      <th>8</th>\n",
       "      <td>2</td>\n",
       "      <td>0.084034</td>\n",
       "      <td>5</td>\n",
       "      <td>0.642734</td>\n",
       "      <td>15</td>\n",
       "      <td>0</td>\n",
       "      <td>False</td>\n",
       "      <td>999</td>\n",
       "      <td>False</td>\n",
       "    </tr>\n",
       "    <tr>\n",
       "      <th>9</th>\n",
       "      <td>2</td>\n",
       "      <td>0.084034</td>\n",
       "      <td>5</td>\n",
       "      <td>0.642734</td>\n",
       "      <td>15</td>\n",
       "      <td>0</td>\n",
       "      <td>False</td>\n",
       "      <td>999</td>\n",
       "      <td>False</td>\n",
       "    </tr>\n",
       "    <tr>\n",
       "      <th>10</th>\n",
       "      <td>2</td>\n",
       "      <td>0.084034</td>\n",
       "      <td>5</td>\n",
       "      <td>0.642734</td>\n",
       "      <td>15</td>\n",
       "      <td>0</td>\n",
       "      <td>False</td>\n",
       "      <td>999</td>\n",
       "      <td>False</td>\n",
       "    </tr>\n",
       "    <tr>\n",
       "      <th>11</th>\n",
       "      <td>2</td>\n",
       "      <td>0.084034</td>\n",
       "      <td>5</td>\n",
       "      <td>0.642734</td>\n",
       "      <td>15</td>\n",
       "      <td>0</td>\n",
       "      <td>False</td>\n",
       "      <td>999</td>\n",
       "      <td>False</td>\n",
       "    </tr>\n",
       "    <tr>\n",
       "      <th>12</th>\n",
       "      <td>2</td>\n",
       "      <td>0.084034</td>\n",
       "      <td>5</td>\n",
       "      <td>0.642734</td>\n",
       "      <td>15</td>\n",
       "      <td>0</td>\n",
       "      <td>False</td>\n",
       "      <td>999</td>\n",
       "      <td>False</td>\n",
       "    </tr>\n",
       "    <tr>\n",
       "      <th>13</th>\n",
       "      <td>2</td>\n",
       "      <td>0.084034</td>\n",
       "      <td>5</td>\n",
       "      <td>0.642734</td>\n",
       "      <td>15</td>\n",
       "      <td>0</td>\n",
       "      <td>False</td>\n",
       "      <td>999</td>\n",
       "      <td>False</td>\n",
       "    </tr>\n",
       "  </tbody>\n",
       "</table>\n",
       "</div>"
      ],
      "text/plain": [
       "    cnt_edges  mean_len  max_len   std_len  comp_len  len_first  \\\n",
       "0         119  2.218487        6  0.790273        15          6   \n",
       "1           5  0.176471        6  0.894869        15          6   \n",
       "2           1  0.042017        5  0.456419        15          0   \n",
       "3           2  0.100840        6  0.771280        15          6   \n",
       "4           2  0.100840        6  0.771280        15          6   \n",
       "5           1  0.042017        5  0.456419        15          0   \n",
       "6           2  0.100840        6  0.771280        15          6   \n",
       "7           1  0.042017        5  0.456419        15          0   \n",
       "8           2  0.084034        5  0.642734        15          0   \n",
       "9           2  0.084034        5  0.642734        15          0   \n",
       "10          2  0.084034        5  0.642734        15          0   \n",
       "11          2  0.084034        5  0.642734        15          0   \n",
       "12          2  0.084034        5  0.642734        15          0   \n",
       "13          2  0.084034        5  0.642734        15          0   \n",
       "\n",
       "    is_edge_first   id  target  \n",
       "0            True  999    True  \n",
       "1            True  999    True  \n",
       "2           False  999   False  \n",
       "3            True  999    True  \n",
       "4            True  999    True  \n",
       "5           False  999   False  \n",
       "6            True  999    True  \n",
       "7           False  999   False  \n",
       "8           False  999   False  \n",
       "9           False  999   False  \n",
       "10          False  999   False  \n",
       "11          False  999   False  \n",
       "12          False  999   False  \n",
       "13          False  999   False  "
      ]
     },
     "execution_count": 578,
     "metadata": {},
     "output_type": "execute_result"
    }
   ],
   "source": [
    "df"
   ]
  },
  {
   "cell_type": "code",
   "execution_count": 581,
   "metadata": {},
   "outputs": [
    {
     "data": {
      "text/plain": [
       "(14, 9)"
      ]
     },
     "execution_count": 581,
     "metadata": {},
     "output_type": "execute_result"
    }
   ],
   "source": [
    "df.shape"
   ]
  },
  {
   "cell_type": "code",
   "execution_count": 594,
   "metadata": {},
   "outputs": [],
   "source": []
  },
  {
   "cell_type": "code",
   "execution_count": null,
   "metadata": {},
   "outputs": [],
   "source": []
  },
  {
   "cell_type": "code",
   "execution_count": null,
   "metadata": {},
   "outputs": [],
   "source": []
  },
  {
   "cell_type": "code",
   "execution_count": null,
   "metadata": {},
   "outputs": [],
   "source": []
  },
  {
   "cell_type": "code",
   "execution_count": 395,
   "metadata": {},
   "outputs": [
    {
     "name": "stdout",
     "output_type": "stream",
     "text": [
      "CPU times: user 0 ns, sys: 0 ns, total: 0 ns\n",
      "Wall time: 5.01 µs\n"
     ]
    }
   ],
   "source": [
    "%%time\n",
    "\n",
    "\n",
    "def make_data(i):\n",
    "    #X = pd.DataFrame()\n",
    "\n",
    "    #for i in tqdm(np.random.choice(range(results.shape[2]), 1000)):\n",
    "    curr = np.equal(results[:, 0, :], np.repeat(results[:, 0, i:i+1], results.shape[2], axis=1))\n",
    "    idxs = np.where( (curr.sum(axis=0) > 0) == True  )[0]\n",
    "    cnt_edges = curr[:, idxs[1:]].sum(axis=0)#.sum()\n",
    "    cnt = curr[:, idxs].sum(axis=1)\n",
    "    lengths = curr[:, idxs[1:]] * np.repeat(cnt.reshape((len(cnt), 1)), len(idxs)-1, axis=1)\n",
    "\n",
    "    df = pd.DataFrame()\n",
    "    df['cnt_edges'] = cnt_edges\n",
    "    df['mean_len'] = lengths.mean(axis=0)\n",
    "    df['max_len'] = lengths.max(axis=0)\n",
    "    df['std_len'] = lengths.std(axis=0)\n",
    "    df['comp_len'] = len(idxs)\n",
    "\n",
    "    # По несмещенному кластеру\n",
    "    df['len_first'] = lengths[0]\n",
    "    df['is_edge_first'] = curr[:, idxs[1:]][0]\n",
    "\n",
    "    df['id'] = i\n",
    "\n",
    "    particle_id = truth[truth.hit_id == idxs[0]+1]['particle_id'].values[0]\n",
    "    gt_hit_ids = truth[truth.particle_id == particle_id]['hit_id'].values\n",
    "    hit_ids = idxs + 1\n",
    "    df['target'] = np.in1d(hit_ids[1:], gt_hit_ids)\n",
    "\n",
    "    #X = pd.concat([X, df], axis=0)\n",
    "\n",
    "    #X.index = range(len(X))\n",
    "    return df"
   ]
  },
  {
   "cell_type": "code",
   "execution_count": 546,
   "metadata": {},
   "outputs": [
    {
     "name": "stderr",
     "output_type": "stream",
     "text": [
      "1000it [00:20, 49.08it/s]"
     ]
    },
    {
     "name": "stdout",
     "output_type": "stream",
     "text": [
      "CPU times: user 7.39 s, sys: 224 ms, total: 7.62 s\n",
      "Wall time: 20.5 s\n"
     ]
    },
    {
     "name": "stderr",
     "output_type": "stream",
     "text": [
      "\n"
     ]
    }
   ],
   "source": [
    "%%time\n",
    "pool = Pool(processes=8)\n",
    "\n",
    "\n",
    "X = pd.DataFrame()\n",
    "\n",
    "for df in tqdm(pool.imap(make_data,  np.random.choice(range(results.shape[2]), 1000))):\n",
    "    X = pd.concat([X, df], axis=0)\n",
    "     \n",
    "pool.close()\n",
    "X.index=range(len(X))"
   ]
  },
  {
   "cell_type": "code",
   "execution_count": 348,
   "metadata": {},
   "outputs": [
    {
     "data": {
      "text/plain": [
       "array([7, 1, 3, 8, 5, 0, 0, 8, 4, 5, 9])"
      ]
     },
     "execution_count": 348,
     "metadata": {},
     "output_type": "execute_result"
    }
   ],
   "source": [
    "np.random.choice(range(10), 11)"
   ]
  },
  {
   "cell_type": "code",
   "execution_count": 547,
   "metadata": {},
   "outputs": [
    {
     "name": "stderr",
     "output_type": "stream",
     "text": [
      "/usr/local/lib/python3.5/dist-packages/ipykernel_launcher.py:9: DeprecationWarning: \n",
      ".ix is deprecated. Please use\n",
      ".loc for label based indexing or\n",
      ".iloc for positional indexing\n",
      "\n",
      "See the documentation here:\n",
      "http://pandas.pydata.org/pandas-docs/stable/indexing.html#ix-indexer-is-deprecated\n",
      "  if __name__ == '__main__':\n"
     ]
    }
   ],
   "source": [
    "from sklearn.model_selection import GroupKFold\n",
    "\n",
    "kfold = GroupKFold(n_splits=5)\n",
    "\n",
    "folds = []\n",
    "fold_id = 0\n",
    "X['fold'] = np.nan\n",
    "for itr, ite in kfold.split(X, X['target'], X['id']):\n",
    "    X.ix[ite, 'fold'] = fold_id\n",
    "    folds += [[itr, ite]]\n",
    "    fold_id += 1\n"
   ]
  },
  {
   "cell_type": "code",
   "execution_count": 549,
   "metadata": {},
   "outputs": [
    {
     "data": {
      "text/plain": [
       "0.8997144896502498"
      ]
     },
     "execution_count": 549,
     "metadata": {},
     "output_type": "execute_result"
    }
   ],
   "source": [
    "1 - X['target'].mean()"
   ]
  },
  {
   "cell_type": "code",
   "execution_count": 733,
   "metadata": {},
   "outputs": [
    {
     "name": "stderr",
     "output_type": "stream",
     "text": [
      "/usr/local/lib/python3.5/dist-packages/sklearn/preprocessing/label.py:151: DeprecationWarning: The truth value of an empty array is ambiguous. Returning False, but in future this will result in an error. Use `array.size > 0` to check that an array is not empty.\n",
      "  if diff:\n",
      "/usr/local/lib/python3.5/dist-packages/sklearn/preprocessing/label.py:151: DeprecationWarning: The truth value of an empty array is ambiguous. Returning False, but in future this will result in an error. Use `array.size > 0` to check that an array is not empty.\n",
      "  if diff:\n",
      "/usr/local/lib/python3.5/dist-packages/sklearn/preprocessing/label.py:151: DeprecationWarning: The truth value of an empty array is ambiguous. Returning False, but in future this will result in an error. Use `array.size > 0` to check that an array is not empty.\n",
      "  if diff:\n",
      "/usr/local/lib/python3.5/dist-packages/sklearn/preprocessing/label.py:151: DeprecationWarning: The truth value of an empty array is ambiguous. Returning False, but in future this will result in an error. Use `array.size > 0` to check that an array is not empty.\n",
      "  if diff:\n"
     ]
    },
    {
     "name": "stdout",
     "output_type": "stream",
     "text": [
      "0.22918594238925846 0.024179816568958106\n"
     ]
    },
    {
     "name": "stderr",
     "output_type": "stream",
     "text": [
      "/usr/local/lib/python3.5/dist-packages/sklearn/preprocessing/label.py:151: DeprecationWarning: The truth value of an empty array is ambiguous. Returning False, but in future this will result in an error. Use `array.size > 0` to check that an array is not empty.\n",
      "  if diff:\n"
     ]
    }
   ],
   "source": [
    "#%%time\n",
    "import lightgbm as lgbm\n",
    "from sklearn.metrics import roc_auc_score\n",
    "from sklearn.metrics import accuracy_score\n",
    "from sklearn.metrics import log_loss\n",
    "\n",
    "\n",
    "scores = []\n",
    "for fold_id in range(5):\n",
    "    lgb = lgbm.sklearn.LGBMClassifier(num_threads=1)\n",
    "    lgb.fit(X[X.fold != fold_id].drop(['target', 'fold', 'id'],axis=1), X[X.fold != fold_id]['target'] )\n",
    "\n",
    "    pred = lgb.predict(X[X.fold == fold_id].drop(['target', 'fold', 'id'],axis=1))#[:,1]\n",
    "    \n",
    "    proba = lgb.predict_proba(X[X.fold == fold_id].drop(['target', 'fold', 'id'],axis=1))[:, 1]\n",
    "    #X.ix[X[X.fold == fold_id].index, 'pred'] = proba    \n",
    "#     top_cnt = optimizer.maximize_expectation(proba)[0]\n",
    "#     pred = np.in1d(proba, -np.sort(-proba)[:top_cnt])\n",
    "    \n",
    "#     scores += [accuracy_score( X[X.fold == fold_id]['target'] , pred)]\n",
    "    scores += [log_loss(X[X.fold == fold_id]['target'] , proba)]\n",
    "scores = np.array(scores)\n",
    "print(scores.mean(), scores.std())\n",
    "\n",
    "\n",
    "\n",
    "# pred = lgb.predict(X_val.drop(['target'],axis=1))#[:,1]\n",
    "# print(accuracy_score( X_val['target'], pred))\n",
    "\n",
    "# pred = lgb.predict_proba(X_val.drop(['target'],axis=1))[:,1]\n",
    "# print(roc_auc_score( X_val['target'], pred))"
   ]
  },
  {
   "cell_type": "code",
   "execution_count": 535,
   "metadata": {},
   "outputs": [],
   "source": [
    "def get_pred(proba):\n",
    "    #proba = proba.tolist()\n",
    "    top_cnt = optimizer.maximize_expectation(proba)[0]\n",
    "    pred = np.in1d(proba, -np.sort(-proba)[:top_cnt])\n",
    "    return pred"
   ]
  },
  {
   "cell_type": "code",
   "execution_count": 519,
   "metadata": {},
   "outputs": [],
   "source": [
    "X.ix[X[X.fold == fold_id].index, 'pred'] = proba"
   ]
  },
  {
   "cell_type": "code",
   "execution_count": 521,
   "metadata": {},
   "outputs": [
    {
     "data": {
      "text/plain": [
       "array([       nan, 0.9368907 , 0.77258251, ..., 0.02098584, 0.02402272,\n",
       "       0.01993065])"
      ]
     },
     "execution_count": 521,
     "metadata": {},
     "output_type": "execute_result"
    }
   ],
   "source": [
    "X['pred'].unique()"
   ]
  },
  {
   "cell_type": "code",
   "execution_count": 410,
   "metadata": {},
   "outputs": [
    {
     "data": {
      "text/plain": [
       "array([ 205,  373,  466,  536, 1071,  349])"
      ]
     },
     "execution_count": 410,
     "metadata": {},
     "output_type": "execute_result"
    }
   ],
   "source": [
    "lgb.feature_importances_"
   ]
  },
  {
   "cell_type": "code",
   "execution_count": null,
   "metadata": {},
   "outputs": [],
   "source": [
    "0.9460906351722684 0.008051259262934596"
   ]
  },
  {
   "cell_type": "code",
   "execution_count": 539,
   "metadata": {},
   "outputs": [],
   "source": [
    "tmp = X.groupby('id')['pred'].apply(lambda x: get_pred(np.array(x.tolist())))"
   ]
  },
  {
   "cell_type": "code",
   "execution_count": 543,
   "metadata": {},
   "outputs": [
    {
     "data": {
      "text/plain": [
       "id\n",
       "27        [True, True, True, True, True, True, True, Tru...\n",
       "64        [True, False, False, True, True, True, True, T...\n",
       "386       [True, True, True, True, True, True, True, Tru...\n",
       "393                                           [True, False]\n",
       "583       [True, False, True, False, False, False, False...\n",
       "604       [True, True, True, True, True, True, True, Fal...\n",
       "950       [True, True, True, True, True, True, True, Tru...\n",
       "1023      [True, True, True, False, True, False, False, ...\n",
       "1175      [False, False, False, False, False, False, Fal...\n",
       "1235      [True, True, True, True, True, True, True, Tru...\n",
       "1371      [False, True, True, True, True, False, True, F...\n",
       "1553      [True, True, True, False, True, True, False, T...\n",
       "1603      [True, True, True, True, True, True, True, Tru...\n",
       "1792      [True, True, True, True, True, True, True, Tru...\n",
       "1895      [True, True, True, False, True, True, True, Tr...\n",
       "1897                                                [False]\n",
       "1962      [True, False, False, True, True, True, True, T...\n",
       "1983             [False, False, False, False, False, False]\n",
       "1987      [True, True, True, True, True, True, True, Tru...\n",
       "2032      [False, True, False, True, True, False, True, ...\n",
       "2050      [True, True, True, True, True, True, True, Tru...\n",
       "2103      [False, False, False, True, True, True, True, ...\n",
       "2339      [True, True, True, True, True, True, True, Tru...\n",
       "2463      [True, True, True, True, False, True, False, T...\n",
       "2677      [True, True, True, True, True, True, True, Tru...\n",
       "2684      [False, False, True, True, True, True, True, T...\n",
       "2733      [True, True, True, True, True, True, True, Tru...\n",
       "2814      [True, True, True, True, True, True, True, Tru...\n",
       "3047      [False, True, True, True, True, True, True, Tr...\n",
       "3050      [True, True, True, True, True, False, True, Tr...\n",
       "                                ...                        \n",
       "97405     [False, False, False, False, False, False, Fal...\n",
       "97555     [False, False, False, False, False, False, Fal...\n",
       "97742     [False, False, False, False, False, False, Fal...\n",
       "98135     [False, False, False, False, False, False, Fal...\n",
       "98253     [False, False, False, False, False, False, Fal...\n",
       "98276     [False, False, False, False, False, False, Fal...\n",
       "98319     [False, False, False, False, True, False, Fals...\n",
       "98327     [False, False, False, False, True, False, Fals...\n",
       "98358     [False, False, False, False, False, False, Fal...\n",
       "98424     [False, False, False, False, False, False, Fal...\n",
       "98597     [False, False, False, False, False, False, Fal...\n",
       "98685     [False, False, False, False, False, False, Tru...\n",
       "98725     [False, False, False, False, False, False, Fal...\n",
       "98734     [False, False, False, False, False, False, Fal...\n",
       "99076     [False, False, False, False, False, False, Fal...\n",
       "99225     [False, False, False, False, False, False, Fal...\n",
       "99245     [False, False, False, False, False, False, Fal...\n",
       "99324     [False, False, False, False, False, False, Fal...\n",
       "99434     [False, False, False, False, False, False, Fal...\n",
       "99552     [False, False, False, False, False, False, Fal...\n",
       "99612     [False, False, True, True, True, True, False, ...\n",
       "99622     [False, False, False, False, False, False, Fal...\n",
       "99672     [False, False, True, True, True, True, True, F...\n",
       "99719     [False, False, False, False, False, False, Fal...\n",
       "99724     [False, False, False, False, False, False, Fal...\n",
       "99888     [True, True, True, True, True, True, True, Tru...\n",
       "99934     [False, False, True, False, False, True, False...\n",
       "100145    [False, False, False, True, False, False, Fals...\n",
       "100204    [True, False, False, True, True, True, True, T...\n",
       "100216    [True, True, True, False, False, False, False,...\n",
       "Name: pred, Length: 984, dtype: object"
      ]
     },
     "execution_count": 543,
     "metadata": {},
     "output_type": "execute_result"
    }
   ],
   "source": [
    "tmp"
   ]
  },
  {
   "cell_type": "code",
   "execution_count": null,
   "metadata": {},
   "outputs": [],
   "source": []
  },
  {
   "cell_type": "code",
   "execution_count": null,
   "metadata": {},
   "outputs": [],
   "source": []
  },
  {
   "cell_type": "code",
   "execution_count": 295,
   "metadata": {},
   "outputs": [
    {
     "data": {
      "text/plain": [
       "(119, 11)"
      ]
     },
     "execution_count": 295,
     "metadata": {},
     "output_type": "execute_result"
    }
   ],
   "source": [
    "lengths.shape"
   ]
  },
  {
   "cell_type": "code",
   "execution_count": 304,
   "metadata": {},
   "outputs": [
    {
     "data": {
      "text/plain": [
       "True"
      ]
     },
     "execution_count": 304,
     "metadata": {},
     "output_type": "execute_result"
    }
   ],
   "source": [
    "hit_ids in gt_hit_ids"
   ]
  },
  {
   "cell_type": "code",
   "execution_count": 317,
   "metadata": {},
   "outputs": [
    {
     "data": {
      "text/plain": [
       "array([ True,  True,  True,  True,  True,  True,  True,  True,  True,\n",
       "        True,  True,  True])"
      ]
     },
     "execution_count": 317,
     "metadata": {},
     "output_type": "execute_result"
    }
   ],
   "source": []
  },
  {
   "cell_type": "code",
   "execution_count": 302,
   "metadata": {},
   "outputs": [],
   "source": []
  },
  {
   "cell_type": "code",
   "execution_count": 303,
   "metadata": {},
   "outputs": [
    {
     "data": {
      "text/plain": [
       "array([    2,  1791,  1857,  3955,  4028,  6496,  6553,  6619,  9501,\n",
       "        9618,  9693, 12998])"
      ]
     },
     "execution_count": 303,
     "metadata": {},
     "output_type": "execute_result"
    }
   ],
   "source": [
    "hit_ids"
   ]
  },
  {
   "cell_type": "code",
   "execution_count": 314,
   "metadata": {},
   "outputs": [],
   "source": [
    "tmp = list(hit_ids) + [1000]"
   ]
  },
  {
   "cell_type": "code",
   "execution_count": 260,
   "metadata": {},
   "outputs": [
    {
     "data": {
      "text/plain": [
       "(134245, 10)"
      ]
     },
     "execution_count": 260,
     "metadata": {},
     "output_type": "execute_result"
    }
   ],
   "source": [
    "hits.shape"
   ]
  },
  {
   "cell_type": "code",
   "execution_count": 278,
   "metadata": {},
   "outputs": [
    {
     "data": {
      "text/plain": [
       "array([ 0, 53])"
      ]
     },
     "execution_count": 278,
     "metadata": {},
     "output_type": "execute_result"
    }
   ],
   "source": [
    "idxs"
   ]
  },
  {
   "cell_type": "code",
   "execution_count": 290,
   "metadata": {},
   "outputs": [],
   "source": []
  },
  {
   "cell_type": "code",
   "execution_count": 292,
   "metadata": {},
   "outputs": [],
   "source": []
  },
  {
   "cell_type": "code",
   "execution_count": 293,
   "metadata": {},
   "outputs": [
    {
     "data": {
      "text/plain": [
       "array([    2,  1791,  1857,  3955,  4028,  6496,  6553,  6619,  9501,\n",
       "        9618,  9693, 12998], dtype=int32)"
      ]
     },
     "execution_count": 293,
     "metadata": {},
     "output_type": "execute_result"
    }
   ],
   "source": [
    "gt_hit_ids"
   ]
  },
  {
   "cell_type": "code",
   "execution_count": 286,
   "metadata": {},
   "outputs": [
    {
     "data": {
      "text/plain": [
       "array([    2,  1791,  1857,  3955,  4028,  6496,  6553,  6619,  9501,\n",
       "        9618,  9693, 12998])"
      ]
     },
     "execution_count": 286,
     "metadata": {},
     "output_type": "execute_result"
    }
   ],
   "source": [
    "idxs + 1"
   ]
  },
  {
   "cell_type": "code",
   "execution_count": 250,
   "metadata": {},
   "outputs": [
    {
     "data": {
      "text/html": [
       "<div>\n",
       "<style scoped>\n",
       "    .dataframe tbody tr th:only-of-type {\n",
       "        vertical-align: middle;\n",
       "    }\n",
       "\n",
       "    .dataframe tbody tr th {\n",
       "        vertical-align: top;\n",
       "    }\n",
       "\n",
       "    .dataframe thead th {\n",
       "        text-align: right;\n",
       "    }\n",
       "</style>\n",
       "<table border=\"1\" class=\"dataframe\">\n",
       "  <thead>\n",
       "    <tr style=\"text-align: right;\">\n",
       "      <th></th>\n",
       "      <th>cnt_edges</th>\n",
       "      <th>mean_len</th>\n",
       "      <th>max_len</th>\n",
       "      <th>std_len</th>\n",
       "    </tr>\n",
       "  </thead>\n",
       "  <tbody>\n",
       "    <tr>\n",
       "      <th>0</th>\n",
       "      <td>4</td>\n",
       "      <td>0.378151</td>\n",
       "      <td>0.378151</td>\n",
       "      <td>0.378151</td>\n",
       "    </tr>\n",
       "    <tr>\n",
       "      <th>1</th>\n",
       "      <td>4</td>\n",
       "      <td>0.378151</td>\n",
       "      <td>0.378151</td>\n",
       "      <td>0.378151</td>\n",
       "    </tr>\n",
       "    <tr>\n",
       "      <th>2</th>\n",
       "      <td>4</td>\n",
       "      <td>0.378151</td>\n",
       "      <td>0.378151</td>\n",
       "      <td>0.378151</td>\n",
       "    </tr>\n",
       "    <tr>\n",
       "      <th>3</th>\n",
       "      <td>4</td>\n",
       "      <td>0.378151</td>\n",
       "      <td>0.378151</td>\n",
       "      <td>0.378151</td>\n",
       "    </tr>\n",
       "    <tr>\n",
       "      <th>4</th>\n",
       "      <td>4</td>\n",
       "      <td>0.378151</td>\n",
       "      <td>0.378151</td>\n",
       "      <td>0.378151</td>\n",
       "    </tr>\n",
       "    <tr>\n",
       "      <th>5</th>\n",
       "      <td>4</td>\n",
       "      <td>0.378151</td>\n",
       "      <td>0.378151</td>\n",
       "      <td>0.378151</td>\n",
       "    </tr>\n",
       "    <tr>\n",
       "      <th>6</th>\n",
       "      <td>4</td>\n",
       "      <td>0.378151</td>\n",
       "      <td>0.378151</td>\n",
       "      <td>0.378151</td>\n",
       "    </tr>\n",
       "    <tr>\n",
       "      <th>7</th>\n",
       "      <td>4</td>\n",
       "      <td>0.378151</td>\n",
       "      <td>0.378151</td>\n",
       "      <td>0.378151</td>\n",
       "    </tr>\n",
       "    <tr>\n",
       "      <th>8</th>\n",
       "      <td>3</td>\n",
       "      <td>0.302521</td>\n",
       "      <td>0.302521</td>\n",
       "      <td>0.302521</td>\n",
       "    </tr>\n",
       "    <tr>\n",
       "      <th>9</th>\n",
       "      <td>3</td>\n",
       "      <td>0.302521</td>\n",
       "      <td>0.302521</td>\n",
       "      <td>0.302521</td>\n",
       "    </tr>\n",
       "    <tr>\n",
       "      <th>10</th>\n",
       "      <td>3</td>\n",
       "      <td>0.302521</td>\n",
       "      <td>0.302521</td>\n",
       "      <td>0.302521</td>\n",
       "    </tr>\n",
       "    <tr>\n",
       "      <th>0</th>\n",
       "      <td>4</td>\n",
       "      <td>0.378151</td>\n",
       "      <td>0.378151</td>\n",
       "      <td>0.378151</td>\n",
       "    </tr>\n",
       "    <tr>\n",
       "      <th>1</th>\n",
       "      <td>4</td>\n",
       "      <td>0.378151</td>\n",
       "      <td>0.378151</td>\n",
       "      <td>0.378151</td>\n",
       "    </tr>\n",
       "    <tr>\n",
       "      <th>2</th>\n",
       "      <td>4</td>\n",
       "      <td>0.378151</td>\n",
       "      <td>0.378151</td>\n",
       "      <td>0.378151</td>\n",
       "    </tr>\n",
       "    <tr>\n",
       "      <th>3</th>\n",
       "      <td>4</td>\n",
       "      <td>0.378151</td>\n",
       "      <td>0.378151</td>\n",
       "      <td>0.378151</td>\n",
       "    </tr>\n",
       "    <tr>\n",
       "      <th>4</th>\n",
       "      <td>4</td>\n",
       "      <td>0.378151</td>\n",
       "      <td>0.378151</td>\n",
       "      <td>0.378151</td>\n",
       "    </tr>\n",
       "    <tr>\n",
       "      <th>5</th>\n",
       "      <td>4</td>\n",
       "      <td>0.378151</td>\n",
       "      <td>0.378151</td>\n",
       "      <td>0.378151</td>\n",
       "    </tr>\n",
       "    <tr>\n",
       "      <th>6</th>\n",
       "      <td>4</td>\n",
       "      <td>0.378151</td>\n",
       "      <td>0.378151</td>\n",
       "      <td>0.378151</td>\n",
       "    </tr>\n",
       "    <tr>\n",
       "      <th>7</th>\n",
       "      <td>4</td>\n",
       "      <td>0.378151</td>\n",
       "      <td>0.378151</td>\n",
       "      <td>0.378151</td>\n",
       "    </tr>\n",
       "    <tr>\n",
       "      <th>8</th>\n",
       "      <td>3</td>\n",
       "      <td>0.302521</td>\n",
       "      <td>0.302521</td>\n",
       "      <td>0.302521</td>\n",
       "    </tr>\n",
       "    <tr>\n",
       "      <th>9</th>\n",
       "      <td>3</td>\n",
       "      <td>0.302521</td>\n",
       "      <td>0.302521</td>\n",
       "      <td>0.302521</td>\n",
       "    </tr>\n",
       "    <tr>\n",
       "      <th>10</th>\n",
       "      <td>3</td>\n",
       "      <td>0.302521</td>\n",
       "      <td>0.302521</td>\n",
       "      <td>0.302521</td>\n",
       "    </tr>\n",
       "    <tr>\n",
       "      <th>0</th>\n",
       "      <td>4</td>\n",
       "      <td>0.378151</td>\n",
       "      <td>0.378151</td>\n",
       "      <td>0.378151</td>\n",
       "    </tr>\n",
       "    <tr>\n",
       "      <th>1</th>\n",
       "      <td>4</td>\n",
       "      <td>0.378151</td>\n",
       "      <td>0.378151</td>\n",
       "      <td>0.378151</td>\n",
       "    </tr>\n",
       "    <tr>\n",
       "      <th>2</th>\n",
       "      <td>4</td>\n",
       "      <td>0.378151</td>\n",
       "      <td>0.378151</td>\n",
       "      <td>0.378151</td>\n",
       "    </tr>\n",
       "    <tr>\n",
       "      <th>3</th>\n",
       "      <td>4</td>\n",
       "      <td>0.378151</td>\n",
       "      <td>0.378151</td>\n",
       "      <td>0.378151</td>\n",
       "    </tr>\n",
       "    <tr>\n",
       "      <th>4</th>\n",
       "      <td>4</td>\n",
       "      <td>0.378151</td>\n",
       "      <td>0.378151</td>\n",
       "      <td>0.378151</td>\n",
       "    </tr>\n",
       "    <tr>\n",
       "      <th>5</th>\n",
       "      <td>4</td>\n",
       "      <td>0.378151</td>\n",
       "      <td>0.378151</td>\n",
       "      <td>0.378151</td>\n",
       "    </tr>\n",
       "    <tr>\n",
       "      <th>6</th>\n",
       "      <td>4</td>\n",
       "      <td>0.378151</td>\n",
       "      <td>0.378151</td>\n",
       "      <td>0.378151</td>\n",
       "    </tr>\n",
       "    <tr>\n",
       "      <th>7</th>\n",
       "      <td>4</td>\n",
       "      <td>0.378151</td>\n",
       "      <td>0.378151</td>\n",
       "      <td>0.378151</td>\n",
       "    </tr>\n",
       "    <tr>\n",
       "      <th>...</th>\n",
       "      <td>...</td>\n",
       "      <td>...</td>\n",
       "      <td>...</td>\n",
       "      <td>...</td>\n",
       "    </tr>\n",
       "    <tr>\n",
       "      <th>3</th>\n",
       "      <td>4</td>\n",
       "      <td>0.378151</td>\n",
       "      <td>0.378151</td>\n",
       "      <td>0.378151</td>\n",
       "    </tr>\n",
       "    <tr>\n",
       "      <th>4</th>\n",
       "      <td>4</td>\n",
       "      <td>0.378151</td>\n",
       "      <td>0.378151</td>\n",
       "      <td>0.378151</td>\n",
       "    </tr>\n",
       "    <tr>\n",
       "      <th>5</th>\n",
       "      <td>4</td>\n",
       "      <td>0.378151</td>\n",
       "      <td>0.378151</td>\n",
       "      <td>0.378151</td>\n",
       "    </tr>\n",
       "    <tr>\n",
       "      <th>6</th>\n",
       "      <td>4</td>\n",
       "      <td>0.378151</td>\n",
       "      <td>0.378151</td>\n",
       "      <td>0.378151</td>\n",
       "    </tr>\n",
       "    <tr>\n",
       "      <th>7</th>\n",
       "      <td>4</td>\n",
       "      <td>0.378151</td>\n",
       "      <td>0.378151</td>\n",
       "      <td>0.378151</td>\n",
       "    </tr>\n",
       "    <tr>\n",
       "      <th>8</th>\n",
       "      <td>3</td>\n",
       "      <td>0.302521</td>\n",
       "      <td>0.302521</td>\n",
       "      <td>0.302521</td>\n",
       "    </tr>\n",
       "    <tr>\n",
       "      <th>9</th>\n",
       "      <td>3</td>\n",
       "      <td>0.302521</td>\n",
       "      <td>0.302521</td>\n",
       "      <td>0.302521</td>\n",
       "    </tr>\n",
       "    <tr>\n",
       "      <th>10</th>\n",
       "      <td>3</td>\n",
       "      <td>0.302521</td>\n",
       "      <td>0.302521</td>\n",
       "      <td>0.302521</td>\n",
       "    </tr>\n",
       "    <tr>\n",
       "      <th>0</th>\n",
       "      <td>4</td>\n",
       "      <td>0.378151</td>\n",
       "      <td>0.378151</td>\n",
       "      <td>0.378151</td>\n",
       "    </tr>\n",
       "    <tr>\n",
       "      <th>1</th>\n",
       "      <td>4</td>\n",
       "      <td>0.378151</td>\n",
       "      <td>0.378151</td>\n",
       "      <td>0.378151</td>\n",
       "    </tr>\n",
       "    <tr>\n",
       "      <th>2</th>\n",
       "      <td>4</td>\n",
       "      <td>0.378151</td>\n",
       "      <td>0.378151</td>\n",
       "      <td>0.378151</td>\n",
       "    </tr>\n",
       "    <tr>\n",
       "      <th>3</th>\n",
       "      <td>4</td>\n",
       "      <td>0.378151</td>\n",
       "      <td>0.378151</td>\n",
       "      <td>0.378151</td>\n",
       "    </tr>\n",
       "    <tr>\n",
       "      <th>4</th>\n",
       "      <td>4</td>\n",
       "      <td>0.378151</td>\n",
       "      <td>0.378151</td>\n",
       "      <td>0.378151</td>\n",
       "    </tr>\n",
       "    <tr>\n",
       "      <th>5</th>\n",
       "      <td>4</td>\n",
       "      <td>0.378151</td>\n",
       "      <td>0.378151</td>\n",
       "      <td>0.378151</td>\n",
       "    </tr>\n",
       "    <tr>\n",
       "      <th>6</th>\n",
       "      <td>4</td>\n",
       "      <td>0.378151</td>\n",
       "      <td>0.378151</td>\n",
       "      <td>0.378151</td>\n",
       "    </tr>\n",
       "    <tr>\n",
       "      <th>7</th>\n",
       "      <td>4</td>\n",
       "      <td>0.378151</td>\n",
       "      <td>0.378151</td>\n",
       "      <td>0.378151</td>\n",
       "    </tr>\n",
       "    <tr>\n",
       "      <th>8</th>\n",
       "      <td>3</td>\n",
       "      <td>0.302521</td>\n",
       "      <td>0.302521</td>\n",
       "      <td>0.302521</td>\n",
       "    </tr>\n",
       "    <tr>\n",
       "      <th>9</th>\n",
       "      <td>3</td>\n",
       "      <td>0.302521</td>\n",
       "      <td>0.302521</td>\n",
       "      <td>0.302521</td>\n",
       "    </tr>\n",
       "    <tr>\n",
       "      <th>10</th>\n",
       "      <td>3</td>\n",
       "      <td>0.302521</td>\n",
       "      <td>0.302521</td>\n",
       "      <td>0.302521</td>\n",
       "    </tr>\n",
       "    <tr>\n",
       "      <th>0</th>\n",
       "      <td>4</td>\n",
       "      <td>0.378151</td>\n",
       "      <td>0.378151</td>\n",
       "      <td>0.378151</td>\n",
       "    </tr>\n",
       "    <tr>\n",
       "      <th>1</th>\n",
       "      <td>4</td>\n",
       "      <td>0.378151</td>\n",
       "      <td>0.378151</td>\n",
       "      <td>0.378151</td>\n",
       "    </tr>\n",
       "    <tr>\n",
       "      <th>2</th>\n",
       "      <td>4</td>\n",
       "      <td>0.378151</td>\n",
       "      <td>0.378151</td>\n",
       "      <td>0.378151</td>\n",
       "    </tr>\n",
       "    <tr>\n",
       "      <th>3</th>\n",
       "      <td>4</td>\n",
       "      <td>0.378151</td>\n",
       "      <td>0.378151</td>\n",
       "      <td>0.378151</td>\n",
       "    </tr>\n",
       "    <tr>\n",
       "      <th>4</th>\n",
       "      <td>4</td>\n",
       "      <td>0.378151</td>\n",
       "      <td>0.378151</td>\n",
       "      <td>0.378151</td>\n",
       "    </tr>\n",
       "    <tr>\n",
       "      <th>5</th>\n",
       "      <td>4</td>\n",
       "      <td>0.378151</td>\n",
       "      <td>0.378151</td>\n",
       "      <td>0.378151</td>\n",
       "    </tr>\n",
       "    <tr>\n",
       "      <th>6</th>\n",
       "      <td>4</td>\n",
       "      <td>0.378151</td>\n",
       "      <td>0.378151</td>\n",
       "      <td>0.378151</td>\n",
       "    </tr>\n",
       "    <tr>\n",
       "      <th>7</th>\n",
       "      <td>4</td>\n",
       "      <td>0.378151</td>\n",
       "      <td>0.378151</td>\n",
       "      <td>0.378151</td>\n",
       "    </tr>\n",
       "    <tr>\n",
       "      <th>8</th>\n",
       "      <td>3</td>\n",
       "      <td>0.302521</td>\n",
       "      <td>0.302521</td>\n",
       "      <td>0.302521</td>\n",
       "    </tr>\n",
       "    <tr>\n",
       "      <th>9</th>\n",
       "      <td>3</td>\n",
       "      <td>0.302521</td>\n",
       "      <td>0.302521</td>\n",
       "      <td>0.302521</td>\n",
       "    </tr>\n",
       "    <tr>\n",
       "      <th>10</th>\n",
       "      <td>3</td>\n",
       "      <td>0.302521</td>\n",
       "      <td>0.302521</td>\n",
       "      <td>0.302521</td>\n",
       "    </tr>\n",
       "  </tbody>\n",
       "</table>\n",
       "<p>11000 rows × 4 columns</p>\n",
       "</div>"
      ],
      "text/plain": [
       "    cnt_edges  mean_len   max_len   std_len\n",
       "0           4  0.378151  0.378151  0.378151\n",
       "1           4  0.378151  0.378151  0.378151\n",
       "2           4  0.378151  0.378151  0.378151\n",
       "3           4  0.378151  0.378151  0.378151\n",
       "4           4  0.378151  0.378151  0.378151\n",
       "5           4  0.378151  0.378151  0.378151\n",
       "6           4  0.378151  0.378151  0.378151\n",
       "7           4  0.378151  0.378151  0.378151\n",
       "8           3  0.302521  0.302521  0.302521\n",
       "9           3  0.302521  0.302521  0.302521\n",
       "10          3  0.302521  0.302521  0.302521\n",
       "0           4  0.378151  0.378151  0.378151\n",
       "1           4  0.378151  0.378151  0.378151\n",
       "2           4  0.378151  0.378151  0.378151\n",
       "3           4  0.378151  0.378151  0.378151\n",
       "4           4  0.378151  0.378151  0.378151\n",
       "5           4  0.378151  0.378151  0.378151\n",
       "6           4  0.378151  0.378151  0.378151\n",
       "7           4  0.378151  0.378151  0.378151\n",
       "8           3  0.302521  0.302521  0.302521\n",
       "9           3  0.302521  0.302521  0.302521\n",
       "10          3  0.302521  0.302521  0.302521\n",
       "0           4  0.378151  0.378151  0.378151\n",
       "1           4  0.378151  0.378151  0.378151\n",
       "2           4  0.378151  0.378151  0.378151\n",
       "3           4  0.378151  0.378151  0.378151\n",
       "4           4  0.378151  0.378151  0.378151\n",
       "5           4  0.378151  0.378151  0.378151\n",
       "6           4  0.378151  0.378151  0.378151\n",
       "7           4  0.378151  0.378151  0.378151\n",
       "..        ...       ...       ...       ...\n",
       "3           4  0.378151  0.378151  0.378151\n",
       "4           4  0.378151  0.378151  0.378151\n",
       "5           4  0.378151  0.378151  0.378151\n",
       "6           4  0.378151  0.378151  0.378151\n",
       "7           4  0.378151  0.378151  0.378151\n",
       "8           3  0.302521  0.302521  0.302521\n",
       "9           3  0.302521  0.302521  0.302521\n",
       "10          3  0.302521  0.302521  0.302521\n",
       "0           4  0.378151  0.378151  0.378151\n",
       "1           4  0.378151  0.378151  0.378151\n",
       "2           4  0.378151  0.378151  0.378151\n",
       "3           4  0.378151  0.378151  0.378151\n",
       "4           4  0.378151  0.378151  0.378151\n",
       "5           4  0.378151  0.378151  0.378151\n",
       "6           4  0.378151  0.378151  0.378151\n",
       "7           4  0.378151  0.378151  0.378151\n",
       "8           3  0.302521  0.302521  0.302521\n",
       "9           3  0.302521  0.302521  0.302521\n",
       "10          3  0.302521  0.302521  0.302521\n",
       "0           4  0.378151  0.378151  0.378151\n",
       "1           4  0.378151  0.378151  0.378151\n",
       "2           4  0.378151  0.378151  0.378151\n",
       "3           4  0.378151  0.378151  0.378151\n",
       "4           4  0.378151  0.378151  0.378151\n",
       "5           4  0.378151  0.378151  0.378151\n",
       "6           4  0.378151  0.378151  0.378151\n",
       "7           4  0.378151  0.378151  0.378151\n",
       "8           3  0.302521  0.302521  0.302521\n",
       "9           3  0.302521  0.302521  0.302521\n",
       "10          3  0.302521  0.302521  0.302521\n",
       "\n",
       "[11000 rows x 4 columns]"
      ]
     },
     "execution_count": 250,
     "metadata": {},
     "output_type": "execute_result"
    }
   ],
   "source": [
    "X"
   ]
  },
  {
   "cell_type": "code",
   "execution_count": null,
   "metadata": {},
   "outputs": [],
   "source": []
  },
  {
   "cell_type": "code",
   "execution_count": null,
   "metadata": {},
   "outputs": [],
   "source": []
  },
  {
   "cell_type": "code",
   "execution_count": null,
   "metadata": {},
   "outputs": [],
   "source": []
  },
  {
   "cell_type": "code",
   "execution_count": null,
   "metadata": {},
   "outputs": [],
   "source": []
  },
  {
   "cell_type": "code",
   "execution_count": null,
   "metadata": {},
   "outputs": [],
   "source": []
  },
  {
   "cell_type": "code",
   "execution_count": null,
   "metadata": {},
   "outputs": [],
   "source": []
  },
  {
   "cell_type": "code",
   "execution_count": null,
   "metadata": {},
   "outputs": [],
   "source": []
  },
  {
   "cell_type": "code",
   "execution_count": null,
   "metadata": {},
   "outputs": [],
   "source": []
  },
  {
   "cell_type": "code",
   "execution_count": null,
   "metadata": {},
   "outputs": [],
   "source": []
  },
  {
   "cell_type": "code",
   "execution_count": null,
   "metadata": {},
   "outputs": [],
   "source": []
  },
  {
   "cell_type": "code",
   "execution_count": 220,
   "metadata": {},
   "outputs": [
    {
     "data": {
      "text/plain": [
       "119"
      ]
     },
     "execution_count": 220,
     "metadata": {},
     "output_type": "execute_result"
    }
   ],
   "source": [
    "len(cnt)"
   ]
  },
  {
   "cell_type": "code",
   "execution_count": 159,
   "metadata": {},
   "outputs": [],
   "source": [
    "import itertools"
   ]
  },
  {
   "cell_type": "code",
   "execution_count": 161,
   "metadata": {},
   "outputs": [
    {
     "name": "stdout",
     "output_type": "stream",
     "text": [
      "(2, 9438)\n",
      "(2, 9538)\n",
      "(2, 12914)\n",
      "(2, 12985)\n",
      "(2, 13061)\n",
      "(2, 16530)\n",
      "(2, 16631)\n",
      "(9438, 9538)\n",
      "(9438, 12914)\n",
      "(9438, 12985)\n",
      "(9438, 13061)\n",
      "(9438, 16530)\n",
      "(9438, 16631)\n",
      "(9538, 12914)\n",
      "(9538, 12985)\n",
      "(9538, 13061)\n",
      "(9538, 16530)\n",
      "(9538, 16631)\n",
      "(12914, 12985)\n",
      "(12914, 13061)\n",
      "(12914, 16530)\n",
      "(12914, 16631)\n",
      "(12985, 13061)\n",
      "(12985, 16530)\n",
      "(12985, 16631)\n",
      "(13061, 16530)\n",
      "(13061, 16631)\n",
      "(16530, 16631)\n"
     ]
    }
   ],
   "source": [
    "for i in itertools.combinations(idxs, 2):\n",
    "    print(i)"
   ]
  },
  {
   "cell_type": "code",
   "execution_count": null,
   "metadata": {},
   "outputs": [],
   "source": [
    "%%time\n",
    "np.equal(results[:, 0, :], np.repeat(results[:, 0, 2:3], results.shape[2], axis=1))"
   ]
  },
  {
   "cell_type": "code",
   "execution_count": 148,
   "metadata": {},
   "outputs": [
    {
     "data": {
      "text/plain": [
       "array([[4136909],\n",
       "       [      3],\n",
       "       [      3],\n",
       "       [      3],\n",
       "       [      3],\n",
       "       [      3],\n",
       "       [      3],\n",
       "       [      3],\n",
       "       [      3],\n",
       "       [      3],\n",
       "       [      3],\n",
       "       [      3],\n",
       "       [      3],\n",
       "       [      3],\n",
       "       [      3],\n",
       "       [      3],\n",
       "       [      3],\n",
       "       [      3],\n",
       "       [      3],\n",
       "       [      3],\n",
       "       [      3],\n",
       "       [      3],\n",
       "       [      3],\n",
       "       [      3],\n",
       "       [      3],\n",
       "       [      3],\n",
       "       [      3],\n",
       "       [      3],\n",
       "       [      3],\n",
       "       [      3],\n",
       "       [      3],\n",
       "       [      3],\n",
       "       [      3],\n",
       "       [      3],\n",
       "       [      3],\n",
       "       [      3],\n",
       "       [      3],\n",
       "       [      3],\n",
       "       [      3],\n",
       "       [      3],\n",
       "       [      3],\n",
       "       [      3],\n",
       "       [      3],\n",
       "       [      3],\n",
       "       [      3],\n",
       "       [      3],\n",
       "       [      3],\n",
       "       [      3],\n",
       "       [      3],\n",
       "       [      3],\n",
       "       [      3],\n",
       "       [      3],\n",
       "       [      3],\n",
       "       [      3],\n",
       "       [      3],\n",
       "       [      3],\n",
       "       [      3],\n",
       "       [      3],\n",
       "       [      3],\n",
       "       [      3],\n",
       "       [      3],\n",
       "       [      3],\n",
       "       [      3],\n",
       "       [      3],\n",
       "       [      3],\n",
       "       [      3],\n",
       "       [      3],\n",
       "       [      3],\n",
       "       [      3],\n",
       "       [      3],\n",
       "       [      3],\n",
       "       [      3],\n",
       "       [      3],\n",
       "       [      3],\n",
       "       [      3],\n",
       "       [      3],\n",
       "       [      3],\n",
       "       [      3],\n",
       "       [      3],\n",
       "       [      3],\n",
       "       [      3],\n",
       "       [      3],\n",
       "       [      3],\n",
       "       [      3],\n",
       "       [      3],\n",
       "       [      3],\n",
       "       [      3],\n",
       "       [      3],\n",
       "       [      3],\n",
       "       [      3],\n",
       "       [      3],\n",
       "       [      3],\n",
       "       [      3],\n",
       "       [      3],\n",
       "       [      3],\n",
       "       [      3],\n",
       "       [      3],\n",
       "       [      3],\n",
       "       [      3],\n",
       "       [      3],\n",
       "       [      3],\n",
       "       [      3],\n",
       "       [      3],\n",
       "       [      3],\n",
       "       [      3],\n",
       "       [      3],\n",
       "       [      3],\n",
       "       [      3],\n",
       "       [      3],\n",
       "       [      3],\n",
       "       [      3],\n",
       "       [      3],\n",
       "       [      3],\n",
       "       [      3],\n",
       "       [      3],\n",
       "       [      3],\n",
       "       [      3],\n",
       "       [      3],\n",
       "       [      3]])"
      ]
     },
     "execution_count": 148,
     "metadata": {},
     "output_type": "execute_result"
    }
   ],
   "source": [
    "results[:, 0, 2:3]"
   ]
  },
  {
   "cell_type": "code",
   "execution_count": 101,
   "metadata": {},
   "outputs": [
    {
     "data": {
      "text/plain": [
       "2"
      ]
     },
     "execution_count": 101,
     "metadata": {},
     "output_type": "execute_result"
    }
   ],
   "source": [
    "(results[0, 0, :] == 1).sum()"
   ]
  },
  {
   "cell_type": "code",
   "execution_count": 103,
   "metadata": {},
   "outputs": [
    {
     "data": {
      "text/plain": [
       "array([[ 2, 12,  4, ...,  4,  4,  5],\n",
       "       [ 2,  1,  1, ...,  1,  1,  1],\n",
       "       [ 2,  1,  1, ...,  1,  1,  1],\n",
       "       ...,\n",
       "       [ 2,  1,  1, ...,  1,  2,  1],\n",
       "       [ 2,  1,  1, ...,  1,  1,  1],\n",
       "       [ 2,  1,  1, ...,  1,  1,  1]])"
      ]
     },
     "execution_count": 103,
     "metadata": {},
     "output_type": "execute_result"
    }
   ],
   "source": [
    "results[:, 1, :]"
   ]
  },
  {
   "cell_type": "code",
   "execution_count": null,
   "metadata": {},
   "outputs": [],
   "source": []
  },
  {
   "cell_type": "code",
   "execution_count": null,
   "metadata": {},
   "outputs": [],
   "source": []
  },
  {
   "cell_type": "code",
   "execution_count": 95,
   "metadata": {},
   "outputs": [
    {
     "data": {
      "text/plain": [
       "(82700,)"
      ]
     },
     "execution_count": 95,
     "metadata": {},
     "output_type": "execute_result"
    }
   ],
   "source": [
    "np.unique(results[20:21, 0, :]).shape"
   ]
  },
  {
   "cell_type": "code",
   "execution_count": null,
   "metadata": {},
   "outputs": [],
   "source": [
    "0.40451986708955157\n",
    "0.4036879581113626\n",
    "0.40262585370782106"
   ]
  },
  {
   "cell_type": "code",
   "execution_count": null,
   "metadata": {},
   "outputs": [],
   "source": [
    "0.37713172974254583"
   ]
  },
  {
   "cell_type": "code",
   "execution_count": 37,
   "metadata": {},
   "outputs": [],
   "source": [
    "unique, reverse, count = np.unique([0, 0, 0, 1, 1, 2, 7, 7, 7], return_counts=True, return_inverse=True)\n"
   ]
  },
  {
   "cell_type": "code",
   "execution_count": 38,
   "metadata": {},
   "outputs": [
    {
     "data": {
      "text/plain": [
       "array([0, 1, 2, 7])"
      ]
     },
     "execution_count": 38,
     "metadata": {},
     "output_type": "execute_result"
    }
   ],
   "source": [
    "unique"
   ]
  },
  {
   "cell_type": "code",
   "execution_count": 39,
   "metadata": {},
   "outputs": [
    {
     "data": {
      "text/plain": [
       "array([3, 2, 1, 3])"
      ]
     },
     "execution_count": 39,
     "metadata": {},
     "output_type": "execute_result"
    }
   ],
   "source": [
    "count"
   ]
  },
  {
   "cell_type": "code",
   "execution_count": 40,
   "metadata": {},
   "outputs": [
    {
     "data": {
      "text/plain": [
       "array([0, 0, 0, 1, 1, 2, 3, 3, 3])"
      ]
     },
     "execution_count": 40,
     "metadata": {},
     "output_type": "execute_result"
    }
   ],
   "source": [
    "reverse"
   ]
  },
  {
   "cell_type": "code",
   "execution_count": 41,
   "metadata": {},
   "outputs": [
    {
     "data": {
      "text/plain": [
       "array([3, 3, 3, 2, 2, 1, 3, 3, 3])"
      ]
     },
     "execution_count": 41,
     "metadata": {},
     "output_type": "execute_result"
    }
   ],
   "source": [
    "count[reverse]"
   ]
  },
  {
   "cell_type": "code",
   "execution_count": null,
   "metadata": {},
   "outputs": [],
   "source": [
    "[0, 0, 0, 1, 1, 2, 7, 7, 7]\n",
    "[3, 3, 3, 2, 2, 1, 3, 3, 3]"
   ]
  },
  {
   "cell_type": "code",
   "execution_count": null,
   "metadata": {},
   "outputs": [],
   "source": [
    "[0, 0, 0, 0, 1, 2, 7, 7, 7]\n",
    "[4, 4, 4, 4, 2, 1, 3, 3, 3]"
   ]
  },
  {
   "cell_type": "code",
   "execution_count": null,
   "metadata": {},
   "outputs": [],
   "source": [
    "labels, counts = results[0]\n",
    "for i in range(1, len(results)):\n",
    "    l, c = results[i]\n",
    "    idx = np.where((c - counts > 0))[0]\n",
    "    labels[idx] = l[idx] + labels.max()\n",
    "    counts[idx] = c[idx]"
   ]
  },
  {
   "cell_type": "code",
   "execution_count": 45,
   "metadata": {},
   "outputs": [
    {
     "data": {
      "text/plain": [
       "(array([0, 1, 2, 3, 4]),)"
      ]
     },
     "execution_count": 45,
     "metadata": {},
     "output_type": "execute_result"
    }
   ],
   "source": [
    "np.where((count[reverse] - reverse > 0))"
   ]
  },
  {
   "cell_type": "code",
   "execution_count": 44,
   "metadata": {},
   "outputs": [
    {
     "data": {
      "text/plain": [
       "array([-3, -3, -3, -1, -1,  1,  0,  0,  0])"
      ]
     },
     "execution_count": 44,
     "metadata": {},
     "output_type": "execute_result"
    }
   ],
   "source": [
    "reverse - count[reverse] "
   ]
  },
  {
   "cell_type": "code",
   "execution_count": 46,
   "metadata": {},
   "outputs": [
    {
     "data": {
      "text/plain": [
       "array([ 3,  3,  3,  1,  1, -1,  0,  0,  0])"
      ]
     },
     "execution_count": 46,
     "metadata": {},
     "output_type": "execute_result"
    }
   ],
   "source": [
    "count[reverse] - reverse "
   ]
  },
  {
   "cell_type": "code",
   "execution_count": null,
   "metadata": {},
   "outputs": [],
   "source": []
  },
  {
   "cell_type": "code",
   "execution_count": null,
   "metadata": {},
   "outputs": [],
   "source": []
  }
 ],
 "metadata": {
  "kernelspec": {
   "display_name": "Python 3",
   "language": "python",
   "name": "python3"
  },
  "language_info": {
   "codemirror_mode": {
    "name": "ipython",
    "version": 3
   },
   "file_extension": ".py",
   "mimetype": "text/x-python",
   "name": "python",
   "nbconvert_exporter": "python",
   "pygments_lexer": "ipython3",
   "version": "3.5.2"
  }
 },
 "nbformat": 4,
 "nbformat_minor": 2
}
