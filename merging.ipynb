{
 "cells": [
  {
   "cell_type": "code",
   "execution_count": 13,
   "metadata": {},
   "outputs": [],
   "source": [
    "from trackml.dataset import load_event\n",
    "from trackml.dataset import load_dataset\n",
    "import pandas as pd\n",
    "import numpy as np\n",
    "import matplotlib.pyplot as plt\n",
    "from mpl_toolkits.mplot3d import Axes3D\n",
    "import random\n",
    "\n",
    "\n",
    "%matplotlib inline\n",
    "import matplotlib.pyplot as plt\n",
    "import numpy as np\n",
    "import pandas as pd\n",
    "import os\n",
    "\n",
    "from trackml.dataset import load_event, load_dataset\n",
    "from trackml.score import score_event\n",
    "\n",
    "from tqdm import tqdm\n",
    "from multiprocessing import Pool\n",
    "from sklearn.neighbors import KDTree"
   ]
  },
  {
   "cell_type": "code",
   "execution_count": 30,
   "metadata": {},
   "outputs": [],
   "source": [
    "cnt = 0\n",
    "for event_id, hits, cells, particles, truth in load_dataset('../storage/track_ml_data/train_5.zip'):\n",
    "    if cnt == 1:\n",
    "        break\n",
    "    cnt += 1"
   ]
  },
  {
   "cell_type": "code",
   "execution_count": 42,
   "metadata": {},
   "outputs": [
    {
     "data": {
      "text/plain": [
       "4.166666666666667"
      ]
     },
     "execution_count": 42,
     "metadata": {},
     "output_type": "execute_result"
    }
   ],
   "source": [
    "10 * 200 / 60 / 8"
   ]
  },
  {
   "cell_type": "code",
   "execution_count": 14,
   "metadata": {},
   "outputs": [],
   "source": [
    "\tdef extend(submission,hits):\n",
    "\n",
    "\t\tdf = submission.merge(hits,  on=['hit_id'], how='left')\n",
    "\t\tdf = df.assign(d = np.sqrt( df.x**2 + df.y**2 + df.z**2 ))\n",
    "\t\tdf = df.assign(r = np.sqrt( df.x**2 + df.y**2))\n",
    "\t\tdf = df.assign(arctan2 = np.arctan2(df.z, df.r))\n",
    "\n",
    "\t\tfor angle in range(-180,180,1):\n",
    "\n",
    "\t\t    #print ('\\r %f'%angle, end='',flush=True)\n",
    "\t\t    #df1 = df.loc[(df.arctan2>(angle-0.5)/180*np.pi) & (df.arctan2<(angle+0.5)/180*np.pi)]\n",
    "\t\t    df1 = df.loc[(df.arctan2>(angle-1.0)/180*np.pi) & (df.arctan2<(angle+1.0)/180*np.pi)]\n",
    "\n",
    "\t\t    min_num_neighbours = len(df1)\n",
    "\t\t    if min_num_neighbours<4: continue\n",
    "\n",
    "\t\t    hit_ids = df1.hit_id.values\n",
    "\t\t    x,y,z = df1.as_matrix(columns=['x', 'y', 'z']).T\n",
    "\t\t    r  = (x**2 + y**2)**0.5\n",
    "\t\t    r  = r/1000\n",
    "\t\t    a  = np.arctan2(y,x)\n",
    "\t\t    tree = KDTree(np.column_stack([a,r]), metric='euclidean')\n",
    "\n",
    "\t\t    track_ids = list(df1.track_id.unique())\n",
    "\t\t    num_track_ids = len(track_ids)\n",
    "\t\t    min_length=3\n",
    "\n",
    "\t\t    for i in range(num_track_ids):\n",
    "\t\t        p = track_ids[i]\n",
    "\t\t        if p==0: continue\n",
    "\n",
    "\t\t        idx = np.where(df1.track_id==p)[0]\n",
    "\t\t        if len(idx)<min_length: continue\n",
    "\n",
    "\t\t        if angle>0:\n",
    "\t\t            idx = idx[np.argsort( z[idx])]\n",
    "\t\t        else:\n",
    "\t\t            idx = idx[np.argsort(-z[idx])]\n",
    "\n",
    "\n",
    "\t\t        ## start and end points  ##\n",
    "\t\t        idx0,idx1 = idx[0],idx[-1]\n",
    "\t\t        a0 = a[idx0]\n",
    "\t\t        a1 = a[idx1]\n",
    "\t\t        r0 = r[idx0]\n",
    "\t\t        r1 = r[idx1]\n",
    "\n",
    "\t\t        da0 = a[idx[1]] - a[idx[0]]  #direction\n",
    "\t\t        dr0 = r[idx[1]] - r[idx[0]]\n",
    "\t\t        direction0 = np.arctan2(dr0,da0) \n",
    "\n",
    "\t\t        da1 = a[idx[-1]] - a[idx[-2]]\n",
    "\t\t        dr1 = r[idx[-1]] - r[idx[-2]]\n",
    "\t\t        direction1 = np.arctan2(dr1,da1) \n",
    "\n",
    "\t \n",
    "\t\t        ## extend start point\n",
    "\t\t        ns = tree.query([[a0,r0]], k=min(20,min_num_neighbours), return_distance=False)\n",
    "\t\t        ns = np.concatenate(ns)\n",
    "\t\t        direction = np.arctan2(r0-r[ns],a0-a[ns])\n",
    "\t\t        ns = ns[(r0-r[ns]>0.01) &(np.fabs(direction-direction0)<0.04)]\n",
    "\t   \n",
    "\t\t        for n in ns:\n",
    "\t\t            df.loc[ df.hit_id==hit_ids[n],'track_id' ] = p \n",
    "\n",
    "\t\t        ## extend end point\n",
    "\t\t        ns = tree.query([[a1,r1]], k=min(20,min_num_neighbours), return_distance=False)\n",
    "\t\t        ns = np.concatenate(ns)\n",
    "\n",
    "\t\t        direction = np.arctan2(r[ns]-r1,a[ns]-a1)\n",
    "\t\t        ns = ns[(r[ns]-r1>0.01) &(np.fabs(direction-direction1)<0.04)] \n",
    "\t\t        \n",
    "\t\t        for n in ns:\n",
    "\t\t            df.loc[ df.hit_id==hit_ids[n],'track_id' ] = p\n",
    "\t\t#print ('\\r')\n",
    "\t\tdf = df[['event_id', 'hit_id', 'track_id']]\n",
    "\t\treturn df\n"
   ]
  },
  {
   "cell_type": "code",
   "execution_count": 15,
   "metadata": {},
   "outputs": [],
   "source": [
    "def create_one_event_submission(event_id, hits, labels):\n",
    "    sub_data = np.column_stack(([event_id]*len(hits), hits, labels))\n",
    "    submission = pd.DataFrame(data=sub_data, columns=[\"event_id\", \"hit_id\", \"track_id\"]).astype(int)\n",
    "    return submission"
   ]
  },
  {
   "cell_type": "code",
   "execution_count": 16,
   "metadata": {},
   "outputs": [],
   "source": [
    "def merge(cl1, cl2, min_cnt): # merge cluster 2 to cluster 1\n",
    "    d = pd.DataFrame(data={'s1':cl1,'s2':cl2})\n",
    "    d['N1'] = d.groupby('s1')['s1'].transform('count')\n",
    "    d['N2'] = d.groupby('s2')['s2'].transform('count')\n",
    "    maxs1 = d['s1'].max()\n",
    "    cond = np.where((d['N2'].values>d['N1'].values) & (d['N2'].values<20) &  (d['N2'].values>min_cnt))\n",
    "    #cond = np.where((d['N2'].values>d['N1'].values) & (d['N2'].values<20) )\n",
    "\n",
    "    s1 = d['s1'].values \n",
    "    s1[cond] = d['s2'].values[cond]+maxs1 \n",
    "    return s1"
   ]
  },
  {
   "cell_type": "code",
   "execution_count": null,
   "metadata": {},
   "outputs": [],
   "source": []
  },
  {
   "cell_type": "code",
   "execution_count": 14,
   "metadata": {},
   "outputs": [],
   "source": [
    "z_result = np.load('predicts/200_zshift.npy')\n",
    "z_result = z_result[:, 0, :]\n",
    "\n",
    "result_53 = np.load('predicts/53_all.npy')\n",
    "result_53 = np.array(result_53)\n",
    "\n",
    "luis = np.load('predicts/luis_all.npy')"
   ]
  },
  {
   "cell_type": "code",
   "execution_count": 18,
   "metadata": {},
   "outputs": [],
   "source": [
    "result = np.load('predicts/luis_all_1000_event.npy')"
   ]
  },
  {
   "cell_type": "code",
   "execution_count": 30,
   "metadata": {},
   "outputs": [],
   "source": [
    "result_53 = np.load('predicts/53/0.npy')\n",
    "result_53 = np.array(result_53)"
   ]
  },
  {
   "cell_type": "code",
   "execution_count": 31,
   "metadata": {},
   "outputs": [
    {
     "data": {
      "text/plain": [
       "(2000, 100287)"
      ]
     },
     "execution_count": 31,
     "metadata": {},
     "output_type": "execute_result"
    }
   ],
   "source": [
    "result_53.shape"
   ]
  },
  {
   "cell_type": "code",
   "execution_count": 20,
   "metadata": {},
   "outputs": [
    {
     "data": {
      "text/plain": [
       "(3000, 120939)"
      ]
     },
     "execution_count": 20,
     "metadata": {},
     "output_type": "execute_result"
    }
   ],
   "source": [
    "result.shape"
   ]
  },
  {
   "cell_type": "code",
   "execution_count": 17,
   "metadata": {},
   "outputs": [
    {
     "data": {
      "text/plain": [
       "(338, 100287)"
      ]
     },
     "execution_count": 17,
     "metadata": {},
     "output_type": "execute_result"
    }
   ],
   "source": [
    "luis.shape"
   ]
  },
  {
   "cell_type": "code",
   "execution_count": 68,
   "metadata": {},
   "outputs": [],
   "source": [
    "result_53 = np.load('predicts/53_all.npy')\n",
    "result_luis = np.load('predicts/luis_all.npy')"
   ]
  },
  {
   "cell_type": "code",
   "execution_count": 62,
   "metadata": {},
   "outputs": [],
   "source": [
    "result = np.load('predicts/luis_all_13k.npy')"
   ]
  },
  {
   "cell_type": "code",
   "execution_count": 7,
   "metadata": {},
   "outputs": [
    {
     "data": {
      "text/plain": [
       "['event_8.npy',\n",
       " 'event_28.npy',\n",
       " 'event_93.npy',\n",
       " 'event_54.npy',\n",
       " 'event_118.npy',\n",
       " 'event_96.npy',\n",
       " 'event_7.npy',\n",
       " 'event_29.npy',\n",
       " 'event_102.npy',\n",
       " 'event_62.npy',\n",
       " 'event_66.npy',\n",
       " 'event_18.npy',\n",
       " 'event_99.npy',\n",
       " 'event_16.npy',\n",
       " 'event_76.npy',\n",
       " 'event_58.npy',\n",
       " 'event_4.npy',\n",
       " 'event_51.npy',\n",
       " 'event_98.npy',\n",
       " 'event_60.npy',\n",
       " 'event_49.npy',\n",
       " 'event_2.npy',\n",
       " 'event_95.npy',\n",
       " 'event_43.npy',\n",
       " 'event_81.npy',\n",
       " 'event_94.npy',\n",
       " 'event_86.npy',\n",
       " 'event_57.npy',\n",
       " 'event_15.npy',\n",
       " 'event_11.npy',\n",
       " 'event_71.npy',\n",
       " 'event_89.npy',\n",
       " 'event_56.npy',\n",
       " 'event_25.npy',\n",
       " 'event_44.npy',\n",
       " 'event_87.npy',\n",
       " 'event_5.npy',\n",
       " 'event_101.npy',\n",
       " 'event_46.npy',\n",
       " 'event_91.npy',\n",
       " 'event_74.npy',\n",
       " 'event_68.npy',\n",
       " 'event_107.npy',\n",
       " 'event_3.npy',\n",
       " 'event_123.npy',\n",
       " 'event_27.npy',\n",
       " 'event_42.npy',\n",
       " 'event_119.npy',\n",
       " 'event_47.npy',\n",
       " 'event_80.npy',\n",
       " 'event_55.npy',\n",
       " 'event_85.npy',\n",
       " 'event_82.npy',\n",
       " 'event_37.npy',\n",
       " 'event_64.npy',\n",
       " 'event_124.npy',\n",
       " 'event_14.npy',\n",
       " 'event_33.npy',\n",
       " 'event_23.npy',\n",
       " 'event_0.npy',\n",
       " 'event_26.npy',\n",
       " 'event_30.npy',\n",
       " 'event_111.npy',\n",
       " 'event_52.npy',\n",
       " 'event_100.npy',\n",
       " 'event_121.npy',\n",
       " 'event_69.npy',\n",
       " 'event_92.npy',\n",
       " 'event_70.npy',\n",
       " 'event_22.npy',\n",
       " 'event_61.npy',\n",
       " 'event_110.npy',\n",
       " 'event_88.npy',\n",
       " 'event_73.npy',\n",
       " 'event_75.npy',\n",
       " 'event_109.npy',\n",
       " 'event_32.npy',\n",
       " 'event_35.npy',\n",
       " 'event_40.npy',\n",
       " 'event_12.npy',\n",
       " 'event_83.npy',\n",
       " 'event_106.npy',\n",
       " 'event_84.npy',\n",
       " 'event_6.npy',\n",
       " 'event_38.npy',\n",
       " 'event_79.npy',\n",
       " 'event_67.npy',\n",
       " 'event_10.npy',\n",
       " 'event_53.npy',\n",
       " 'event_65.npy',\n",
       " 'event_9.npy',\n",
       " 'event_115.npy',\n",
       " 'event_120.npy',\n",
       " 'event_103.npy',\n",
       " 'event_72.npy',\n",
       " 'event_116.npy',\n",
       " 'event_113.npy',\n",
       " 'event_77.npy',\n",
       " 'event_1.npy',\n",
       " 'event_21.npy',\n",
       " 'event_24.npy',\n",
       " 'event_45.npy',\n",
       " 'event_108.npy',\n",
       " 'event_105.npy',\n",
       " 'event_31.npy',\n",
       " 'event_41.npy',\n",
       " 'event_117.npy',\n",
       " 'event_34.npy',\n",
       " 'event_112.npy',\n",
       " 'event_90.npy',\n",
       " 'event_63.npy',\n",
       " 'event_104.npy',\n",
       " 'event_78.npy',\n",
       " 'event_20.npy',\n",
       " 'event_48.npy',\n",
       " 'event_122.npy',\n",
       " 'event_17.npy',\n",
       " 'event_13.npy',\n",
       " 'event_50.npy',\n",
       " 'event_19.npy',\n",
       " 'event_59.npy',\n",
       " 'event_97.npy',\n",
       " 'event_36.npy',\n",
       " 'event_114.npy',\n",
       " 'event_39.npy']"
      ]
     },
     "execution_count": 7,
     "metadata": {},
     "output_type": "execute_result"
    }
   ],
   "source": [
    "os.listdir('predicts/test_1')"
   ]
  },
  {
   "cell_type": "code",
   "execution_count": 8,
   "metadata": {},
   "outputs": [],
   "source": [
    "result = np.load('predicts/test_1/event_0.npy')"
   ]
  },
  {
   "cell_type": "code",
   "execution_count": 69,
   "metadata": {},
   "outputs": [],
   "source": [
    "result = result_luis"
   ]
  },
  {
   "cell_type": "code",
   "execution_count": 71,
   "metadata": {},
   "outputs": [
    {
     "ename": "NameError",
     "evalue": "name 'hits' is not defined",
     "output_type": "error",
     "traceback": [
      "\u001b[0;31m---------------------------------------------------------------------------\u001b[0m",
      "\u001b[0;31mNameError\u001b[0m                                 Traceback (most recent call last)",
      "\u001b[0;32m<ipython-input-71-ef81f97a40f9>\u001b[0m in \u001b[0;36m<module>\u001b[0;34m()\u001b[0m\n\u001b[1;32m      6\u001b[0m         \u001b[0mlabels\u001b[0m \u001b[0;34m=\u001b[0m \u001b[0mmerge\u001b[0m\u001b[0;34m(\u001b[0m\u001b[0mlabels\u001b[0m\u001b[0;34m,\u001b[0m \u001b[0mresult\u001b[0m\u001b[0;34m[\u001b[0m\u001b[0mi\u001b[0m\u001b[0;34m]\u001b[0m\u001b[0;34m,\u001b[0m \u001b[0mk\u001b[0m\u001b[0;34m)\u001b[0m\u001b[0;34m\u001b[0m\u001b[0m\n\u001b[1;32m      7\u001b[0m \u001b[0;34m\u001b[0m\u001b[0m\n\u001b[0;32m----> 8\u001b[0;31m     \u001b[0msubmission\u001b[0m \u001b[0;34m=\u001b[0m \u001b[0mcreate_one_event_submission\u001b[0m\u001b[0;34m(\u001b[0m\u001b[0;36m0\u001b[0m\u001b[0;34m,\u001b[0m \u001b[0mhits\u001b[0m\u001b[0;34m[\u001b[0m\u001b[0;34m'hit_id'\u001b[0m\u001b[0;34m]\u001b[0m\u001b[0;34m.\u001b[0m\u001b[0mvalues\u001b[0m\u001b[0;34m,\u001b[0m \u001b[0mlabels\u001b[0m\u001b[0;34m)\u001b[0m\u001b[0;34m\u001b[0m\u001b[0m\n\u001b[0m\u001b[1;32m      9\u001b[0m     \u001b[0mprint\u001b[0m\u001b[0;34m(\u001b[0m\u001b[0mscore_event\u001b[0m\u001b[0;34m(\u001b[0m\u001b[0mtruth\u001b[0m\u001b[0;34m,\u001b[0m \u001b[0msubmission\u001b[0m\u001b[0;34m)\u001b[0m\u001b[0;34m)\u001b[0m\u001b[0;34m\u001b[0m\u001b[0m\n",
      "\u001b[0;31mNameError\u001b[0m: name 'hits' is not defined"
     ]
    }
   ],
   "source": [
    "result = np.array(result_luis)\n",
    "labels = range(result.shape[1])\n",
    "\n",
    "for k in [0]:\n",
    "    for i in range(len(result[:])):\n",
    "        labels = merge(labels, result[i], k)\n",
    "\n",
    "    submission = create_one_event_submission(0, hits['hit_id'].values, labels)\n",
    "    print(score_event(truth, submission))"
   ]
  },
  {
   "cell_type": "code",
   "execution_count": null,
   "metadata": {},
   "outputs": [],
   "source": [
    "0.5977835924474594\n",
    "0.5683607021832576"
   ]
  },
  {
   "cell_type": "code",
   "execution_count": 21,
   "metadata": {},
   "outputs": [],
   "source": [
    "from threading import Lock\n",
    "global lock\n",
    "lock = Lock()"
   ]
  },
  {
   "cell_type": "code",
   "execution_count": 24,
   "metadata": {},
   "outputs": [],
   "source": [
    "def deeper(i):\n",
    "    #print(i)\n",
    "    np.random.seed(i)\n",
    "    #result = p\n",
    "    lock.acquire()\n",
    "    np.random.shuffle(result)\n",
    "    lock.release()\n",
    "    labels = range(result.shape[1])\n",
    "\n",
    "    for k in [0]:\n",
    "        for i in range(len(result[:])):\n",
    "            labels = merge(labels, result[i], k)\n",
    "\n",
    "        #submission = create_one_event_submission(0, hits['hit_id'].values, labels)\n",
    "        #print(score_event(truth, submission))\n",
    "    return labels"
   ]
  },
  {
   "cell_type": "code",
   "execution_count": 55,
   "metadata": {},
   "outputs": [
    {
     "name": "stderr",
     "output_type": "stream",
     "text": [
      "  0%|          | 0/94941 [00:00<?, ?it/s]/usr/local/lib/python3.5/dist-packages/scipy/sparse/compressed.py:742: SparseEfficiencyWarning: Changing the sparsity structure of a csr_matrix is expensive. lil_matrix is more efficient.\n",
      "  SparseEfficiencyWarning)\n",
      "100%|██████████| 94941/94941 [02:06<00:00, 750.60it/s]\n"
     ]
    }
   ],
   "source": [
    "from itertools import permutations\n",
    "pairs = []\n",
    "for i in tqdm(np.unique(result[0])):\n",
    "    idxs = np.where(result[0] == i)[0]\n",
    "    for a, b in permutations(idxs, 2):\n",
    "        pairs += [[a, b]]\n",
    "        M[a, b] = 1"
   ]
  },
  {
   "cell_type": "code",
   "execution_count": 59,
   "metadata": {},
   "outputs": [
    {
     "data": {
      "text/plain": [
       "(array([     0,      1,      4, ..., 120926, 120935, 120938], dtype=int32),\n",
       " array([     0,   1419,     37, ..., 120918, 120442, 120449], dtype=int32))"
      ]
     },
     "execution_count": 59,
     "metadata": {},
     "output_type": "execute_result"
    }
   ],
   "source": [
    "M.nonzero()"
   ]
  },
  {
   "cell_type": "code",
   "execution_count": 65,
   "metadata": {},
   "outputs": [
    {
     "data": {
      "text/plain": [
       "matrix([[1, 1, 1, ..., 1, 1, 1]], dtype=int8)"
      ]
     },
     "execution_count": 65,
     "metadata": {},
     "output_type": "execute_result"
    }
   ],
   "source": [
    "M[M.nonzero()]"
   ]
  },
  {
   "cell_type": "code",
   "execution_count": 54,
   "metadata": {},
   "outputs": [
    {
     "data": {
      "text/plain": [
       "(97168, 2)"
      ]
     },
     "execution_count": 54,
     "metadata": {},
     "output_type": "execute_result"
    }
   ],
   "source": [
    "np.array(pairs).shape"
   ]
  },
  {
   "cell_type": "code",
   "execution_count": 50,
   "metadata": {},
   "outputs": [
    {
     "data": {
      "text/plain": [
       "[array([0]),\n",
       " array([   1, 1419]),\n",
       " array([2]),\n",
       " array([3]),\n",
       " array([ 4, 37]),\n",
       " array([ 5, 42]),\n",
       " array([    6,  1416,  1449,  3182,  3224,  5362,  5387,  7867,  7964,\n",
       "        10757, 10838, 10900, 13801]),\n",
       " array([ 7, 47]),\n",
       " array([   8, 1471, 3222]),\n",
       " array([9]),\n",
       " array([  10, 1418]),\n",
       " array([11]),\n",
       " array([  12, 1425]),\n",
       " array([  13, 1422]),\n",
       " array([  14, 1426]),\n",
       " array([15]),\n",
       " array([16]),\n",
       " array([17]),\n",
       " array([  18, 1431]),\n",
       " array([  19, 1417]),\n",
       " array([   20,    44,  1451,  1510,  3239,  3278,  5408,  5486,  7946,\n",
       "         8030, 10774, 10909, 13818]),\n",
       " array([  21, 1443]),\n",
       " array([   22,  1445,  1447,  3178,  3195,  5337,  5347,  7874,  7879,\n",
       "        10758, 10800, 10827, 10860, 13722, 13752, 13795, 13814, 13869,\n",
       "        13896, 16790, 16792, 16820, 16833]),\n",
       " array([23]),\n",
       " array([   24,  1479,  3263,  5420,  7934, 10782, 10855, 13825, 13904,\n",
       "        16811]),\n",
       " array([25]),\n",
       " array([26]),\n",
       " array([27]),\n",
       " array([28, 53]),\n",
       " array([29]),\n",
       " array([30]),\n",
       " array([31]),\n",
       " array([   32,  1456,  3232,  5405,  7936, 10854, 13815, 13853, 13946,\n",
       "        16830]),\n",
       " array([   33,    49,  1494,  3219,  3287,  5410,  5471,  7963,  8037,\n",
       "        10844, 10932, 13872]),\n",
       " array([34]),\n",
       " array([35]),\n",
       " array([36]),\n",
       " array([38]),\n",
       " array([39, 68]),\n",
       " array([40, 64]),\n",
       " array([41]),\n",
       " array([43]),\n",
       " array([45]),\n",
       " array([  46, 1506]),\n",
       " array([48]),\n",
       " array([50]),\n",
       " array([51, 81]),\n",
       " array([52]),\n",
       " array([54]),\n",
       " array([55]),\n",
       " array([56, 78]),\n",
       " array([   57,    86,  1498,  3307,  5453,  8013, 10830, 10919, 13888,\n",
       "        13945]),\n",
       " array([58]),\n",
       " array([59]),\n",
       " array([ 60, 103]),\n",
       " array([61]),\n",
       " array([62]),\n",
       " array([63]),\n",
       " array([65]),\n",
       " array([ 66, 114]),\n",
       " array([   67,  1530,  3330,  5458,  5509,  8051,  8070, 10908, 11010,\n",
       "        11090, 13947, 14054, 14163]),\n",
       " array([ 69, 109]),\n",
       " array([70]),\n",
       " array([ 71, 118]),\n",
       " array([   72,  1528,  3290,  3346,  3392,  5463,  5541,  5600,  8015,\n",
       "         8075,  8171, 11031]),\n",
       " array([73]),\n",
       " array([ 74, 117]),\n",
       " array([75]),\n",
       " array([76]),\n",
       " array([77, 96]),\n",
       " array([79]),\n",
       " array([80]),\n",
       " array([82]),\n",
       " array([83]),\n",
       " array([84]),\n",
       " array([85]),\n",
       " array([   87,   100,  1534,  3349,  5489,  5532,  8011,  8117, 10907,\n",
       "        11028, 13993, 14060]),\n",
       " array([ 88, 123]),\n",
       " array([89]),\n",
       " array([ 90, 129]),\n",
       " array([91]),\n",
       " array([92]),\n",
       " array([ 93, 126]),\n",
       " array([ 94, 125]),\n",
       " array([95]),\n",
       " array([97]),\n",
       " array([   98,   127, 13982, 14042]),\n",
       " array([99]),\n",
       " array([  101,   130,  1545,  1589,  3328,  3389,  5514,  5590,  8125,\n",
       "         8153, 11020, 11104, 13956, 14019, 14119]),\n",
       " array([102]),\n",
       " array([ 104,  162, 1578, 1625, 3397, 3479, 5592, 5651, 8102, 8170, 8281]),\n",
       " array([  105,   154,  1593,  1640,  3398,  3473,  5611,  5666,  8114,\n",
       "         8194,  8240, 10967, 11125, 11172, 14059, 14146, 14212]),\n",
       " array([106]),\n",
       " array([107, 149]),\n",
       " array([108]),\n",
       " array([110, 163]),\n",
       " array([111]),\n",
       " array([112]),\n",
       " array([113]),\n",
       " array([ 115,  164, 1576, 1632, 3408, 3450, 5583, 5670, 8101, 8176, 8237]),\n",
       " array([  116,  1594,  3407,  5518,  5579,  8091,  8197,  8232, 11000,\n",
       "        11084, 11203, 14034, 14144, 14243]),\n",
       " array([119]),\n",
       " array([120]),\n",
       " array([121]),\n",
       " array([  122,   150,  1575,  1635,  3419,  3458,  5576,  5661,  8172,\n",
       "         8233, 10973, 11101, 11201, 14041, 14133, 14219]),\n",
       " array([  124,  1604,  5511,  5575,  8098,  8184, 10968, 11082, 14026,\n",
       "        14140]),\n",
       " array([128]),\n",
       " array([131]),\n",
       " array([132]),\n",
       " array([  133,  1605,  3385,  3432,  5542,  8079,  8159, 11024, 11119,\n",
       "        14076, 14168, 64561]),\n",
       " array([134, 143]),\n",
       " array([135]),\n",
       " array([136]),\n",
       " array([ 137, 1613]),\n",
       " array([138, 166]),\n",
       " array([139, 165]),\n",
       " array([140]),\n",
       " array([141]),\n",
       " array([142]),\n",
       " array([144]),\n",
       " array([145]),\n",
       " array([146]),\n",
       " array([ 147,  183, 1638, 1679, 3469, 3492, 5662, 5729, 5767, 8242, 8339,\n",
       "        8407]),\n",
       " array([148, 196]),\n",
       " array([151]),\n",
       " array([152, 190]),\n",
       " array([153, 192]),\n",
       " array([155]),\n",
       " array([156]),\n",
       " array([ 157,  182, 1631, 1674]),\n",
       " array([158, 180]),\n",
       " array([159, 195]),\n",
       " array([160]),\n",
       " array([161]),\n",
       " array([167]),\n",
       " array([168]),\n",
       " array([169, 198]),\n",
       " array([170, 202]),\n",
       " array([171]),\n",
       " array([ 172,  208, 3445]),\n",
       " array([173]),\n",
       " array([174]),\n",
       " array([175]),\n",
       " array([  176, 16904]),\n",
       " array([177]),\n",
       " array([178]),\n",
       " array([179, 226]),\n",
       " array([181, 222]),\n",
       " array([184]),\n",
       " array([185]),\n",
       " array([186, 191]),\n",
       " array([187]),\n",
       " array([188, 216]),\n",
       " array([189]),\n",
       " array([  193,  1665,  3506,  5711,  8325,  8397, 11214, 11289, 11345,\n",
       "        14256, 14292, 14416]),\n",
       " array([194]),\n",
       " array([197]),\n",
       " array([199]),\n",
       " array([200]),\n",
       " array([201]),\n",
       " array([203]),\n",
       " array([204]),\n",
       " array([205]),\n",
       " array([ 206,  212, 1670]),\n",
       " array([207]),\n",
       " array([209]),\n",
       " array([210]),\n",
       " array([211]),\n",
       " array([213, 228]),\n",
       " array([  214,  1708,  3533,  3537,  5707,  8330, 11162, 11268, 14261,\n",
       "        14337]),\n",
       " array([215]),\n",
       " array([217]),\n",
       " array([218]),\n",
       " array([ 219, 5694, 5762]),\n",
       " array([220]),\n",
       " array([221]),\n",
       " array([  223,  1715,  3521,  3547,  3603,  5726,  5779,  5821,  8342,\n",
       "         8372,  8443, 11236, 11313, 11386]),\n",
       " array([224, 251]),\n",
       " array([225]),\n",
       " array([227]),\n",
       " array([229]),\n",
       " array([230]),\n",
       " array([231]),\n",
       " array([232]),\n",
       " array([233, 237]),\n",
       " array([234]),\n",
       " array([235]),\n",
       " array([236]),\n",
       " array([238]),\n",
       " array([239]),\n",
       " array([240, 263]),\n",
       " array([241]),\n",
       " array([  242,  1741,  3576,  3583,  5794,  5802,  8381, 11312, 64679]),\n",
       " array([243]),\n",
       " array([244, 261]),\n",
       " array([245]),\n",
       " array([246]),\n",
       " array([247, 297]),\n",
       " array([ 248,  281, 1770, 1816, 3593, 3683, 5760, 5838, 5884, 8483, 8549]),\n",
       " array([ 249,  294, 1759, 1790, 3554, 3608, 3678, 5759, 5828, 5920, 8373,\n",
       "        8452, 8556]),\n",
       " array([250]),\n",
       " array([252]),\n",
       " array([253]),\n",
       " array([254, 283]),\n",
       " array([  255,   282,  1760,  1794,  3606,  3660,  5824,  5927,  8405,\n",
       "         8446,  8557, 11330, 11407, 11464]),\n",
       " array([256, 287]),\n",
       " array([257, 280]),\n",
       " array([258, 286]),\n",
       " array([259]),\n",
       " array([ 260, 1716, 1746]),\n",
       " array([262]),\n",
       " array([264]),\n",
       " array([265]),\n",
       " array([266]),\n",
       " array([267]),\n",
       " array([268]),\n",
       " array([269]),\n",
       " array([270]),\n",
       " array([ 271, 1777]),\n",
       " array([272, 300]),\n",
       " array([273]),\n",
       " array([274]),\n",
       " array([275]),\n",
       " array([276]),\n",
       " array([277, 316]),\n",
       " array([278]),\n",
       " array([279]),\n",
       " array([  284,  1798,  3610,  3667,  5833,  5918,  8450,  8543, 11408,\n",
       "        11478, 14400, 14475, 14568]),\n",
       " array([285]),\n",
       " array([ 288,  320, 3590, 3737]),\n",
       " array([ 289,  315, 1755, 1808, 1844, 3600, 3655, 3715, 5841, 5892, 5964,\n",
       "        8447, 8463, 8540, 8563, 8595, 8608]),\n",
       " array([290, 323]),\n",
       " array([291]),\n",
       " array([292, 310]),\n",
       " array([293]),\n",
       " array([295, 319]),\n",
       " array([296]),\n",
       " array([298]),\n",
       " array([299]),\n",
       " array([301, 340]),\n",
       " array([302, 339]),\n",
       " array([303, 343]),\n",
       " array([304]),\n",
       " array([  305,  8541, 11387, 11492, 14459, 14563]),\n",
       " array([306]),\n",
       " array([  307, 64722]),\n",
       " array([308, 332]),\n",
       " array([309]),\n",
       " array([311]),\n",
       " array([312]),\n",
       " array([313, 356]),\n",
       " array([314]),\n",
       " array([317, 360]),\n",
       " array([318, 364]),\n",
       " array([ 321, 1843]),\n",
       " array([322]),\n",
       " array([324]),\n",
       " array([325]),\n",
       " array([  326,  1865,  3673,  3721,  5904,  5956,  6050,  8579,  8638,\n",
       "         8669, 11493, 11558, 11596]),\n",
       " array([327, 363]),\n",
       " array([328]),\n",
       " array([329]),\n",
       " array([330, 359]),\n",
       " array([331, 347]),\n",
       " array([333, 352]),\n",
       " array([334]),\n",
       " array([335]),\n",
       " array([336, 354]),\n",
       " array([337]),\n",
       " array([ 338, 5939]),\n",
       " array([341]),\n",
       " array([342]),\n",
       " array([344]),\n",
       " array([ 345, 5972]),\n",
       " array([346]),\n",
       " array([348]),\n",
       " array([349, 380]),\n",
       " array([350]),\n",
       " array([351]),\n",
       " array([353]),\n",
       " array([355]),\n",
       " array([357]),\n",
       " array([358]),\n",
       " array([  361,   365,  1909,  3720,  3778,  5945,  6020,  8599,  8725,\n",
       "         8747, 11556, 11633, 11685]),\n",
       " array([362, 393]),\n",
       " array([366, 397]),\n",
       " array([367, 396]),\n",
       " array([368]),\n",
       " array([ 369, 1839, 1893, 3735, 3785, 5975, 6051, 8607, 8720]),\n",
       " array([370]),\n",
       " array([371]),\n",
       " array([372, 382]),\n",
       " array([373]),\n",
       " array([374]),\n",
       " array([375, 381]),\n",
       " array([376]),\n",
       " array([377, 386]),\n",
       " array([378]),\n",
       " array([379, 391]),\n",
       " array([383, 426]),\n",
       " array([ 384, 6065, 6071]),\n",
       " array([385]),\n",
       " array([387]),\n",
       " array([  388,   416, 11643, 11696]),\n",
       " array([389]),\n",
       " array([390, 415]),\n",
       " array([392]),\n",
       " array([394]),\n",
       " array([395]),\n",
       " array([398]),\n",
       " array([399]),\n",
       " array([400]),\n",
       " array([401]),\n",
       " array([402]),\n",
       " array([403]),\n",
       " array([404]),\n",
       " array([405]),\n",
       " array([406]),\n",
       " array([  407,   441,  1939,  1998,  3851,  3878,  6100,  6144,  8697,\n",
       "         8779,  8860, 11625, 11726, 11760]),\n",
       " array([ 408,  439, 6115, 6160]),\n",
       " array([  409,  1902,  1954,  3766,  3842,  6025,  6112,  6180,  8706,\n",
       "         8759,  8839, 11637, 11732, 11807]),\n",
       " array([410]),\n",
       " array([411]),\n",
       " array([412, 433]),\n",
       " array([  413,  1951,  3833,  6036,  6118,  6141,  8711,  8771,  8828,\n",
       "        11612, 11730, 11772, 14699, 14766, 14819]),\n",
       " array([414]),\n",
       " array([ 417, 3839]),\n",
       " array([418]),\n",
       " array([419]),\n",
       " array([420]),\n",
       " array([421, 449]),\n",
       " array([422]),\n",
       " array([423]),\n",
       " array([424, 446]),\n",
       " array([425, 452]),\n",
       " array([ 427,  469, 1983, 3891, 3941, 6185, 6239, 6288, 8812, 8916]),\n",
       " array([428, 443]),\n",
       " array([  429,  1980,  3824,  3868,  3922,  6108,  6164,  6244,  8781,\n",
       "         8817,  8921, 11714, 11795, 11871]),\n",
       " array([430]),\n",
       " array([ 431, 1992]),\n",
       " array([432, 477]),\n",
       " array([434]),\n",
       " array([435, 479]),\n",
       " array([436]),\n",
       " array([437, 470]),\n",
       " array([438, 474]),\n",
       " array([440]),\n",
       " array([442, 476]),\n",
       " array([  444,   472,  1996,  2041,  3888,  3946,  6171,  6233,  8767,\n",
       "         8858,  8907, 11684, 11788, 11884]),\n",
       " array([445]),\n",
       " array([447, 461]),\n",
       " array([  448,   464,  2005,  2025,  3870,  6113,  6152,  8761, 11686,\n",
       "        11767, 14736, 14805]),\n",
       " array([450]),\n",
       " array([  451, 63589]),\n",
       " array([453]),\n",
       " array([454]),\n",
       " array([455, 463]),\n",
       " array([456]),\n",
       " array([457]),\n",
       " array([458]),\n",
       " array([459]),\n",
       " array([460]),\n",
       " array([462]),\n",
       " array([465, 489]),\n",
       " array([ 466,  525, 2027, 2082, 3950, 4001, 6158, 6217, 6302, 8846, 8885,\n",
       "        8979]),\n",
       " array([467]),\n",
       " array([468, 508]),\n",
       " array([471]),\n",
       " array([473]),\n",
       " array([475, 517]),\n",
       " array([478]),\n",
       " array([480, 511]),\n",
       " array([481]),\n",
       " array([ 482,  524, 2033, 2085, 3879, 3916, 3989, 6178, 6245, 6299, 8809,\n",
       "        8900, 9017]),\n",
       " array([483]),\n",
       " array([484]),\n",
       " array([485, 514]),\n",
       " array([486]),\n",
       " array([487]),\n",
       " array([488]),\n",
       " array([490]),\n",
       " array([491]),\n",
       " array([492, 495]),\n",
       " array([493, 498]),\n",
       " array([494, 502]),\n",
       " array([496]),\n",
       " array([497, 531]),\n",
       " array([499]),\n",
       " array([500]),\n",
       " array([501, 532]),\n",
       " array([503]),\n",
       " array([504, 530]),\n",
       " array([505]),\n",
       " array([  506,  3960,  3969,  6267,  6277,  8886, 11854, 14896]),\n",
       " array([507, 558]),\n",
       " array([509, 555]),\n",
       " array([510]),\n",
       " array([512]),\n",
       " array([513]),\n",
       " array([515]),\n",
       " array([ 516,  546, 2091, 2120]),\n",
       " array([518]),\n",
       " array([519]),\n",
       " array([520]),\n",
       " array([521]),\n",
       " array([522, 553]),\n",
       " array([523]),\n",
       " array([526, 536]),\n",
       " array([527, 541]),\n",
       " array([528]),\n",
       " array([529]),\n",
       " array([533]),\n",
       " array([534, 572]),\n",
       " array([  535,   568, 11947, 12051, 15001, 15064]),\n",
       " array([537]),\n",
       " array([538, 570]),\n",
       " array([539]),\n",
       " array([540, 560]),\n",
       " array([542]),\n",
       " array([543, 587]),\n",
       " array([544]),\n",
       " array([545]),\n",
       " array([547, 580]),\n",
       " array([548]),\n",
       " array([549]),\n",
       " array([550]),\n",
       " array([551, 578]),\n",
       " array([552]),\n",
       " array([554, 574]),\n",
       " array([  556,   576,  2127,  2164,  4044,  4091,  6353,  6423,  9059,\n",
       "         9148, 11965, 12037, 12092, 14984, 15055, 15102]),\n",
       " array([557]),\n",
       " array([559, 575]),\n",
       " array([561]),\n",
       " array([562]),\n",
       " array([  563,  2116,  2146, 11950, 12028]),\n",
       " array([564]),\n",
       " array([565]),\n",
       " array([566]),\n",
       " array([567, 590]),\n",
       " array([569, 597]),\n",
       " array([571, 600]),\n",
       " array([573]),\n",
       " array([577, 618]),\n",
       " array([579]),\n",
       " array([581]),\n",
       " array([ 582,  617, 2178, 2224, 4088, 4127, 6421, 6476]),\n",
       " array([583]),\n",
       " array([584, 622]),\n",
       " array([585, 607]),\n",
       " array([586]),\n",
       " array([588]),\n",
       " array([589]),\n",
       " array([591]),\n",
       " array([592]),\n",
       " array([593]),\n",
       " array([594, 603]),\n",
       " array([595]),\n",
       " array([596]),\n",
       " array([598]),\n",
       " array([599]),\n",
       " array([601, 625]),\n",
       " array([602]),\n",
       " array([  604,  2194,  2197,  4069,  6414,  9112, 12021, 12090, 15083,\n",
       "        15110]),\n",
       " array([605]),\n",
       " array([  606,   643,  2218,  2256,  4126,  4176,  6482,  6536,  9211,\n",
       "         9267, 12064, 12166, 12189, 15131, 15210, 15236]),\n",
       " array([608, 650]),\n",
       " array([609]),\n",
       " array([610]),\n",
       " array([611]),\n",
       " array([612]),\n",
       " array([613]),\n",
       " array([614]),\n",
       " array([615]),\n",
       " array([616, 640]),\n",
       " array([619]),\n",
       " array([620, 636]),\n",
       " array([621, 651]),\n",
       " array([  623,  2229,  4152,  6444,  6494,  9120,  9191, 12097, 12158,\n",
       "        15106, 15178]),\n",
       " array([624]),\n",
       " array([626, 628]),\n",
       " array([627, 629]),\n",
       " array([630, 665]),\n",
       " array([631]),\n",
       " array([632, 654]),\n",
       " array([  633,   664,  2259,  4183,  6462,  6540,  9193,  9262, 12170,\n",
       "        12230, 15185, 15274, 16884]),\n",
       " array([634]),\n",
       " array([635, 660]),\n",
       " array([637]),\n",
       " array([638]),\n",
       " array([639]),\n",
       " array([641, 673]),\n",
       " array([642]),\n",
       " array([644, 675]),\n",
       " array([645]),\n",
       " array([646]),\n",
       " array([647, 669]),\n",
       " array([648]),\n",
       " array([649]),\n",
       " array([652]),\n",
       " array([653]),\n",
       " array([655]),\n",
       " array([656]),\n",
       " array([657, 686]),\n",
       " array([658]),\n",
       " array([659]),\n",
       " array([661]),\n",
       " array([662]),\n",
       " array([663]),\n",
       " array([666]),\n",
       " array([667]),\n",
       " array([668]),\n",
       " array([670]),\n",
       " array([671]),\n",
       " array([672]),\n",
       " array([674, 712]),\n",
       " array([676]),\n",
       " array([ 677,  711, 2294, 2334, 4221, 4291, 6599, 6636, 9246, 9324, 9410]),\n",
       " array([ 678,  714, 2286, 2332, 4230, 4285]),\n",
       " array([679]),\n",
       " array([680]),\n",
       " array([  681,   697, 12262]),\n",
       " array([682]),\n",
       " array([683]),\n",
       " array([684, 695]),\n",
       " array([685]),\n",
       " array([687]),\n",
       " array([688]),\n",
       " array([ 689,  692, 2278]),\n",
       " array([690]),\n",
       " array([691]),\n",
       " array([693]),\n",
       " array([694, 720]),\n",
       " array([696]),\n",
       " array([698]),\n",
       " array([699]),\n",
       " array([ 700, 2299, 2323]),\n",
       " array([701, 740]),\n",
       " array([702, 752]),\n",
       " array([703]),\n",
       " array([704]),\n",
       " array([  705,   745,  2343,  2373,  4281,  6575,  6644,  6708,  9291,\n",
       "         9380,  9452, 12305, 12346, 12443]),\n",
       " array([706]),\n",
       " array([707]),\n",
       " array([708]),\n",
       " array([  709,  2340,  4234,  4274,  6567,  6629,  9326,  9401, 12261,\n",
       "        12381, 15306, 15435, 15496]),\n",
       " array([710]),\n",
       " array([713]),\n",
       " array([715, 753]),\n",
       " array([ 716,  727, 2349]),\n",
       " array([717, 734]),\n",
       " array([718]),\n",
       " array([719]),\n",
       " array([721]),\n",
       " array([722, 733]),\n",
       " array([  723,  2356,  4255,  4301,  6582,  9340,  9382, 12302, 12387,\n",
       "        15317, 15439, 65038]),\n",
       " array([724]),\n",
       " array([725]),\n",
       " array([  726,   766, 15421, 15484]),\n",
       " array([728, 759]),\n",
       " array([729]),\n",
       " array([730, 764]),\n",
       " array([731]),\n",
       " array([732, 760]),\n",
       " array([735]),\n",
       " array([736]),\n",
       " array([737, 784]),\n",
       " array([738]),\n",
       " array([739, 771]),\n",
       " array([741]),\n",
       " array([742]),\n",
       " array([743]),\n",
       " array([744]),\n",
       " array([746]),\n",
       " array([747]),\n",
       " array([748, 780]),\n",
       " array([  749,   777,  2392,  2423,  4336,  4408,  6737,  6777,  9472,\n",
       "         9537, 12433, 12487, 15425, 15471, 15548]),\n",
       " array([750]),\n",
       " array([751]),\n",
       " array([754]),\n",
       " array([755, 782]),\n",
       " array([756, 769]),\n",
       " array([757]),\n",
       " array([758]),\n",
       " array([ 761,  788, 6730]),\n",
       " array([762]),\n",
       " array([  763,   787,  2400,  2432,  4360,  6719,  9442, 12365, 12416,\n",
       "        15437, 15472]),\n",
       " array([765]),\n",
       " array([ 767, 2369]),\n",
       " array([768, 813]),\n",
       " array([770]),\n",
       " array([772]),\n",
       " array([773, 821]),\n",
       " array([774]),\n",
       " array([775, 809]),\n",
       " array([776]),\n",
       " array([778]),\n",
       " array([779]),\n",
       " array([781, 811]),\n",
       " array([783, 820]),\n",
       " array([ 785,  818, 2414, 2453, 4364, 4385, 4438, 6734, 6784, 6828, 9428,\n",
       "        9506, 9603]),\n",
       " array([786]),\n",
       " array([789]),\n",
       " array([  790,  2399,  2433,  4348,  6704,  9465, 12415, 15401, 15486]),\n",
       " array([791, 793]),\n",
       " array([792, 824]),\n",
       " array([794]),\n",
       " array([795]),\n",
       " array([796, 825]),\n",
       " array([797, 827]),\n",
       " array([798, 829]),\n",
       " array([799]),\n",
       " array([800, 828]),\n",
       " array([801]),\n",
       " array([802]),\n",
       " array([803]),\n",
       " array([804]),\n",
       " array([805, 866]),\n",
       " array([806]),\n",
       " array([807, 864]),\n",
       " array([808, 853]),\n",
       " array([810]),\n",
       " array([812]),\n",
       " array([814]),\n",
       " array([  815,  2451,  4457,  4516,  6807,  6909,  9615,  9667, 12479,\n",
       "        12595, 12683]),\n",
       " array([816]),\n",
       " array([817]),\n",
       " array([819, 863]),\n",
       " array([822]),\n",
       " array([  823,   862, 12512, 12556, 12679, 15557, 15655, 15706]),\n",
       " array([826]),\n",
       " array([830]),\n",
       " array([831]),\n",
       " array([832, 848]),\n",
       " array([833]),\n",
       " array([834]),\n",
       " array([835, 842]),\n",
       " array([836]),\n",
       " array([837, 849]),\n",
       " array([838]),\n",
       " array([839]),\n",
       " array([840, 879]),\n",
       " array([841]),\n",
       " array([843, 877]),\n",
       " array([844]),\n",
       " array([ 845, 2498]),\n",
       " array([ 846, 2486, 2492, 4478, 9616]),\n",
       " array([847]),\n",
       " array([  850,  4442,  6821,  9594, 12586, 15565, 15610, 15708]),\n",
       " array([851]),\n",
       " array([852]),\n",
       " array([854, 891]),\n",
       " array([855, 884]),\n",
       " array([856, 897]),\n",
       " array([857]),\n",
       " array([858, 886]),\n",
       " array([859]),\n",
       " array([ 860,  894, 2514, 2540]),\n",
       " array([861, 900]),\n",
       " array([865]),\n",
       " array([867]),\n",
       " array([868, 890]),\n",
       " array([869]),\n",
       " array([ 870,  899, 2521, 2544, 4461, 4512, 4554, 6850, 6877, 6949, 9608,\n",
       "        9657, 9743]),\n",
       " array([871, 895]),\n",
       " array([872, 874, 911]),\n",
       " array([873, 914]),\n",
       " array([875]),\n",
       " array([876]),\n",
       " array([878]),\n",
       " array([880]),\n",
       " array([881]),\n",
       " array([882]),\n",
       " array([883]),\n",
       " array([885]),\n",
       " array([887, 943]),\n",
       " array([888]),\n",
       " array([889, 937]),\n",
       " array([892]),\n",
       " array([893]),\n",
       " array([896]),\n",
       " array([898, 928]),\n",
       " array([901, 942]),\n",
       " array([902]),\n",
       " array([903]),\n",
       " array([904, 934]),\n",
       " array([905]),\n",
       " array([906]),\n",
       " array([907]),\n",
       " array([908, 923]),\n",
       " array([909]),\n",
       " array([910]),\n",
       " array([912]),\n",
       " array([913]),\n",
       " array([915]),\n",
       " array([ 916,  925, 2561, 4499, 4561, 6885, 6966]),\n",
       " array([917]),\n",
       " array([918]),\n",
       " array([919]),\n",
       " array([920]),\n",
       " array([921]),\n",
       " array([  922,  2558,  2577,  4582,  4585,  6956,  9644,  9758, 12637,\n",
       "        12702, 15682, 15751]),\n",
       " array([924]),\n",
       " array([926]),\n",
       " array([927, 978]),\n",
       " array([929]),\n",
       " array([ 930, 2537, 2603, 4543, 4619, 4692]),\n",
       " array([931, 971]),\n",
       " array([932, 984]),\n",
       " array([933]),\n",
       " array([ 935,  986, 2582, 2646]),\n",
       " array([936]),\n",
       " array([938, 981]),\n",
       " array([  939,   966,  2589,  2632,  4609,  4677,  7031,  7116,  9805,\n",
       "         9861, 12744, 12788, 12873, 15819]),\n",
       " array([940]),\n",
       " array([941, 968]),\n",
       " array([944]),\n",
       " array([945, 972]),\n",
       " array([946]),\n",
       " array([947]),\n",
       " array([948]),\n",
       " array([949]),\n",
       " array([950]),\n",
       " array([951]),\n",
       " array([952]),\n",
       " array([953]),\n",
       " array([954]),\n",
       " array([955]),\n",
       " array([956]),\n",
       " array([957]),\n",
       " array([958]),\n",
       " array([  959,  2612,  4639,  7018,  9723,  9780, 12723, 12797, 15763,\n",
       "        15820]),\n",
       " array([960]),\n",
       " array([961, 990]),\n",
       " array([962]),\n",
       " array([  963,  2622,  4620,  7025,  9785, 12746, 12772, 15740, 15830]),\n",
       " array([964, 989]),\n",
       " array([965]),\n",
       " array([ 967, 1005]),\n",
       " array([ 969, 1016]),\n",
       " array([ 970, 1019]),\n",
       " array([973]),\n",
       " array([974]),\n",
       " array([975]),\n",
       " array([ 976, 1008]),\n",
       " array([ 977, 1012]),\n",
       " array([979]),\n",
       " array([980]),\n",
       " array([982]),\n",
       " array([983]),\n",
       " array([ 985, 1010]),\n",
       " array([ 987, 1011]),\n",
       " array([988]),\n",
       " array([991]),\n",
       " array([ 992, 1003]),\n",
       " array([993]),\n",
       " array([994]),\n",
       " array([995]),\n",
       " array([996]),\n",
       " array([997]),\n",
       " array([ 998, 1024]),\n",
       " array([999]),\n",
       " array([1000]),\n",
       " array([1001]),\n",
       " array([1002, 2633, 2687, 4701, 4733, 7078, 7135, 9866, 9933]),\n",
       " array([1004, 1044, 2668, 2715]),\n",
       " array([1006]),\n",
       " array([1007, 1030]),\n",
       " array([1009]),\n",
       " array([1013, 1029]),\n",
       " array([1014]),\n",
       " array([1015]),\n",
       " array([1017, 1033]),\n",
       " array([1018, 1027]),\n",
       " array([1020]),\n",
       " array([1021]),\n",
       " array([1022]),\n",
       " array([1023]),\n",
       " array([1025, 1050]),\n",
       " array([1026]),\n",
       " array([1028]),\n",
       " array([1031, 1072]),\n",
       " array([1032, 1088]),\n",
       " array([1034]),\n",
       " array([1035]),\n",
       " array([1036]),\n",
       " array([1037]),\n",
       " array([1038, 2707]),\n",
       " array([1039]),\n",
       " array([1040, 1070]),\n",
       " array([1041, 1084]),\n",
       " array([1042]),\n",
       " array([1043, 1089]),\n",
       " array([ 1045,  1079,  2721,  2756,  4765,  4837,  7195,  7293,  9952,\n",
       "         9995, 10123]),\n",
       " array([1046, 1085]),\n",
       " array([1047]),\n",
       " array([1048, 1057]),\n",
       " array([ 1049,  2696,  2728,  4744,  7170,  9917, 12933, 13006, 15967,\n",
       "        16046]),\n",
       " array([1051, 1068]),\n",
       " array([1052]),\n",
       " array([1053]),\n",
       " array([1054]),\n",
       " array([1055]),\n",
       " array([1056, 1066]),\n",
       " array([1058, 1103]),\n",
       " array([ 1059, 65303]),\n",
       " array([1060]),\n",
       " array([1061, 1100]),\n",
       " array([1062]),\n",
       " array([1063]),\n",
       " array([1064]),\n",
       " array([1065, 1090]),\n",
       " array([1067, 1092]),\n",
       " array([1069]),\n",
       " array([1071]),\n",
       " array([1073, 1117]),\n",
       " array([1074]),\n",
       " array([1075]),\n",
       " array([1076]),\n",
       " array([1077]),\n",
       " array([1078]),\n",
       " array([1080]),\n",
       " array([1081]),\n",
       " array([1082]),\n",
       " array([1083]),\n",
       " array([1086]),\n",
       " array([ 1087,  1126,  2763,  2837,  4856,  4902,  7286,  7378, 10071,\n",
       "        10185, 13009, 13071, 13193]),\n",
       " array([1091]),\n",
       " array([1093]),\n",
       " array([1094]),\n",
       " array([1095]),\n",
       " array([1096, 1113]),\n",
       " array([1097, 1110]),\n",
       " array([1098]),\n",
       " array([1099, 2790]),\n",
       " array([1101]),\n",
       " array([1102, 1105]),\n",
       " array([1104]),\n",
       " array([1106, 1152]),\n",
       " array([ 1107,  1139,  2802,  4919,  7277,  7390, 10077, 10168]),\n",
       " array([1108]),\n",
       " array([1109]),\n",
       " array([ 1111,  1146,  2770,  2836,  4859,  4910,  7309,  7380, 10086,\n",
       "        10207, 13075, 13214, 16026, 16075, 16185]),\n",
       " array([1112, 1143]),\n",
       " array([1114, 1141]),\n",
       " array([1115]),\n",
       " array([1116]),\n",
       " array([1118]),\n",
       " array([1119, 1159]),\n",
       " array([1120]),\n",
       " array([1121]),\n",
       " array([1122]),\n",
       " array([1123]),\n",
       " array([1124, 1164]),\n",
       " array([1125]),\n",
       " array([1127, 1154]),\n",
       " array([1128]),\n",
       " array([1129, 1163]),\n",
       " array([1130, 1168]),\n",
       " array([1131]),\n",
       " array([1132, 1156]),\n",
       " array([ 1133,  2821,  2875,  4930,  4980,  7389,  7458, 10098, 10166,\n",
       "        10290, 13111, 13211, 13234, 16123, 16190, 16316]),\n",
       " array([1134, 1169]),\n",
       " array([1135]),\n",
       " array([1136, 1155]),\n",
       " array([1137]),\n",
       " array([ 1138,  2838,  4844,  4906,  7275,  7377,  7426, 10092, 10188,\n",
       "        10271, 13063, 13172, 13243]),\n",
       " array([1140]),\n",
       " array([1142]),\n",
       " array([1144]),\n",
       " array([1145, 1171]),\n",
       " array([1147]),\n",
       " array([1148, 2851]),\n",
       " array([1149]),\n",
       " array([1150]),\n",
       " array([1151, 4939]),\n",
       " array([1153]),\n",
       " array([1157, 1207]),\n",
       " array([1158]),\n",
       " array([1160]),\n",
       " array([1161]),\n",
       " array([ 1162, 13150, 13297, 13374]),\n",
       " array([1165, 1209]),\n",
       " array([1166]),\n",
       " array([ 1167,  1205,  2859,  2922,  4952,  5037,  7398,  7424,  7507,\n",
       "        10194, 10252, 10330]),\n",
       " array([1170]),\n",
       " array([ 1172,  2848,  2890,  4941,  5001,  7345, 10163, 13163, 16138,\n",
       "        16194]),\n",
       " array([1173, 1197]),\n",
       " array([1174]),\n",
       " array([1175]),\n",
       " array([1176]),\n",
       " array([1177]),\n",
       " array([1178, 1196]),\n",
       " array([1179, 1190]),\n",
       " array([1180]),\n",
       " array([1181]),\n",
       " array([1182]),\n",
       " array([1183]),\n",
       " array([1184]),\n",
       " array([1185]),\n",
       " array([1186]),\n",
       " array([1187, 1226]),\n",
       " array([1188]),\n",
       " array([1189]),\n",
       " array([1191]),\n",
       " array([1192]),\n",
       " array([1193, 1229, 2878, 4956, 7446]),\n",
       " array([1194, 1217]),\n",
       " array([1195]),\n",
       " array([1198]),\n",
       " array([1199, 1261]),\n",
       " array([1200, 1255]),\n",
       " array([1201, 1262]),\n",
       " array([1202, 1266]),\n",
       " array([1203]),\n",
       " array([1204]),\n",
       " array([1206, 1254]),\n",
       " array([1208, 1245]),\n",
       " array([ 1210,  2919,  4955,  5026,  7436,  7512,  7593, 10289, 10369,\n",
       "        10417, 13239, 13341, 13443]),\n",
       " array([1211]),\n",
       " array([1212]),\n",
       " array([ 1213,  2909,  4976,  5025,  5114,  7442,  7523,  7572, 10266,\n",
       "        10351, 10466, 13246, 13392, 13465]),\n",
       " array([1214, 1250]),\n",
       " array([1215]),\n",
       " array([1216]),\n",
       " array([1218]),\n",
       " array([ 1219,  1238,  2936,  5021,  7501,  7524, 10364, 13247, 13382,\n",
       "        16303, 16402, 16439]),\n",
       " array([1220, 1240]),\n",
       " array([1221, 1233]),\n",
       " array([1222]),\n",
       " array([1223, 1241]),\n",
       " array([1224]),\n",
       " array([ 1225,  2949,  5049,  7516, 10258, 10372, 13260, 13371, 16257,\n",
       "        16360]),\n",
       " array([1227]),\n",
       " array([ 1228, 17093]),\n",
       " array([1230]),\n",
       " array([1231]),\n",
       " array([1232]),\n",
       " array([1234]),\n",
       " array([1235]),\n",
       " array([1236, 1269]),\n",
       " array([1237, 1268]),\n",
       " array([1239]),\n",
       " array([ 1242, 65443]),\n",
       " array([1243, 1275]),\n",
       " array([1244]),\n",
       " array([1246]),\n",
       " array([1247]),\n",
       " array([1248]),\n",
       " array([1249]),\n",
       " array([1251, 1308]),\n",
       " array([ 1252,  1298,  2971,  3037,  5108,  5149,  7541,  7610,  7682,\n",
       "        10461, 10534]),\n",
       " array([1253, 1299]),\n",
       " array([1256]),\n",
       " array([1257]),\n",
       " array([1258, 1309]),\n",
       " array([1259]),\n",
       " array([1260, 1300]),\n",
       " array([1263]),\n",
       " array([1264, 1297]),\n",
       " array([1265]),\n",
       " array([1267]),\n",
       " array([1270, 1283]),\n",
       " array([ 1271,  1287, 13469]),\n",
       " array([ 1272,  2992,  5124,  7583, 10450, 13364, 13459, 16352, 16443,\n",
       "        17107]),\n",
       " array([1273]),\n",
       " array([ 1274, 13340, 13414]),\n",
       " array([ 1276,  2960,  3002, 10375, 10439]),\n",
       " array([1277, 1289]),\n",
       " array([1278, 1293]),\n",
       " array([1279]),\n",
       " array([1280]),\n",
       " array([1281]),\n",
       " array([1282]),\n",
       " array([1284]),\n",
       " array([1285]),\n",
       " array([ 1286, 64293]),\n",
       " array([1288]),\n",
       " array([1290]),\n",
       " array([1291]),\n",
       " array([1292]),\n",
       " array([1294]),\n",
       " array([1295]),\n",
       " array([1296]),\n",
       " array([1301]),\n",
       " array([1302]),\n",
       " array([1303, 1338]),\n",
       " array([1304, 1336, 3043, 3065]),\n",
       " array([1305, 1334]),\n",
       " array([1306, 1335]),\n",
       " array([1307, 1337]),\n",
       " array([1310]),\n",
       " array([1311]),\n",
       " array([1312]),\n",
       " array([1313]),\n",
       " array([1314, 1330]),\n",
       " array([1315, 1331]),\n",
       " array([1316]),\n",
       " array([1317, 1341]),\n",
       " array([1318, 3014, 3055]),\n",
       " array([1319]),\n",
       " ...]"
      ]
     },
     "execution_count": 50,
     "metadata": {},
     "output_type": "execute_result"
    }
   ],
   "source": [
    "idxs"
   ]
  },
  {
   "cell_type": "code",
   "execution_count": null,
   "metadata": {},
   "outputs": [],
   "source": []
  },
  {
   "cell_type": "code",
   "execution_count": null,
   "metadata": {},
   "outputs": [],
   "source": []
  },
  {
   "cell_type": "code",
   "execution_count": 33,
   "metadata": {},
   "outputs": [
    {
     "data": {
      "text/plain": [
       "(3000, 120939)"
      ]
     },
     "execution_count": 33,
     "metadata": {},
     "output_type": "execute_result"
    }
   ],
   "source": [
    "result.shape"
   ]
  },
  {
   "cell_type": "code",
   "execution_count": 67,
   "metadata": {},
   "outputs": [],
   "source": [
    "from scipy.sparse import csr_matrix\n",
    "M = csr_matrix((120939, 120939), dtype=np.int8)"
   ]
  },
  {
   "cell_type": "code",
   "execution_count": 36,
   "metadata": {},
   "outputs": [
    {
     "name": "stderr",
     "output_type": "stream",
     "text": [
      "/usr/local/lib/python3.5/dist-packages/scipy/sparse/compressed.py:742: SparseEfficiencyWarning: Changing the sparsity structure of a csr_matrix is expensive. lil_matrix is more efficient.\n",
      "  SparseEfficiencyWarning)\n"
     ]
    }
   ],
   "source": [
    "M[0, 0] += 1"
   ]
  },
  {
   "cell_type": "code",
   "execution_count": 39,
   "metadata": {},
   "outputs": [
    {
     "data": {
      "text/plain": [
       "<120939x120939 sparse matrix of type '<class 'numpy.int8'>'\n",
       "\twith 1 stored elements in Compressed Sparse Row format>"
      ]
     },
     "execution_count": 39,
     "metadata": {},
     "output_type": "execute_result"
    }
   ],
   "source": [
    "M"
   ]
  },
  {
   "cell_type": "code",
   "execution_count": null,
   "metadata": {},
   "outputs": [],
   "source": []
  },
  {
   "cell_type": "code",
   "execution_count": 36,
   "metadata": {},
   "outputs": [],
   "source": [
    "result = np.vstack([result_53, result_luis])\n"
   ]
  },
  {
   "cell_type": "code",
   "execution_count": 25,
   "metadata": {},
   "outputs": [
    {
     "name": "stderr",
     "output_type": "stream",
     "text": [
      "\n",
      "0it [00:00, ?it/s]\u001b[A\n",
      "1it [02:41, 161.66s/it]\u001b[A\n",
      "2it [02:44, 82.07s/it] \u001b[A\n",
      "9it [03:38, 24.28s/it]\u001b[A\n",
      "10it [03:38, 21.86s/it]\u001b[A"
     ]
    }
   ],
   "source": [
    "pool = Pool(processes=8)\n",
    "second = []\n",
    "for i in tqdm(pool.imap(deeper, range(10))):\n",
    "    second += [i]\n",
    "pool.close()\n",
    "second = np.array(second)"
   ]
  },
  {
   "cell_type": "code",
   "execution_count": 29,
   "metadata": {},
   "outputs": [],
   "source": [
    "np.save('predicts/1000_event.py', second)"
   ]
  },
  {
   "cell_type": "code",
   "execution_count": 56,
   "metadata": {},
   "outputs": [
    {
     "name": "stdout",
     "output_type": "stream",
     "text": [
      "0.5839686423543643\n"
     ]
    }
   ],
   "source": [
    "result = np.array(second)\n",
    "labels = range(result.shape[1])\n",
    "\n",
    "for k in [0]:\n",
    "    for i in range(len(result[:])):\n",
    "        labels = merge(labels, result[i], k)\n",
    "\n",
    "    submission = create_one_event_submission(0, hits['hit_id'].values, labels)\n",
    "    print(score_event(truth, submission))"
   ]
  },
  {
   "cell_type": "code",
   "execution_count": 57,
   "metadata": {},
   "outputs": [
    {
     "name": "stdout",
     "output_type": "stream",
     "text": [
      "0.6006789191280288\n"
     ]
    }
   ],
   "source": [
    "submission = extend(submission,hits)\n",
    "\n",
    "print(score_event(truth, submission))"
   ]
  },
  {
   "cell_type": "code",
   "execution_count": 58,
   "metadata": {},
   "outputs": [
    {
     "name": "stdout",
     "output_type": "stream",
     "text": [
      "0.6055490242024659\n"
     ]
    }
   ],
   "source": [
    "submission = extend(submission,hits)\n",
    "\n",
    "print(score_event(truth, submission))"
   ]
  },
  {
   "cell_type": "code",
   "execution_count": null,
   "metadata": {},
   "outputs": [],
   "source": []
  },
  {
   "cell_type": "code",
   "execution_count": 50,
   "metadata": {},
   "outputs": [
    {
     "name": "stdout",
     "output_type": "stream",
     "text": [
      "0.6332634287844977\n"
     ]
    }
   ],
   "source": [
    "submission = extend(submission,hits)\n",
    "\n",
    "print(score_event(truth, submission))"
   ]
  },
  {
   "cell_type": "code",
   "execution_count": 51,
   "metadata": {},
   "outputs": [
    {
     "name": "stdout",
     "output_type": "stream",
     "text": [
      "0.6384495204723458\n"
     ]
    }
   ],
   "source": [
    "submission = extend(submission,hits)\n",
    "\n",
    "print(score_event(truth, submission))"
   ]
  },
  {
   "cell_type": "code",
   "execution_count": 52,
   "metadata": {},
   "outputs": [
    {
     "name": "stdout",
     "output_type": "stream",
     "text": [
      "0.6389822860343759\n"
     ]
    }
   ],
   "source": [
    "submission = extend(submission,hits)\n",
    "\n",
    "print(score_event(truth, submission))"
   ]
  },
  {
   "cell_type": "code",
   "execution_count": null,
   "metadata": {},
   "outputs": [],
   "source": []
  },
  {
   "cell_type": "code",
   "execution_count": null,
   "metadata": {},
   "outputs": [],
   "source": []
  },
  {
   "cell_type": "code",
   "execution_count": 62,
   "metadata": {},
   "outputs": [
    {
     "name": "stdout",
     "output_type": "stream",
     "text": [
      "0.5627779192433786\n",
      "0.5617721875345107\n",
      "0.5634307926550272\n",
      "0.5615686496268391\n",
      "0.5629473823233996\n",
      "0.5624647783273607\n",
      "0.5637125711193076\n",
      "0.5617281078810507\n",
      "0.560673030178837\n",
      "0.5620484298484023\n"
     ]
    }
   ],
   "source": [
    "second = []\n",
    "for k in range(10):\n",
    "    result = np.vstack([result_53, result_luis])\n",
    "    np.random.shuffle(result)\n",
    "\n",
    "    #result = res0\n",
    "    labels = range(result.shape[1])\n",
    "\n",
    "    for k in [0]:\n",
    "        for i in range(len(result[:])):\n",
    "            labels = merge(labels, result[i], k)\n",
    "\n",
    "        submission = create_one_event_submission(0, hits['hit_id'].values, labels)\n",
    "        print(score_event(truth, submission))\n",
    "        \n",
    "    second += [labels]\n",
    "    "
   ]
  },
  {
   "cell_type": "code",
   "execution_count": 64,
   "metadata": {},
   "outputs": [
    {
     "name": "stdout",
     "output_type": "stream",
     "text": [
      "0.5793362234676419\n"
     ]
    }
   ],
   "source": [
    "result = np.array(second)\n",
    "labels = range(result.shape[1])\n",
    "\n",
    "for k in [0]:\n",
    "    for i in range(len(result[:])):\n",
    "        labels = merge(labels, result[i], k)\n",
    "\n",
    "    submission = create_one_event_submission(0, hits['hit_id'].values, labels)\n",
    "    print(score_event(truth, submission))"
   ]
  },
  {
   "cell_type": "code",
   "execution_count": 65,
   "metadata": {},
   "outputs": [
    {
     "name": "stdout",
     "output_type": "stream",
     "text": [
      "0.6020060898369067\n"
     ]
    }
   ],
   "source": [
    "submission = extend(submission,hits)\n",
    "\n",
    "print(score_event(truth, submission))"
   ]
  },
  {
   "cell_type": "code",
   "execution_count": 66,
   "metadata": {},
   "outputs": [
    {
     "name": "stdout",
     "output_type": "stream",
     "text": [
      "0.6073700798358106\n"
     ]
    }
   ],
   "source": [
    "submission = extend(submission,hits)\n",
    "\n",
    "print(score_event(truth, submission))"
   ]
  },
  {
   "cell_type": "code",
   "execution_count": 67,
   "metadata": {},
   "outputs": [
    {
     "name": "stdout",
     "output_type": "stream",
     "text": [
      "0.6084732685060847\n"
     ]
    }
   ],
   "source": [
    "submission = extend(submission,hits)\n",
    "\n",
    "print(score_event(truth, submission))"
   ]
  },
  {
   "cell_type": "code",
   "execution_count": 68,
   "metadata": {},
   "outputs": [
    {
     "name": "stdout",
     "output_type": "stream",
     "text": [
      "0.6089716249422316\n"
     ]
    }
   ],
   "source": [
    "submission = extend(submission,hits)\n",
    "\n",
    "print(score_event(truth, submission))"
   ]
  },
  {
   "cell_type": "code",
   "execution_count": null,
   "metadata": {},
   "outputs": [],
   "source": [
    "0.5464415834327985\n",
    "0.5452367041039137\n",
    "0.5117532610647899"
   ]
  },
  {
   "cell_type": "code",
   "execution_count": null,
   "metadata": {},
   "outputs": [],
   "source": [
    "0.6084732685060847"
   ]
  },
  {
   "cell_type": "code",
   "execution_count": 15,
   "metadata": {},
   "outputs": [],
   "source": [
    "import numpy as np"
   ]
  },
  {
   "cell_type": "code",
   "execution_count": 19,
   "metadata": {},
   "outputs": [
    {
     "data": {
      "text/plain": [
       "(10, 119016)"
      ]
     },
     "execution_count": 19,
     "metadata": {},
     "output_type": "execute_result"
    }
   ],
   "source": [
    "np.load('predicts/event_0.npy').shape"
   ]
  },
  {
   "cell_type": "code",
   "execution_count": 20,
   "metadata": {},
   "outputs": [
    {
     "data": {
      "text/plain": [
       "array([[  2858059,  12820535,    119017, ..., 272775373, 275123875,\n",
       "        274169210],\n",
       "       [   929991,  10930814,    119017, ...,  20191763, 268634766,\n",
       "        274638418],\n",
       "       [   381723, 250572701,    119017, ..., 275908894, 179724814,\n",
       "        273729412],\n",
       "       ...,\n",
       "       [   568198, 240070401,    119017, ..., 275263310, 270618380,\n",
       "        273643712],\n",
       "       [  3838831,  31216402,    119017, ..., 267654876, 270035751,\n",
       "        271840477],\n",
       "       [   891931,  14569677,    119017, ..., 274982333, 218622234,\n",
       "        275567520]])"
      ]
     },
     "execution_count": 20,
     "metadata": {},
     "output_type": "execute_result"
    }
   ],
   "source": [
    "np.load('predicts/event_0.npy')"
   ]
  },
  {
   "cell_type": "code",
   "execution_count": null,
   "metadata": {},
   "outputs": [],
   "source": []
  },
  {
   "cell_type": "code",
   "execution_count": 16,
   "metadata": {},
   "outputs": [],
   "source": [
    "tot = np.load('predicts/total.npy')\n"
   ]
  },
  {
   "cell_type": "code",
   "execution_count": 17,
   "metadata": {},
   "outputs": [
    {
     "data": {
      "text/plain": [
       "(201, 100287)"
      ]
     },
     "execution_count": 17,
     "metadata": {},
     "output_type": "execute_result"
    }
   ],
   "source": [
    "tot.shape"
   ]
  },
  {
   "cell_type": "code",
   "execution_count": 18,
   "metadata": {},
   "outputs": [
    {
     "name": "stdout",
     "output_type": "stream",
     "text": [
      "0.6181009325698372\n",
      "0.6185834646082384\n",
      "0.609313002578232\n",
      "0.6143053976691017\n",
      "0.6202792246183331\n",
      "0.6138796066679132\n",
      "0.6145178940037926\n",
      "0.6156359163813985\n",
      "0.6176519920828759\n",
      "0.6172558849625269\n"
     ]
    }
   ],
   "source": [
    "second = []\n",
    "for k in range(10):\n",
    "    result = tot\n",
    "    np.random.shuffle(result)\n",
    "\n",
    "    #result = res0\n",
    "    labels = range(result.shape[1])\n",
    "\n",
    "    for k in [0]:\n",
    "        for i in range(len(result[:])):\n",
    "            labels = merge(labels, result[i], k)\n",
    "\n",
    "        submission = create_one_event_submission(0, hits['hit_id'].values, labels)\n",
    "        submission = extend(submission,hits)\n",
    "        labels = submission['track_id'].values\n",
    "        print(score_event(truth, submission))\n",
    "        \n",
    "    second += [labels]"
   ]
  },
  {
   "cell_type": "code",
   "execution_count": 19,
   "metadata": {},
   "outputs": [
    {
     "name": "stdout",
     "output_type": "stream",
     "text": [
      "0.6289796583597507\n"
     ]
    }
   ],
   "source": [
    "result = np.array(second)\n",
    "labels = range(result.shape[1])\n",
    "\n",
    "for k in [0]:\n",
    "    for i in range(len(result[:])):\n",
    "        labels = merge(labels, result[i], k)\n",
    "\n",
    "    submission = create_one_event_submission(0, hits['hit_id'].values, labels)\n",
    "    print(score_event(truth, submission))"
   ]
  },
  {
   "cell_type": "code",
   "execution_count": 11,
   "metadata": {},
   "outputs": [
    {
     "name": "stdout",
     "output_type": "stream",
     "text": [
      "0.6015647245638243\n"
     ]
    }
   ],
   "source": [
    "result = np.array(tot)\n",
    "labels = range(result.shape[1])\n",
    "\n",
    "for k in [0]:\n",
    "    for i in range(len(result[:])):\n",
    "        labels = merge(labels, result[i], k)\n",
    "\n",
    "    submission = create_one_event_submission(0, hits['hit_id'].values, labels)\n",
    "    print(score_event(truth, submission))"
   ]
  },
  {
   "cell_type": "code",
   "execution_count": 20,
   "metadata": {},
   "outputs": [
    {
     "name": "stdout",
     "output_type": "stream",
     "text": [
      "0.6283711921504336\n"
     ]
    }
   ],
   "source": [
    "submission = extend(submission,hits)\n",
    "\n",
    "print(score_event(truth, submission))"
   ]
  },
  {
   "cell_type": "code",
   "execution_count": 21,
   "metadata": {},
   "outputs": [
    {
     "name": "stdout",
     "output_type": "stream",
     "text": [
      "0.6293434027846148\n"
     ]
    }
   ],
   "source": [
    "submission = extend(submission,hits)\n",
    "\n",
    "print(score_event(truth, submission))"
   ]
  },
  {
   "cell_type": "code",
   "execution_count": 22,
   "metadata": {},
   "outputs": [
    {
     "name": "stdout",
     "output_type": "stream",
     "text": [
      "0.6308982276201209\n"
     ]
    }
   ],
   "source": [
    "submission = extend(submission,hits)\n",
    "\n",
    "print(score_event(truth, submission))"
   ]
  },
  {
   "cell_type": "code",
   "execution_count": 23,
   "metadata": {},
   "outputs": [
    {
     "name": "stdout",
     "output_type": "stream",
     "text": [
      "0.6302840939445985\n"
     ]
    }
   ],
   "source": [
    "submission = extend(submission,hits)\n",
    "\n",
    "print(score_event(truth, submission))"
   ]
  },
  {
   "cell_type": "code",
   "execution_count": null,
   "metadata": {},
   "outputs": [],
   "source": [
    "0.6308982276201209"
   ]
  },
  {
   "cell_type": "code",
   "execution_count": null,
   "metadata": {},
   "outputs": [],
   "source": [
    "submission = create_one_event_submission(0, hits['hit_id'].values, labels)\n"
   ]
  },
  {
   "cell_type": "code",
   "execution_count": 24,
   "metadata": {},
   "outputs": [
    {
     "data": {
      "text/plain": [
       "60000"
      ]
     },
     "execution_count": 24,
     "metadata": {},
     "output_type": "execute_result"
    }
   ],
   "source": [
    "200*300"
   ]
  },
  {
   "cell_type": "code",
   "execution_count": 28,
   "metadata": {},
   "outputs": [
    {
     "data": {
      "text/plain": [
       "1.0416666666666667"
      ]
     },
     "execution_count": 28,
     "metadata": {},
     "output_type": "execute_result"
    }
   ],
   "source": [
    "10*200 / 60 /32"
   ]
  },
  {
   "cell_type": "code",
   "execution_count": 32,
   "metadata": {},
   "outputs": [
    {
     "data": {
      "text/plain": [
       "0.0015"
      ]
     },
     "execution_count": 32,
     "metadata": {},
     "output_type": "execute_result"
    }
   ],
   "source": [
    "0.000005 * 300"
   ]
  },
  {
   "cell_type": "code",
   "execution_count": 362,
   "metadata": {},
   "outputs": [
    {
     "name": "stdout",
     "output_type": "stream",
     "text": [
      "0.02946572701478705\n",
      "0.02946572701478705\n",
      "0.05727761228580784\n",
      "0.05727761228580784\n",
      "0.11534065410312926\n",
      "0.11534065410312926\n",
      "0.23344574246875743\n",
      "0.23344574246875743\n",
      "0.36729231106049864\n",
      "0.36729231106049864\n",
      "0.45506391156244447\n",
      "0.45506391156244447\n",
      "0.4944932151899727\n",
      "0.4944932151899727\n",
      "0.5049299479307393\n",
      "0.5049299479307393\n",
      "0.5073244085906707\n",
      "0.5073244085906707\n"
     ]
    }
   ],
   "source": [
    "#result = result_53\n",
    "labels = range(result.shape[1])\n",
    "\n",
    "for k in [18,16,14, 12, 10, 8, 6, 4, 0]:\n",
    "#for k in [15,10,5, 0]:\n",
    "    for i in range(len(result)):\n",
    "        labels = merge(labels, result[i], k)\n",
    "  \n",
    "    submission = create_one_event_submission(0, hits['hit_id'].values, labels)\n",
    "    print(score_event(truth, submission))\n",
    "    #submission = extend(submission,hits)\n",
    "    #submission = extend(submission,hits)\n",
    "\n",
    "    print(score_event(truth, submission))\n",
    "    \n",
    "    labels = submission['track_id'].values\n",
    "   "
   ]
  },
  {
   "cell_type": "code",
   "execution_count": 1,
   "metadata": {},
   "outputs": [
    {
     "ename": "NameError",
     "evalue": "name 'np' is not defined",
     "output_type": "error",
     "traceback": [
      "\u001b[0;31m---------------------------------------------------------------------------\u001b[0m",
      "\u001b[0;31mNameError\u001b[0m                                 Traceback (most recent call last)",
      "\u001b[0;32m<ipython-input-1-6fecebd0febc>\u001b[0m in \u001b[0;36m<module>\u001b[0;34m()\u001b[0m\n\u001b[0;32m----> 1\u001b[0;31m \u001b[0mnp\u001b[0m\u001b[0;34m\u001b[0m\u001b[0m\n\u001b[0m",
      "\u001b[0;31mNameError\u001b[0m: name 'np' is not defined"
     ]
    }
   ],
   "source": []
  },
  {
   "cell_type": "code",
   "execution_count": null,
   "metadata": {},
   "outputs": [],
   "source": []
  },
  {
   "cell_type": "code",
   "execution_count": 329,
   "metadata": {},
   "outputs": [
    {
     "name": "stdout",
     "output_type": "stream",
     "text": [
      "0.5848926941183028\n"
     ]
    }
   ],
   "source": [
    "submission = extend(submission,hits)\n",
    "print(score_event(truth, submission))"
   ]
  },
  {
   "cell_type": "code",
   "execution_count": 330,
   "metadata": {},
   "outputs": [
    {
     "name": "stdout",
     "output_type": "stream",
     "text": [
      "0.5850779423213555\n"
     ]
    }
   ],
   "source": [
    "submission = extend(submission,hits)\n",
    "print(score_event(truth, submission))"
   ]
  },
  {
   "cell_type": "code",
   "execution_count": 325,
   "metadata": {},
   "outputs": [
    {
     "name": "stdout",
     "output_type": "stream",
     "text": [
      "0.5850817906028537\n"
     ]
    }
   ],
   "source": [
    "submission = extend(submission,hits)\n",
    "print(score_event(truth, submission))"
   ]
  },
  {
   "cell_type": "code",
   "execution_count": 326,
   "metadata": {},
   "outputs": [
    {
     "name": "stdout",
     "output_type": "stream",
     "text": [
      "0.5853420574657813\n"
     ]
    }
   ],
   "source": [
    "submission = extend(submission,hits)\n",
    "print(score_event(truth, submission))"
   ]
  },
  {
   "cell_type": "code",
   "execution_count": 327,
   "metadata": {},
   "outputs": [
    {
     "name": "stdout",
     "output_type": "stream",
     "text": [
      "0.5855217023763549\n"
     ]
    }
   ],
   "source": [
    "submission = extend(submission,hits)\n",
    "print(score_event(truth, submission))"
   ]
  },
  {
   "cell_type": "code",
   "execution_count": 359,
   "metadata": {},
   "outputs": [],
   "source": []
  },
  {
   "cell_type": "code",
   "execution_count": 352,
   "metadata": {},
   "outputs": [
    {
     "name": "stdout",
     "output_type": "stream",
     "text": [
      "0.4913849820080143\n"
     ]
    }
   ],
   "source": [
    "labels1 = merge(labels_luis, labels, 0)\n",
    "submission = create_one_event_submission(0, hits['hit_id'].values, labels1)\n",
    "print(score_event(truth, submission))"
   ]
  },
  {
   "cell_type": "code",
   "execution_count": null,
   "metadata": {},
   "outputs": [],
   "source": [
    "0.5076282691673919\n",
    "0.5067205748968073\n",
    "0.4731231005334312"
   ]
  },
  {
   "cell_type": "code",
   "execution_count": null,
   "metadata": {},
   "outputs": [],
   "source": [
    "0.4912658962859528"
   ]
  },
  {
   "cell_type": "code",
   "execution_count": null,
   "metadata": {},
   "outputs": [],
   "source": [
    "result = result_53\n",
    "labels = range(z_result.shape[1])\n",
    "\n",
    "for k in [15,10,5, 0]:\n",
    "    for i in range(len(result)):\n",
    "        labels = merge(labels, result[i], k)\n",
    "  \n",
    "    submission = create_one_event_submission(0, hits['hit_id'].values, labels)\n",
    "    print(score_event(truth, submission))\n",
    "    submission = extend(submission,hits)\n",
    "    print(score_event(truth, submission))\n",
    "    \n",
    "    labels = submission['track_id'].values\n",
    "   "
   ]
  },
  {
   "cell_type": "code",
   "execution_count": 303,
   "metadata": {},
   "outputs": [],
   "source": [
    "submission = create_one_event_submission(0, hits['hit_id'].values, labels)"
   ]
  },
  {
   "cell_type": "code",
   "execution_count": 307,
   "metadata": {},
   "outputs": [
    {
     "data": {
      "text/plain": [
       "0.5102744886009511"
      ]
     },
     "execution_count": 307,
     "metadata": {},
     "output_type": "execute_result"
    }
   ],
   "source": [
    "score_event(truth, ext_sub)"
   ]
  },
  {
   "cell_type": "code",
   "execution_count": null,
   "metadata": {},
   "outputs": [],
   "source": [
    "0.5855217023763549\n",
    "0.5853420574657813\n",
    "0.5850817906028537\n",
    "0.5849290849426552\n",
    "0.5827447401532195\n",
    "0.5810983311646127\n",
    "0.5807878755572605\n",
    "0.5792614621063498\n",
    "0.5102744886009511"
   ]
  },
  {
   "cell_type": "code",
   "execution_count": 39,
   "metadata": {},
   "outputs": [
    {
     "data": {
      "text/plain": [
       "316.22776601683796"
      ]
     },
     "execution_count": 39,
     "metadata": {},
     "output_type": "execute_result"
    }
   ],
   "source": [
    "np.sqrt(100000)"
   ]
  },
  {
   "cell_type": "code",
   "execution_count": null,
   "metadata": {},
   "outputs": [],
   "source": []
  },
  {
   "cell_type": "code",
   "execution_count": null,
   "metadata": {},
   "outputs": [],
   "source": []
  },
  {
   "cell_type": "code",
   "execution_count": null,
   "metadata": {},
   "outputs": [],
   "source": []
  },
  {
   "cell_type": "code",
   "execution_count": null,
   "metadata": {},
   "outputs": [],
   "source": []
  },
  {
   "cell_type": "code",
   "execution_count": null,
   "metadata": {},
   "outputs": [],
   "source": []
  },
  {
   "cell_type": "code",
   "execution_count": null,
   "metadata": {},
   "outputs": [],
   "source": []
  },
  {
   "cell_type": "code",
   "execution_count": null,
   "metadata": {},
   "outputs": [],
   "source": []
  },
  {
   "cell_type": "code",
   "execution_count": null,
   "metadata": {},
   "outputs": [],
   "source": []
  },
  {
   "cell_type": "code",
   "execution_count": null,
   "metadata": {},
   "outputs": [],
   "source": []
  },
  {
   "cell_type": "code",
   "execution_count": null,
   "metadata": {},
   "outputs": [],
   "source": []
  },
  {
   "cell_type": "code",
   "execution_count": null,
   "metadata": {},
   "outputs": [],
   "source": []
  },
  {
   "cell_type": "code",
   "execution_count": null,
   "metadata": {},
   "outputs": [],
   "source": []
  },
  {
   "cell_type": "code",
   "execution_count": null,
   "metadata": {},
   "outputs": [],
   "source": []
  },
  {
   "cell_type": "code",
   "execution_count": null,
   "metadata": {},
   "outputs": [],
   "source": []
  },
  {
   "cell_type": "code",
   "execution_count": null,
   "metadata": {},
   "outputs": [],
   "source": []
  },
  {
   "cell_type": "code",
   "execution_count": null,
   "metadata": {},
   "outputs": [],
   "source": []
  }
 ],
 "metadata": {
  "kernelspec": {
   "display_name": "Python 3",
   "language": "python",
   "name": "python3"
  },
  "language_info": {
   "codemirror_mode": {
    "name": "ipython",
    "version": 3
   },
   "file_extension": ".py",
   "mimetype": "text/x-python",
   "name": "python",
   "nbconvert_exporter": "python",
   "pygments_lexer": "ipython3",
   "version": "3.5.2"
  }
 },
 "nbformat": 4,
 "nbformat_minor": 2
}
