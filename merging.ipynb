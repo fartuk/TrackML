{
 "cells": [
  {
   "cell_type": "code",
   "execution_count": 2,
   "metadata": {},
   "outputs": [],
   "source": [
    "from trackml.dataset import load_event\n",
    "from trackml.dataset import load_dataset\n",
    "import pandas as pd\n",
    "import numpy as np\n",
    "import matplotlib.pyplot as plt\n",
    "from mpl_toolkits.mplot3d import Axes3D\n",
    "import random\n",
    "\n",
    "\n",
    "%matplotlib inline\n",
    "import matplotlib.pyplot as plt\n",
    "import numpy as np\n",
    "import pandas as pd\n",
    "import os\n",
    "\n",
    "from trackml.dataset import load_event, load_dataset\n",
    "from trackml.score import score_event\n",
    "\n",
    "from tqdm import tqdm\n",
    "from sklearn.neighbors import KDTree"
   ]
  },
  {
   "cell_type": "code",
   "execution_count": 3,
   "metadata": {},
   "outputs": [],
   "source": [
    "cnt = 0\n",
    "for event_id, hits, cells, particles, truth in load_dataset('../storage/track_ml_data/train_5.zip'):\n",
    "    if cnt == 1:\n",
    "        break\n",
    "    cnt += 1"
   ]
  },
  {
   "cell_type": "code",
   "execution_count": 4,
   "metadata": {},
   "outputs": [],
   "source": [
    "\tdef extend(submission,hits):\n",
    "\n",
    "\t\tdf = submission.merge(hits,  on=['hit_id'], how='left')\n",
    "\t\tdf = df.assign(d = np.sqrt( df.x**2 + df.y**2 + df.z**2 ))\n",
    "\t\tdf = df.assign(r = np.sqrt( df.x**2 + df.y**2))\n",
    "\t\tdf = df.assign(arctan2 = np.arctan2(df.z, df.r))\n",
    "\n",
    "\t\tfor angle in range(-180,180,1):\n",
    "\n",
    "\t\t    #print ('\\r %f'%angle, end='',flush=True)\n",
    "\t\t    #df1 = df.loc[(df.arctan2>(angle-0.5)/180*np.pi) & (df.arctan2<(angle+0.5)/180*np.pi)]\n",
    "\t\t    df1 = df.loc[(df.arctan2>(angle-1.0)/180*np.pi) & (df.arctan2<(angle+1.0)/180*np.pi)]\n",
    "\n",
    "\t\t    min_num_neighbours = len(df1)\n",
    "\t\t    if min_num_neighbours<4: continue\n",
    "\n",
    "\t\t    hit_ids = df1.hit_id.values\n",
    "\t\t    x,y,z = df1.as_matrix(columns=['x', 'y', 'z']).T\n",
    "\t\t    r  = (x**2 + y**2)**0.5\n",
    "\t\t    r  = r/1000\n",
    "\t\t    a  = np.arctan2(y,x)\n",
    "\t\t    tree = KDTree(np.column_stack([a,r]), metric='euclidean')\n",
    "\n",
    "\t\t    track_ids = list(df1.track_id.unique())\n",
    "\t\t    num_track_ids = len(track_ids)\n",
    "\t\t    min_length=3\n",
    "\n",
    "\t\t    for i in range(num_track_ids):\n",
    "\t\t        p = track_ids[i]\n",
    "\t\t        if p==0: continue\n",
    "\n",
    "\t\t        idx = np.where(df1.track_id==p)[0]\n",
    "\t\t        if len(idx)<min_length: continue\n",
    "\n",
    "\t\t        if angle>0:\n",
    "\t\t            idx = idx[np.argsort( z[idx])]\n",
    "\t\t        else:\n",
    "\t\t            idx = idx[np.argsort(-z[idx])]\n",
    "\n",
    "\n",
    "\t\t        ## start and end points  ##\n",
    "\t\t        idx0,idx1 = idx[0],idx[-1]\n",
    "\t\t        a0 = a[idx0]\n",
    "\t\t        a1 = a[idx1]\n",
    "\t\t        r0 = r[idx0]\n",
    "\t\t        r1 = r[idx1]\n",
    "\n",
    "\t\t        da0 = a[idx[1]] - a[idx[0]]  #direction\n",
    "\t\t        dr0 = r[idx[1]] - r[idx[0]]\n",
    "\t\t        direction0 = np.arctan2(dr0,da0) \n",
    "\n",
    "\t\t        da1 = a[idx[-1]] - a[idx[-2]]\n",
    "\t\t        dr1 = r[idx[-1]] - r[idx[-2]]\n",
    "\t\t        direction1 = np.arctan2(dr1,da1) \n",
    "\n",
    "\t \n",
    "\t\t        ## extend start point\n",
    "\t\t        ns = tree.query([[a0,r0]], k=min(20,min_num_neighbours), return_distance=False)\n",
    "\t\t        ns = np.concatenate(ns)\n",
    "\t\t        direction = np.arctan2(r0-r[ns],a0-a[ns])\n",
    "\t\t        ns = ns[(r0-r[ns]>0.01) &(np.fabs(direction-direction0)<0.04)]\n",
    "\t   \n",
    "\t\t        for n in ns:\n",
    "\t\t            df.loc[ df.hit_id==hit_ids[n],'track_id' ] = p \n",
    "\n",
    "\t\t        ## extend end point\n",
    "\t\t        ns = tree.query([[a1,r1]], k=min(20,min_num_neighbours), return_distance=False)\n",
    "\t\t        ns = np.concatenate(ns)\n",
    "\n",
    "\t\t        direction = np.arctan2(r[ns]-r1,a[ns]-a1)\n",
    "\t\t        ns = ns[(r[ns]-r1>0.01) &(np.fabs(direction-direction1)<0.04)] \n",
    "\t\t        \n",
    "\t\t        for n in ns:\n",
    "\t\t            df.loc[ df.hit_id==hit_ids[n],'track_id' ] = p\n",
    "\t\t#print ('\\r')\n",
    "\t\tdf = df[['event_id', 'hit_id', 'track_id']]\n",
    "\t\treturn df\n"
   ]
  },
  {
   "cell_type": "code",
   "execution_count": 5,
   "metadata": {},
   "outputs": [],
   "source": [
    "def create_one_event_submission(event_id, hits, labels):\n",
    "    sub_data = np.column_stack(([event_id]*len(hits), hits, labels))\n",
    "    submission = pd.DataFrame(data=sub_data, columns=[\"event_id\", \"hit_id\", \"track_id\"]).astype(int)\n",
    "    return submission"
   ]
  },
  {
   "cell_type": "code",
   "execution_count": 6,
   "metadata": {},
   "outputs": [],
   "source": [
    "def merge(cl1, cl2, min_cnt): # merge cluster 2 to cluster 1\n",
    "    d = pd.DataFrame(data={'s1':cl1,'s2':cl2})\n",
    "    d['N1'] = d.groupby('s1')['s1'].transform('count')\n",
    "    d['N2'] = d.groupby('s2')['s2'].transform('count')\n",
    "    maxs1 = d['s1'].max()\n",
    "    cond = np.where((d['N2'].values>d['N1'].values) & (d['N2'].values<20) &  (d['N2'].values>min_cnt))\n",
    "    #cond = np.where((d['N2'].values>d['N1'].values) & (d['N2'].values<20) )\n",
    "\n",
    "    s1 = d['s1'].values \n",
    "    s1[cond] = d['s2'].values[cond]+maxs1 \n",
    "    return s1"
   ]
  },
  {
   "cell_type": "code",
   "execution_count": 367,
   "metadata": {},
   "outputs": [],
   "source": [
    "z_result = np.load('predicts/200_zshift.npy')\n",
    "z_result = z_result[:, 0, :]\n",
    "\n",
    "result_53 = np.load('predicts/53_all.npy')\n",
    "result_53 = np.array(result_53)\n",
    "\n",
    "luis = np.load('predicts/luis_all.npy')"
   ]
  },
  {
   "cell_type": "code",
   "execution_count": 368,
   "metadata": {},
   "outputs": [
    {
     "data": {
      "text/plain": [
       "(600, 100287)"
      ]
     },
     "execution_count": 368,
     "metadata": {},
     "output_type": "execute_result"
    }
   ],
   "source": [
    "result_53.shape"
   ]
  },
  {
   "cell_type": "code",
   "execution_count": 369,
   "metadata": {},
   "outputs": [
    {
     "data": {
      "text/plain": [
       "(201, 100287)"
      ]
     },
     "execution_count": 369,
     "metadata": {},
     "output_type": "execute_result"
    }
   ],
   "source": [
    "z_result.shape"
   ]
  },
  {
   "cell_type": "code",
   "execution_count": 370,
   "metadata": {},
   "outputs": [
    {
     "data": {
      "text/plain": [
       "(338, 100287)"
      ]
     },
     "execution_count": 370,
     "metadata": {},
     "output_type": "execute_result"
    }
   ],
   "source": [
    "luis.shape"
   ]
  },
  {
   "cell_type": "code",
   "execution_count": 7,
   "metadata": {},
   "outputs": [],
   "source": [
    "result = []\n",
    "for i in range(-100,101):\n",
    "    result += [np.load('predicts/53/{}.npy'.format(i))]\n",
    "\n",
    "result = np.array(result)\n",
    "result = result[:, 0, :]"
   ]
  },
  {
   "cell_type": "code",
   "execution_count": 9,
   "metadata": {},
   "outputs": [
    {
     "name": "stdout",
     "output_type": "stream",
     "text": [
      "0.04607091374792327\n"
     ]
    }
   ],
   "source": [
    "#result = result_53\n",
    "labels = range(result.shape[1])\n",
    "\n",
    "#for k in [18, 16, 14, 12, 10, 8, 6, 4, 0]:\n",
    "for k in [0]:\n",
    "    for i in range(len(result)):\n",
    "        labels = merge(labels, result[i], k)\n",
    "  \n",
    "    submission = create_one_event_submission(0, hits['hit_id'].values, labels)\n",
    "    print(score_event(truth, submission))"
   ]
  },
  {
   "cell_type": "code",
   "execution_count": null,
   "metadata": {},
   "outputs": [],
   "source": []
  },
  {
   "cell_type": "code",
   "execution_count": null,
   "metadata": {},
   "outputs": [],
   "source": [
    "0.547577784065302 result_53\n",
    "0.4912658962859528 z_result\n",
    "0.5071140015567802 luis"
   ]
  },
  {
   "cell_type": "code",
   "execution_count": 378,
   "metadata": {},
   "outputs": [],
   "source": [
    "result = np.vstack([z_result, luis])\n",
    "np.random.shuffle(result)"
   ]
  },
  {
   "cell_type": "code",
   "execution_count": 362,
   "metadata": {},
   "outputs": [
    {
     "name": "stdout",
     "output_type": "stream",
     "text": [
      "0.02946572701478705\n",
      "0.02946572701478705\n",
      "0.05727761228580784\n",
      "0.05727761228580784\n",
      "0.11534065410312926\n",
      "0.11534065410312926\n",
      "0.23344574246875743\n",
      "0.23344574246875743\n",
      "0.36729231106049864\n",
      "0.36729231106049864\n",
      "0.45506391156244447\n",
      "0.45506391156244447\n",
      "0.4944932151899727\n",
      "0.4944932151899727\n",
      "0.5049299479307393\n",
      "0.5049299479307393\n",
      "0.5073244085906707\n",
      "0.5073244085906707\n"
     ]
    }
   ],
   "source": [
    "#result = result_53\n",
    "labels = range(result.shape[1])\n",
    "\n",
    "for k in [18,16,14, 12, 10, 8, 6, 4, 0]:\n",
    "#for k in [15,10,5, 0]:\n",
    "    for i in range(len(result)):\n",
    "        labels = merge(labels, result[i], k)\n",
    "  \n",
    "    submission = create_one_event_submission(0, hits['hit_id'].values, labels)\n",
    "    print(score_event(truth, submission))\n",
    "    #submission = extend(submission,hits)\n",
    "    #submission = extend(submission,hits)\n",
    "\n",
    "    print(score_event(truth, submission))\n",
    "    \n",
    "    labels = submission['track_id'].values\n",
    "   "
   ]
  },
  {
   "cell_type": "code",
   "execution_count": 329,
   "metadata": {},
   "outputs": [
    {
     "name": "stdout",
     "output_type": "stream",
     "text": [
      "0.5848926941183028\n"
     ]
    }
   ],
   "source": [
    "submission = extend(submission,hits)\n",
    "print(score_event(truth, submission))"
   ]
  },
  {
   "cell_type": "code",
   "execution_count": 330,
   "metadata": {},
   "outputs": [
    {
     "name": "stdout",
     "output_type": "stream",
     "text": [
      "0.5850779423213555\n"
     ]
    }
   ],
   "source": [
    "submission = extend(submission,hits)\n",
    "print(score_event(truth, submission))"
   ]
  },
  {
   "cell_type": "code",
   "execution_count": 325,
   "metadata": {},
   "outputs": [
    {
     "name": "stdout",
     "output_type": "stream",
     "text": [
      "0.5850817906028537\n"
     ]
    }
   ],
   "source": [
    "submission = extend(submission,hits)\n",
    "print(score_event(truth, submission))"
   ]
  },
  {
   "cell_type": "code",
   "execution_count": 326,
   "metadata": {},
   "outputs": [
    {
     "name": "stdout",
     "output_type": "stream",
     "text": [
      "0.5853420574657813\n"
     ]
    }
   ],
   "source": [
    "submission = extend(submission,hits)\n",
    "print(score_event(truth, submission))"
   ]
  },
  {
   "cell_type": "code",
   "execution_count": 327,
   "metadata": {},
   "outputs": [
    {
     "name": "stdout",
     "output_type": "stream",
     "text": [
      "0.5855217023763549\n"
     ]
    }
   ],
   "source": [
    "submission = extend(submission,hits)\n",
    "print(score_event(truth, submission))"
   ]
  },
  {
   "cell_type": "code",
   "execution_count": 359,
   "metadata": {},
   "outputs": [],
   "source": []
  },
  {
   "cell_type": "code",
   "execution_count": 352,
   "metadata": {},
   "outputs": [
    {
     "name": "stdout",
     "output_type": "stream",
     "text": [
      "0.4913849820080143\n"
     ]
    }
   ],
   "source": [
    "labels1 = merge(labels_luis, labels, 0)\n",
    "submission = create_one_event_submission(0, hits['hit_id'].values, labels1)\n",
    "print(score_event(truth, submission))"
   ]
  },
  {
   "cell_type": "code",
   "execution_count": null,
   "metadata": {},
   "outputs": [],
   "source": [
    "0.5076282691673919\n",
    "0.5067205748968073\n",
    "0.4731231005334312"
   ]
  },
  {
   "cell_type": "code",
   "execution_count": null,
   "metadata": {},
   "outputs": [],
   "source": [
    "0.4912658962859528"
   ]
  },
  {
   "cell_type": "code",
   "execution_count": null,
   "metadata": {},
   "outputs": [],
   "source": [
    "result = result_53\n",
    "labels = range(z_result.shape[1])\n",
    "\n",
    "for k in [15,10,5, 0]:\n",
    "    for i in range(len(result)):\n",
    "        labels = merge(labels, result[i], k)\n",
    "  \n",
    "    submission = create_one_event_submission(0, hits['hit_id'].values, labels)\n",
    "    print(score_event(truth, submission))\n",
    "    submission = extend(submission,hits)\n",
    "    print(score_event(truth, submission))\n",
    "    \n",
    "    labels = submission['track_id'].values\n",
    "   "
   ]
  },
  {
   "cell_type": "code",
   "execution_count": 303,
   "metadata": {},
   "outputs": [],
   "source": [
    "submission = create_one_event_submission(0, hits['hit_id'].values, labels)"
   ]
  },
  {
   "cell_type": "code",
   "execution_count": 307,
   "metadata": {},
   "outputs": [
    {
     "data": {
      "text/plain": [
       "0.5102744886009511"
      ]
     },
     "execution_count": 307,
     "metadata": {},
     "output_type": "execute_result"
    }
   ],
   "source": [
    "score_event(truth, ext_sub)"
   ]
  },
  {
   "cell_type": "code",
   "execution_count": null,
   "metadata": {},
   "outputs": [],
   "source": [
    "0.5855217023763549\n",
    "0.5853420574657813\n",
    "0.5850817906028537\n",
    "0.5849290849426552\n",
    "0.5827447401532195\n",
    "0.5810983311646127\n",
    "0.5807878755572605\n",
    "0.5792614621063498\n",
    "0.5102744886009511"
   ]
  },
  {
   "cell_type": "code",
   "execution_count": 8,
   "metadata": {},
   "outputs": [],
   "source": []
  },
  {
   "cell_type": "code",
   "execution_count": null,
   "metadata": {},
   "outputs": [],
   "source": []
  },
  {
   "cell_type": "code",
   "execution_count": null,
   "metadata": {},
   "outputs": [],
   "source": []
  },
  {
   "cell_type": "code",
   "execution_count": null,
   "metadata": {},
   "outputs": [],
   "source": []
  },
  {
   "cell_type": "code",
   "execution_count": null,
   "metadata": {},
   "outputs": [],
   "source": []
  },
  {
   "cell_type": "code",
   "execution_count": null,
   "metadata": {},
   "outputs": [],
   "source": []
  },
  {
   "cell_type": "code",
   "execution_count": null,
   "metadata": {},
   "outputs": [],
   "source": []
  },
  {
   "cell_type": "code",
   "execution_count": null,
   "metadata": {},
   "outputs": [],
   "source": []
  },
  {
   "cell_type": "code",
   "execution_count": null,
   "metadata": {},
   "outputs": [],
   "source": []
  },
  {
   "cell_type": "code",
   "execution_count": null,
   "metadata": {},
   "outputs": [],
   "source": []
  },
  {
   "cell_type": "code",
   "execution_count": null,
   "metadata": {},
   "outputs": [],
   "source": []
  },
  {
   "cell_type": "code",
   "execution_count": null,
   "metadata": {},
   "outputs": [],
   "source": []
  },
  {
   "cell_type": "code",
   "execution_count": null,
   "metadata": {},
   "outputs": [],
   "source": []
  },
  {
   "cell_type": "code",
   "execution_count": null,
   "metadata": {},
   "outputs": [],
   "source": []
  },
  {
   "cell_type": "code",
   "execution_count": null,
   "metadata": {},
   "outputs": [],
   "source": []
  },
  {
   "cell_type": "code",
   "execution_count": null,
   "metadata": {},
   "outputs": [],
   "source": []
  },
  {
   "cell_type": "code",
   "execution_count": null,
   "metadata": {},
   "outputs": [],
   "source": []
  }
 ],
 "metadata": {
  "kernelspec": {
   "display_name": "Python 3",
   "language": "python",
   "name": "python3"
  },
  "language_info": {
   "codemirror_mode": {
    "name": "ipython",
    "version": 3
   },
   "file_extension": ".py",
   "mimetype": "text/x-python",
   "name": "python",
   "nbconvert_exporter": "python",
   "pygments_lexer": "ipython3",
   "version": "3.5.2"
  }
 },
 "nbformat": 4,
 "nbformat_minor": 2
}
